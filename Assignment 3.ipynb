{
 "nbformat": 4,
 "nbformat_minor": 0,
 "metadata": {
  "colab": {
   "provenance": []
  },
  "kernelspec": {
   "name": "python3",
   "language": "python",
   "display_name": "Python 3 (ipykernel)"
  },
  "language_info": {
   "name": "python"
  }
 },
 "cells": [
  {
   "cell_type": "markdown",
   "source": [
    "<a href=\"https://colab.research.google.com/github/shafayat1004/Data-Mining-Assignments/blob/main/Assignment%203.ipynb\" target=\"_parent\"><img src=\"https://colab.research.google.com/assets/colab-badge.svg\" alt=\"Open In Colab\"/></a>"
   ],
   "metadata": {
    "collapsed": false
   }
  },
  {
   "cell_type": "markdown",
   "source": [
    "# KMeans Clustering on Iris Dataset\n",
    "## 1910456 Mir Shafayat Ahmed                                                                                                     "
   ],
   "metadata": {
    "id": "CsvLrbDMV97W"
   }
  },
  {
   "cell_type": "code",
   "execution_count": 530,
   "outputs": [
    {
     "name": "stderr",
     "output_type": "stream",
     "text": [
      "A subdirectory or file -p already exists.\n",
      "Error occurred while processing: -p.\n",
      "A subdirectory or file iris already exists.\n",
      "Error occurred while processing: iris.\n",
      "  % Total    % Received % Xferd  Average Speed   Time    Time     Time  Current\n",
      "                                 Dload  Upload   Total   Spent    Left  Speed\n",
      "\n",
      "  0     0    0     0    0     0      0      0 --:--:-- --:--:-- --:--:--     0\n",
      "100  4551  100  4551    0     0   5296      0 --:--:-- --:--:-- --:--:--  5298\n",
      "100  4551  100  4551    0     0   5295      0 --:--:-- --:--:-- --:--:--  5298\n"
     ]
    }
   ],
   "source": [
    "!mkdir -p iris\n",
    "!curl \"https://raw.githubusercontent.com/shafayat1004/Data-Mining-Assignments/main/iris/bezdekIris.data\" --output iris/bezdekIris.data\n",
    "divider = \"--------------------------------------------------------------------------------------\""
   ],
   "metadata": {
    "collapsed": false,
    "ExecuteTime": {
     "end_time": "2023-09-04T13:21:22.270185600Z",
     "start_time": "2023-09-04T13:21:21.297424900Z"
    }
   }
  },
  {
   "cell_type": "code",
   "source": [
    "import numpy as np\n",
    "import pandas as pd\n",
    "import plotly.express as px\n",
    "pd.set_option('display.max_rows', None)"
   ],
   "metadata": {
    "id": "kH5Got1dWAno",
    "ExecuteTime": {
     "end_time": "2023-09-04T13:21:22.285936800Z",
     "start_time": "2023-09-04T13:21:22.267993700Z"
    }
   },
   "execution_count": 531,
   "outputs": []
  },
  {
   "cell_type": "markdown",
   "source": [
    "This is the pseudocode loads data from file and save in the numpy matrix. \n",
    "You can also use panda to read the dataset into numpy matrix. data matrix will have data points. Columns have features. Rows have data points  ClassLabel has the labels."
   ],
   "metadata": {
    "id": "QMeWajTXWF0_"
   }
  },
  {
   "cell_type": "code",
   "source": [
    "def load(iris_dataset_path):\n",
    "    column_names     = [\n",
    "        \"Sepal Length\",\n",
    "        \"Sepal Width\",\n",
    "        \"Petal Length\",\n",
    "        \"Petal Width\",\n",
    "        \"Class\"\n",
    "    ]\n",
    "    dataset = \\\n",
    "        pd.read_csv (\n",
    "            iris_dataset_path,\n",
    "            names = column_names\n",
    "        )\n",
    "    \n",
    "    data = dataset[[column_names[0], column_names[1], column_names[2], column_names[3]]]\n",
    "    class_label = dataset[column_names[4]]\n",
    "    \n",
    "    return data, class_label"
   ],
   "metadata": {
    "id": "RkLX9kQDWMLy",
    "ExecuteTime": {
     "end_time": "2023-09-04T13:21:22.304259400Z",
     "start_time": "2023-09-04T13:21:22.281933400Z"
    }
   },
   "execution_count": 532,
   "outputs": []
  },
  {
   "cell_type": "markdown",
   "source": [
    "simple centroid initialization function"
   ],
   "metadata": {
    "id": "RvgJK_f_WOlP"
   }
  },
  {
   "cell_type": "code",
   "source": [
    "def initialize_centroids_simple(data, dimension_of_data, no_of_clusters):\n",
    "    #centroids: [[centroid0:  3 dimensions, , , ]; [centroid1: 3 dimensions ] ... ..]\n",
    "    centroids = np.zeros((no_of_clusters, dimension_of_data))\n",
    "    \n",
    "    random_indexes = np.random.permutation(len(data))                                                # Selecting random data points for each initial Centroid\n",
    "    for i in range(no_of_clusters):\n",
    "        centroids[i] = data.iloc[random_indexes[i]]\n",
    "        \n",
    "    print(f\"Initialized Random Centroids =\\n{centroids}\")\n",
    "    print(divider)\n",
    "    \n",
    "    return centroids"
   ],
   "metadata": {
    "id": "xZm_BPcEWTlh",
    "ExecuteTime": {
     "end_time": "2023-09-04T13:21:22.319286Z",
     "start_time": "2023-09-04T13:21:22.298933200Z"
    }
   },
   "execution_count": 533,
   "outputs": []
  },
  {
   "cell_type": "markdown",
   "source": [
    "Centroid initilization using min max"
   ],
   "metadata": {
    "id": "ZLyNeHzdWnTo"
   }
  },
  {
   "cell_type": "markdown",
   "source": [
    "Calculate eucledian distance"
   ],
   "metadata": {
    "id": "J3vAsctEWwYP"
   }
  },
  {
   "cell_type": "code",
   "source": [
    "def get_euclidean_distance(vector1, vector2):\n",
    "    difference = vector1 - vector2\n",
    "    sum_of_squared_diff = np.dot (difference, difference)\n",
    "    distance = np.sqrt(sum_of_squared_diff)\n",
    "    \n",
    "    return distance"
   ],
   "metadata": {
    "id": "VfZobkk-W2FA",
    "ExecuteTime": {
     "end_time": "2023-09-04T13:21:22.348366200Z",
     "start_time": "2023-09-04T13:21:22.314261100Z"
    }
   },
   "execution_count": 534,
   "outputs": []
  },
  {
   "cell_type": "code",
   "execution_count": 535,
   "outputs": [],
   "source": [
    "def clustering_objective (data, centroids):\n",
    "    total_sum = float(0)                                                                             # Initial total_sum is 0\n",
    "    for point in data:                                                                               # Iterating through each datapoint\n",
    "        total_sum += min([np.dot(point - centroid, point - centroid) for centroid in centroids])     # List comprehension to get a list of all the squared distances between...\n",
    "                                                                                                     # ...the current datapoint and each of the k centroids. Then using min()...\n",
    "                                                                                                     # ...to get the minimum distance and adding it to sum.\n",
    "    return total_sum/float(len(data))                                                                # J is found by dividing sum with the number of datapoints. 1/N * sum"
   ],
   "metadata": {
    "collapsed": false,
    "ExecuteTime": {
     "end_time": "2023-09-04T13:21:22.363368900Z",
     "start_time": "2023-09-04T13:21:22.328267100Z"
    }
   }
  },
  {
   "cell_type": "markdown",
   "source": [
    "KMeans Function\n"
   ],
   "metadata": {
    "id": "YvA2jiqiXBvv"
   }
  },
  {
   "cell_type": "code",
   "source": [
    "def kmeans(data, dimension_of_data, no_of_clusters, max_iterations):\n",
    "    no_of_features = np.size(data, 0)\n",
    "    \n",
    "    #centroids: [[centroid0:  , , ,3 dimensions, , , ],  [centroid1: , , ,3 dimensions, , , ],  ... ..]\n",
    "    centroids = initialize_centroids_simple(data, dimension_of_data, no_of_clusters)\n",
    "    #cluster_affiliation: cluster_affiliation = [clusternumber, clutsernumber, ..., ..., ..., ...]\n",
    "    \n",
    "    #initialize the cluster affiliations. Initially assign -1 \n",
    "    cluster_affiliation = (np.zeros(len(data)) - 1).astype(int)\n",
    "    print(f\"Initial Cluster Affiliation =\\n{cluster_affiliation}\")\n",
    "    print(divider)\n",
    "    \n",
    "    data = data.to_numpy()\n",
    "    \n",
    "    continue_loop = True\n",
    "    j_prev = np.inf                                                                                  # So that loop does not break immediately after first Iteration.\n",
    "    for iteration in range(max_iterations):                                                          # Setting a max limit of loops so that it is not infinite.\n",
    "        print(f\"Iteration {iteration}:\")\n",
    "        for i, point in enumerate(data): #use numpy equivalent code\n",
    "            \n",
    "            min_distance = float('inf')\n",
    "            min_distance_index = None\n",
    "\n",
    "            #find the closest centroids for each data points\n",
    "            for cluster_index, centroid in enumerate(centroids): #use numpy equivalent code\n",
    "                distance = get_euclidean_distance(centroid, point)\n",
    "                if distance < min_distance:\n",
    "                    min_distance = distance\n",
    "                    min_distance_index = cluster_index\n",
    "\n",
    "            #record or update cluster for each data points\n",
    "            if cluster_affiliation[i] != min_distance_index:\n",
    "               cluster_affiliation[i] = min_distance_index\n",
    "                \n",
    "        #recompute centroids\n",
    "        for cluster_index in range(no_of_clusters):                                                  # Iterating over all centroid indexes\n",
    "            grouped_points = data[cluster_affiliation == cluster_index]                              # The actual datapoints closest to the current centroid are extracted by using a boolean array \n",
    "            one_vector = np.ones(len(grouped_points))\n",
    "            centroids[cluster_index] = (np.dot(one_vector, grouped_points) / len(grouped_points))    # The new centroid is now the mean of the grouped datapoints\n",
    "\n",
    "        j = clustering_objective (data, centroids)\n",
    "    \n",
    "        print(f\"New centroids in this iteration =\\n{centroids}\")\n",
    "        print(f\"|J - J_prev| = {abs(j - j_prev)}\")\n",
    "        print(divider)\n",
    "        \n",
    "        if abs(j - j_prev) <= 10**(-5):                                                              # Breaks the loop if there is no significant change in the value of J over an iteration\n",
    "            break\n",
    "        j_prev = j                                                                                   # Updating J_prev for later iterations.\n",
    "\n",
    "    print(f\"Final Centroids =\\n{centroids}\")\n",
    "    print(f\"Final Cluster Affiliations =\\n{cluster_affiliation}\")\n",
    "    return centroids, cluster_affiliation\n"
   ],
   "metadata": {
    "id": "G-5U2bt-XI8g",
    "ExecuteTime": {
     "end_time": "2023-09-04T13:21:22.374371400Z",
     "start_time": "2023-09-04T13:21:22.357372400Z"
    }
   },
   "execution_count": 536,
   "outputs": []
  },
  {
   "cell_type": "markdown",
   "source": [
    "Driver funtion/Main Function"
   ],
   "metadata": {
    "id": "XduHk-N0XKQO"
   }
  },
  {
   "cell_type": "code",
   "execution_count": 537,
   "outputs": [],
   "source": [
    "def create_3d_scatter_plot_of_dataset (data, class_labels):\n",
    "    flower_names = class_labels.unique()\n",
    "    symbols_dict = {\n",
    "        flower_names[0] : \"square-open\",\n",
    "        flower_names[1] : \"diamond-open\",\n",
    "        flower_names[2] : \"circle-open\"\n",
    "    }\n",
    "\n",
    "    dataset_3d_plot = \\\n",
    "        px.scatter_3d (\n",
    "            title      = \"Dataset\",\n",
    "            data_frame = data,\n",
    "            x          = data.columns[0],\n",
    "            y          = data.columns[1],\n",
    "            z          = data.columns[2],\n",
    "            color      = class_labels,\n",
    "            height     = 600\n",
    "        )\n",
    "    \n",
    "    for i, d in enumerate(dataset_3d_plot.data):\n",
    "        dataset_3d_plot.data[i].marker.symbol = symbols_dict[dataset_3d_plot.data[i].name]\n",
    "    \n",
    "    return dataset_3d_plot"
   ],
   "metadata": {
    "collapsed": false,
    "ExecuteTime": {
     "end_time": "2023-09-04T13:21:22.384369300Z",
     "start_time": "2023-09-04T13:21:22.369368900Z"
    }
   }
  },
  {
   "cell_type": "code",
   "execution_count": 538,
   "outputs": [],
   "source": [
    "def create_3d_scatter_plot_showing_cluster_affiliation (data, cluster_affiliation):\n",
    "    clusters = np.unique(cluster_affiliation)\n",
    "    symbols_dict = {\n",
    "        clusters[0] : \"square-open\",\n",
    "        clusters[1] : \"diamond-open\",\n",
    "        clusters[2] : \"circle-open\"\n",
    "    }\n",
    "    \n",
    "    data[\"Cluster Affiliation\"] = cluster_affiliation\n",
    "\n",
    "    dataset_3d_plot = \\\n",
    "        px.scatter_3d (\n",
    "            title      = \"Cluster Affiliation\",\n",
    "            data_frame = data,\n",
    "            x          = data.columns[0],\n",
    "            y          = data.columns[1],\n",
    "            z          = data.columns[2],\n",
    "            color      = data.columns[3],\n",
    "            height     = 600\n",
    "        )\n",
    "    \n",
    "    for i, d in enumerate(dataset_3d_plot.data):\n",
    "        dataset_3d_plot.data[i].marker.symbol = symbols_dict[dataset_3d_plot.data[i].name]\n",
    "        \n",
    "    return dataset_3d_plot"
   ],
   "metadata": {
    "collapsed": false,
    "ExecuteTime": {
     "end_time": "2023-09-04T13:21:22.409385Z",
     "start_time": "2023-09-04T13:21:22.385365900Z"
    }
   }
  },
  {
   "cell_type": "code",
   "execution_count": 539,
   "outputs": [],
   "source": [
    "def get_most_frequent (arr):\n",
    "    return np.argmax(np.bincount(arr))\n",
    "\n",
    "def create_3d_scatter_plot_showing_wrong_affiliation (data, cluster_affiliation, class_labels):\n",
    "    data[\"Cluster Affiliation\"] = cluster_affiliation\n",
    "    data[\"Actual Class\"] = class_labels\n",
    "    most_common_affiliations = [get_most_frequent(cluster_affiliation[start : end]) for start, end in [(0, 50), (50, 100), (100, 150)]]\n",
    "    \n",
    "    affiliation_to_flower_name_dict ={\n",
    "        most_common_affiliations[0]: class_labels[0],\n",
    "        most_common_affiliations[1]: class_labels[50],\n",
    "        most_common_affiliations[2]: class_labels[100]\n",
    "    }\n",
    "\n",
    "    data[\"Cluster Affiliation\"] = data[\"Cluster Affiliation\"].map(affiliation_to_flower_name_dict)\n",
    "    data[\"Is Correct\"] = data[\"Cluster Affiliation\"] == data[\"Actual Class\"]\n",
    "    \n",
    "    print(\"Data:\")\n",
    "    display(data)\n",
    "    \n",
    "    cluster_correctness_3d_scatter_plot = \\\n",
    "        px.scatter_3d (\n",
    "            title      = \"Cluster Correctness\",\n",
    "            data_frame = data,\n",
    "            x          = data.columns[0],\n",
    "            y          = data.columns[1],\n",
    "            z          = data.columns[2],\n",
    "            color      = \"Is Correct\",\n",
    "            height     = 600\n",
    "        )\n",
    "    \n",
    "    if cluster_correctness_3d_scatter_plot.data[0].name == \"True\":\n",
    "        cluster_correctness_3d_scatter_plot.data[0].marker.color = \"green\"\n",
    "    else:\n",
    "        cluster_correctness_3d_scatter_plot.data[0].marker.color = \"red\"\n",
    "        \n",
    "    if cluster_correctness_3d_scatter_plot.data[1].name == \"True\":\n",
    "        cluster_correctness_3d_scatter_plot.data[1].marker.color = \"green\"\n",
    "    else:\n",
    "        cluster_correctness_3d_scatter_plot.data[1].marker.color = \"red\"\n",
    "\n",
    "    return cluster_correctness_3d_scatter_plot\n",
    "    "
   ],
   "metadata": {
    "collapsed": false,
    "ExecuteTime": {
     "end_time": "2023-09-04T13:21:22.418371800Z",
     "start_time": "2023-09-04T13:21:22.402366400Z"
    }
   }
  },
  {
   "cell_type": "code",
   "source": [
    "def main():\n",
    "    no_of_clusters = 3                                                                               # K clusters\n",
    "    print(f\"Number of clusters = {no_of_clusters}\")\n",
    "    \n",
    "    dataset_path = 'iris/bezdekIris.data'\n",
    "    \n",
    "    data, class_label = load(dataset_path)\n",
    "    print(divider)\n",
    "    print(f\"Data =\\n{data}\")\n",
    "    print(f\"Class Labels =\\n{class_label}\")\n",
    "    print(divider)\n",
    "    \n",
    "    dimension_of_data = np.size(data, 1)                                                             # number of  data dimension in the data\n",
    "    dimension_of_data = dimension_of_data - 1                                                        # We are using 3 dimensions\n",
    "    \n",
    "    print(f\"Dimensions being used = {dimension_of_data}\")\n",
    "    print(divider)\n",
    "\n",
    "    data_subset = data.iloc[:, : dimension_of_data]\n",
    "    print(f\"Data subset =\\n{data_subset}\")\n",
    "    print(divider)\n",
    "    \n",
    "    centroids, cluster_affiliation = kmeans(data_subset, dimension_of_data, no_of_clusters, 300)\n",
    "    dataset_3d_plot = create_3d_scatter_plot_of_dataset (data_subset, class_label)\n",
    "    dataset_3d_plot.show()\n",
    "    cluster_affiliation_3d_plot = create_3d_scatter_plot_showing_cluster_affiliation (data_subset, cluster_affiliation.astype(str))\n",
    "    cluster_affiliation_3d_plot.show()\n",
    "    cluster_correctness_3d_scatter_plot = create_3d_scatter_plot_showing_wrong_affiliation(data_subset, cluster_affiliation, class_label)\n",
    "    cluster_correctness_3d_scatter_plot.show()\n",
    "\t\n",
    "if __name__ == \"__main__\":\n",
    "\tmain()\n",
    "\t\t\t"
   ],
   "metadata": {
    "id": "kvq2KvqcXQOf",
    "ExecuteTime": {
     "end_time": "2023-09-04T13:21:22.626326300Z",
     "start_time": "2023-09-04T13:21:22.417372600Z"
    }
   },
   "execution_count": 540,
   "outputs": [
    {
     "name": "stdout",
     "output_type": "stream",
     "text": [
      "Number of clusters = 3\n",
      "--------------------------------------------------------------------------------------\n",
      "Data =\n",
      "     Sepal Length  Sepal Width  Petal Length  Petal Width\n",
      "0             5.1          3.5           1.4          0.2\n",
      "1             4.9          3.0           1.4          0.2\n",
      "2             4.7          3.2           1.3          0.2\n",
      "3             4.6          3.1           1.5          0.2\n",
      "4             5.0          3.6           1.4          0.2\n",
      "5             5.4          3.9           1.7          0.4\n",
      "6             4.6          3.4           1.4          0.3\n",
      "7             5.0          3.4           1.5          0.2\n",
      "8             4.4          2.9           1.4          0.2\n",
      "9             4.9          3.1           1.5          0.1\n",
      "10            5.4          3.7           1.5          0.2\n",
      "11            4.8          3.4           1.6          0.2\n",
      "12            4.8          3.0           1.4          0.1\n",
      "13            4.3          3.0           1.1          0.1\n",
      "14            5.8          4.0           1.2          0.2\n",
      "15            5.7          4.4           1.5          0.4\n",
      "16            5.4          3.9           1.3          0.4\n",
      "17            5.1          3.5           1.4          0.3\n",
      "18            5.7          3.8           1.7          0.3\n",
      "19            5.1          3.8           1.5          0.3\n",
      "20            5.4          3.4           1.7          0.2\n",
      "21            5.1          3.7           1.5          0.4\n",
      "22            4.6          3.6           1.0          0.2\n",
      "23            5.1          3.3           1.7          0.5\n",
      "24            4.8          3.4           1.9          0.2\n",
      "25            5.0          3.0           1.6          0.2\n",
      "26            5.0          3.4           1.6          0.4\n",
      "27            5.2          3.5           1.5          0.2\n",
      "28            5.2          3.4           1.4          0.2\n",
      "29            4.7          3.2           1.6          0.2\n",
      "30            4.8          3.1           1.6          0.2\n",
      "31            5.4          3.4           1.5          0.4\n",
      "32            5.2          4.1           1.5          0.1\n",
      "33            5.5          4.2           1.4          0.2\n",
      "34            4.9          3.1           1.5          0.2\n",
      "35            5.0          3.2           1.2          0.2\n",
      "36            5.5          3.5           1.3          0.2\n",
      "37            4.9          3.6           1.4          0.1\n",
      "38            4.4          3.0           1.3          0.2\n",
      "39            5.1          3.4           1.5          0.2\n",
      "40            5.0          3.5           1.3          0.3\n",
      "41            4.5          2.3           1.3          0.3\n",
      "42            4.4          3.2           1.3          0.2\n",
      "43            5.0          3.5           1.6          0.6\n",
      "44            5.1          3.8           1.9          0.4\n",
      "45            4.8          3.0           1.4          0.3\n",
      "46            5.1          3.8           1.6          0.2\n",
      "47            4.6          3.2           1.4          0.2\n",
      "48            5.3          3.7           1.5          0.2\n",
      "49            5.0          3.3           1.4          0.2\n",
      "50            7.0          3.2           4.7          1.4\n",
      "51            6.4          3.2           4.5          1.5\n",
      "52            6.9          3.1           4.9          1.5\n",
      "53            5.5          2.3           4.0          1.3\n",
      "54            6.5          2.8           4.6          1.5\n",
      "55            5.7          2.8           4.5          1.3\n",
      "56            6.3          3.3           4.7          1.6\n",
      "57            4.9          2.4           3.3          1.0\n",
      "58            6.6          2.9           4.6          1.3\n",
      "59            5.2          2.7           3.9          1.4\n",
      "60            5.0          2.0           3.5          1.0\n",
      "61            5.9          3.0           4.2          1.5\n",
      "62            6.0          2.2           4.0          1.0\n",
      "63            6.1          2.9           4.7          1.4\n",
      "64            5.6          2.9           3.6          1.3\n",
      "65            6.7          3.1           4.4          1.4\n",
      "66            5.6          3.0           4.5          1.5\n",
      "67            5.8          2.7           4.1          1.0\n",
      "68            6.2          2.2           4.5          1.5\n",
      "69            5.6          2.5           3.9          1.1\n",
      "70            5.9          3.2           4.8          1.8\n",
      "71            6.1          2.8           4.0          1.3\n",
      "72            6.3          2.5           4.9          1.5\n",
      "73            6.1          2.8           4.7          1.2\n",
      "74            6.4          2.9           4.3          1.3\n",
      "75            6.6          3.0           4.4          1.4\n",
      "76            6.8          2.8           4.8          1.4\n",
      "77            6.7          3.0           5.0          1.7\n",
      "78            6.0          2.9           4.5          1.5\n",
      "79            5.7          2.6           3.5          1.0\n",
      "80            5.5          2.4           3.8          1.1\n",
      "81            5.5          2.4           3.7          1.0\n",
      "82            5.8          2.7           3.9          1.2\n",
      "83            6.0          2.7           5.1          1.6\n",
      "84            5.4          3.0           4.5          1.5\n",
      "85            6.0          3.4           4.5          1.6\n",
      "86            6.7          3.1           4.7          1.5\n",
      "87            6.3          2.3           4.4          1.3\n",
      "88            5.6          3.0           4.1          1.3\n",
      "89            5.5          2.5           4.0          1.3\n",
      "90            5.5          2.6           4.4          1.2\n",
      "91            6.1          3.0           4.6          1.4\n",
      "92            5.8          2.6           4.0          1.2\n",
      "93            5.0          2.3           3.3          1.0\n",
      "94            5.6          2.7           4.2          1.3\n",
      "95            5.7          3.0           4.2          1.2\n",
      "96            5.7          2.9           4.2          1.3\n",
      "97            6.2          2.9           4.3          1.3\n",
      "98            5.1          2.5           3.0          1.1\n",
      "99            5.7          2.8           4.1          1.3\n",
      "100           6.3          3.3           6.0          2.5\n",
      "101           5.8          2.7           5.1          1.9\n",
      "102           7.1          3.0           5.9          2.1\n",
      "103           6.3          2.9           5.6          1.8\n",
      "104           6.5          3.0           5.8          2.2\n",
      "105           7.6          3.0           6.6          2.1\n",
      "106           4.9          2.5           4.5          1.7\n",
      "107           7.3          2.9           6.3          1.8\n",
      "108           6.7          2.5           5.8          1.8\n",
      "109           7.2          3.6           6.1          2.5\n",
      "110           6.5          3.2           5.1          2.0\n",
      "111           6.4          2.7           5.3          1.9\n",
      "112           6.8          3.0           5.5          2.1\n",
      "113           5.7          2.5           5.0          2.0\n",
      "114           5.8          2.8           5.1          2.4\n",
      "115           6.4          3.2           5.3          2.3\n",
      "116           6.5          3.0           5.5          1.8\n",
      "117           7.7          3.8           6.7          2.2\n",
      "118           7.7          2.6           6.9          2.3\n",
      "119           6.0          2.2           5.0          1.5\n",
      "120           6.9          3.2           5.7          2.3\n",
      "121           5.6          2.8           4.9          2.0\n",
      "122           7.7          2.8           6.7          2.0\n",
      "123           6.3          2.7           4.9          1.8\n",
      "124           6.7          3.3           5.7          2.1\n",
      "125           7.2          3.2           6.0          1.8\n",
      "126           6.2          2.8           4.8          1.8\n",
      "127           6.1          3.0           4.9          1.8\n",
      "128           6.4          2.8           5.6          2.1\n",
      "129           7.2          3.0           5.8          1.6\n",
      "130           7.4          2.8           6.1          1.9\n",
      "131           7.9          3.8           6.4          2.0\n",
      "132           6.4          2.8           5.6          2.2\n",
      "133           6.3          2.8           5.1          1.5\n",
      "134           6.1          2.6           5.6          1.4\n",
      "135           7.7          3.0           6.1          2.3\n",
      "136           6.3          3.4           5.6          2.4\n",
      "137           6.4          3.1           5.5          1.8\n",
      "138           6.0          3.0           4.8          1.8\n",
      "139           6.9          3.1           5.4          2.1\n",
      "140           6.7          3.1           5.6          2.4\n",
      "141           6.9          3.1           5.1          2.3\n",
      "142           5.8          2.7           5.1          1.9\n",
      "143           6.8          3.2           5.9          2.3\n",
      "144           6.7          3.3           5.7          2.5\n",
      "145           6.7          3.0           5.2          2.3\n",
      "146           6.3          2.5           5.0          1.9\n",
      "147           6.5          3.0           5.2          2.0\n",
      "148           6.2          3.4           5.4          2.3\n",
      "149           5.9          3.0           5.1          1.8\n",
      "Class Labels =\n",
      "0          Iris-setosa\n",
      "1          Iris-setosa\n",
      "2          Iris-setosa\n",
      "3          Iris-setosa\n",
      "4          Iris-setosa\n",
      "5          Iris-setosa\n",
      "6          Iris-setosa\n",
      "7          Iris-setosa\n",
      "8          Iris-setosa\n",
      "9          Iris-setosa\n",
      "10         Iris-setosa\n",
      "11         Iris-setosa\n",
      "12         Iris-setosa\n",
      "13         Iris-setosa\n",
      "14         Iris-setosa\n",
      "15         Iris-setosa\n",
      "16         Iris-setosa\n",
      "17         Iris-setosa\n",
      "18         Iris-setosa\n",
      "19         Iris-setosa\n",
      "20         Iris-setosa\n",
      "21         Iris-setosa\n",
      "22         Iris-setosa\n",
      "23         Iris-setosa\n",
      "24         Iris-setosa\n",
      "25         Iris-setosa\n",
      "26         Iris-setosa\n",
      "27         Iris-setosa\n",
      "28         Iris-setosa\n",
      "29         Iris-setosa\n",
      "30         Iris-setosa\n",
      "31         Iris-setosa\n",
      "32         Iris-setosa\n",
      "33         Iris-setosa\n",
      "34         Iris-setosa\n",
      "35         Iris-setosa\n",
      "36         Iris-setosa\n",
      "37         Iris-setosa\n",
      "38         Iris-setosa\n",
      "39         Iris-setosa\n",
      "40         Iris-setosa\n",
      "41         Iris-setosa\n",
      "42         Iris-setosa\n",
      "43         Iris-setosa\n",
      "44         Iris-setosa\n",
      "45         Iris-setosa\n",
      "46         Iris-setosa\n",
      "47         Iris-setosa\n",
      "48         Iris-setosa\n",
      "49         Iris-setosa\n",
      "50     Iris-versicolor\n",
      "51     Iris-versicolor\n",
      "52     Iris-versicolor\n",
      "53     Iris-versicolor\n",
      "54     Iris-versicolor\n",
      "55     Iris-versicolor\n",
      "56     Iris-versicolor\n",
      "57     Iris-versicolor\n",
      "58     Iris-versicolor\n",
      "59     Iris-versicolor\n",
      "60     Iris-versicolor\n",
      "61     Iris-versicolor\n",
      "62     Iris-versicolor\n",
      "63     Iris-versicolor\n",
      "64     Iris-versicolor\n",
      "65     Iris-versicolor\n",
      "66     Iris-versicolor\n",
      "67     Iris-versicolor\n",
      "68     Iris-versicolor\n",
      "69     Iris-versicolor\n",
      "70     Iris-versicolor\n",
      "71     Iris-versicolor\n",
      "72     Iris-versicolor\n",
      "73     Iris-versicolor\n",
      "74     Iris-versicolor\n",
      "75     Iris-versicolor\n",
      "76     Iris-versicolor\n",
      "77     Iris-versicolor\n",
      "78     Iris-versicolor\n",
      "79     Iris-versicolor\n",
      "80     Iris-versicolor\n",
      "81     Iris-versicolor\n",
      "82     Iris-versicolor\n",
      "83     Iris-versicolor\n",
      "84     Iris-versicolor\n",
      "85     Iris-versicolor\n",
      "86     Iris-versicolor\n",
      "87     Iris-versicolor\n",
      "88     Iris-versicolor\n",
      "89     Iris-versicolor\n",
      "90     Iris-versicolor\n",
      "91     Iris-versicolor\n",
      "92     Iris-versicolor\n",
      "93     Iris-versicolor\n",
      "94     Iris-versicolor\n",
      "95     Iris-versicolor\n",
      "96     Iris-versicolor\n",
      "97     Iris-versicolor\n",
      "98     Iris-versicolor\n",
      "99     Iris-versicolor\n",
      "100     Iris-virginica\n",
      "101     Iris-virginica\n",
      "102     Iris-virginica\n",
      "103     Iris-virginica\n",
      "104     Iris-virginica\n",
      "105     Iris-virginica\n",
      "106     Iris-virginica\n",
      "107     Iris-virginica\n",
      "108     Iris-virginica\n",
      "109     Iris-virginica\n",
      "110     Iris-virginica\n",
      "111     Iris-virginica\n",
      "112     Iris-virginica\n",
      "113     Iris-virginica\n",
      "114     Iris-virginica\n",
      "115     Iris-virginica\n",
      "116     Iris-virginica\n",
      "117     Iris-virginica\n",
      "118     Iris-virginica\n",
      "119     Iris-virginica\n",
      "120     Iris-virginica\n",
      "121     Iris-virginica\n",
      "122     Iris-virginica\n",
      "123     Iris-virginica\n",
      "124     Iris-virginica\n",
      "125     Iris-virginica\n",
      "126     Iris-virginica\n",
      "127     Iris-virginica\n",
      "128     Iris-virginica\n",
      "129     Iris-virginica\n",
      "130     Iris-virginica\n",
      "131     Iris-virginica\n",
      "132     Iris-virginica\n",
      "133     Iris-virginica\n",
      "134     Iris-virginica\n",
      "135     Iris-virginica\n",
      "136     Iris-virginica\n",
      "137     Iris-virginica\n",
      "138     Iris-virginica\n",
      "139     Iris-virginica\n",
      "140     Iris-virginica\n",
      "141     Iris-virginica\n",
      "142     Iris-virginica\n",
      "143     Iris-virginica\n",
      "144     Iris-virginica\n",
      "145     Iris-virginica\n",
      "146     Iris-virginica\n",
      "147     Iris-virginica\n",
      "148     Iris-virginica\n",
      "149     Iris-virginica\n",
      "Name: Class, dtype: object\n",
      "--------------------------------------------------------------------------------------\n",
      "Dimensions being used = 3\n",
      "--------------------------------------------------------------------------------------\n",
      "Data subset =\n",
      "     Sepal Length  Sepal Width  Petal Length\n",
      "0             5.1          3.5           1.4\n",
      "1             4.9          3.0           1.4\n",
      "2             4.7          3.2           1.3\n",
      "3             4.6          3.1           1.5\n",
      "4             5.0          3.6           1.4\n",
      "5             5.4          3.9           1.7\n",
      "6             4.6          3.4           1.4\n",
      "7             5.0          3.4           1.5\n",
      "8             4.4          2.9           1.4\n",
      "9             4.9          3.1           1.5\n",
      "10            5.4          3.7           1.5\n",
      "11            4.8          3.4           1.6\n",
      "12            4.8          3.0           1.4\n",
      "13            4.3          3.0           1.1\n",
      "14            5.8          4.0           1.2\n",
      "15            5.7          4.4           1.5\n",
      "16            5.4          3.9           1.3\n",
      "17            5.1          3.5           1.4\n",
      "18            5.7          3.8           1.7\n",
      "19            5.1          3.8           1.5\n",
      "20            5.4          3.4           1.7\n",
      "21            5.1          3.7           1.5\n",
      "22            4.6          3.6           1.0\n",
      "23            5.1          3.3           1.7\n",
      "24            4.8          3.4           1.9\n",
      "25            5.0          3.0           1.6\n",
      "26            5.0          3.4           1.6\n",
      "27            5.2          3.5           1.5\n",
      "28            5.2          3.4           1.4\n",
      "29            4.7          3.2           1.6\n",
      "30            4.8          3.1           1.6\n",
      "31            5.4          3.4           1.5\n",
      "32            5.2          4.1           1.5\n",
      "33            5.5          4.2           1.4\n",
      "34            4.9          3.1           1.5\n",
      "35            5.0          3.2           1.2\n",
      "36            5.5          3.5           1.3\n",
      "37            4.9          3.6           1.4\n",
      "38            4.4          3.0           1.3\n",
      "39            5.1          3.4           1.5\n",
      "40            5.0          3.5           1.3\n",
      "41            4.5          2.3           1.3\n",
      "42            4.4          3.2           1.3\n",
      "43            5.0          3.5           1.6\n",
      "44            5.1          3.8           1.9\n",
      "45            4.8          3.0           1.4\n",
      "46            5.1          3.8           1.6\n",
      "47            4.6          3.2           1.4\n",
      "48            5.3          3.7           1.5\n",
      "49            5.0          3.3           1.4\n",
      "50            7.0          3.2           4.7\n",
      "51            6.4          3.2           4.5\n",
      "52            6.9          3.1           4.9\n",
      "53            5.5          2.3           4.0\n",
      "54            6.5          2.8           4.6\n",
      "55            5.7          2.8           4.5\n",
      "56            6.3          3.3           4.7\n",
      "57            4.9          2.4           3.3\n",
      "58            6.6          2.9           4.6\n",
      "59            5.2          2.7           3.9\n",
      "60            5.0          2.0           3.5\n",
      "61            5.9          3.0           4.2\n",
      "62            6.0          2.2           4.0\n",
      "63            6.1          2.9           4.7\n",
      "64            5.6          2.9           3.6\n",
      "65            6.7          3.1           4.4\n",
      "66            5.6          3.0           4.5\n",
      "67            5.8          2.7           4.1\n",
      "68            6.2          2.2           4.5\n",
      "69            5.6          2.5           3.9\n",
      "70            5.9          3.2           4.8\n",
      "71            6.1          2.8           4.0\n",
      "72            6.3          2.5           4.9\n",
      "73            6.1          2.8           4.7\n",
      "74            6.4          2.9           4.3\n",
      "75            6.6          3.0           4.4\n",
      "76            6.8          2.8           4.8\n",
      "77            6.7          3.0           5.0\n",
      "78            6.0          2.9           4.5\n",
      "79            5.7          2.6           3.5\n",
      "80            5.5          2.4           3.8\n",
      "81            5.5          2.4           3.7\n",
      "82            5.8          2.7           3.9\n",
      "83            6.0          2.7           5.1\n",
      "84            5.4          3.0           4.5\n",
      "85            6.0          3.4           4.5\n",
      "86            6.7          3.1           4.7\n",
      "87            6.3          2.3           4.4\n",
      "88            5.6          3.0           4.1\n",
      "89            5.5          2.5           4.0\n",
      "90            5.5          2.6           4.4\n",
      "91            6.1          3.0           4.6\n",
      "92            5.8          2.6           4.0\n",
      "93            5.0          2.3           3.3\n",
      "94            5.6          2.7           4.2\n",
      "95            5.7          3.0           4.2\n",
      "96            5.7          2.9           4.2\n",
      "97            6.2          2.9           4.3\n",
      "98            5.1          2.5           3.0\n",
      "99            5.7          2.8           4.1\n",
      "100           6.3          3.3           6.0\n",
      "101           5.8          2.7           5.1\n",
      "102           7.1          3.0           5.9\n",
      "103           6.3          2.9           5.6\n",
      "104           6.5          3.0           5.8\n",
      "105           7.6          3.0           6.6\n",
      "106           4.9          2.5           4.5\n",
      "107           7.3          2.9           6.3\n",
      "108           6.7          2.5           5.8\n",
      "109           7.2          3.6           6.1\n",
      "110           6.5          3.2           5.1\n",
      "111           6.4          2.7           5.3\n",
      "112           6.8          3.0           5.5\n",
      "113           5.7          2.5           5.0\n",
      "114           5.8          2.8           5.1\n",
      "115           6.4          3.2           5.3\n",
      "116           6.5          3.0           5.5\n",
      "117           7.7          3.8           6.7\n",
      "118           7.7          2.6           6.9\n",
      "119           6.0          2.2           5.0\n",
      "120           6.9          3.2           5.7\n",
      "121           5.6          2.8           4.9\n",
      "122           7.7          2.8           6.7\n",
      "123           6.3          2.7           4.9\n",
      "124           6.7          3.3           5.7\n",
      "125           7.2          3.2           6.0\n",
      "126           6.2          2.8           4.8\n",
      "127           6.1          3.0           4.9\n",
      "128           6.4          2.8           5.6\n",
      "129           7.2          3.0           5.8\n",
      "130           7.4          2.8           6.1\n",
      "131           7.9          3.8           6.4\n",
      "132           6.4          2.8           5.6\n",
      "133           6.3          2.8           5.1\n",
      "134           6.1          2.6           5.6\n",
      "135           7.7          3.0           6.1\n",
      "136           6.3          3.4           5.6\n",
      "137           6.4          3.1           5.5\n",
      "138           6.0          3.0           4.8\n",
      "139           6.9          3.1           5.4\n",
      "140           6.7          3.1           5.6\n",
      "141           6.9          3.1           5.1\n",
      "142           5.8          2.7           5.1\n",
      "143           6.8          3.2           5.9\n",
      "144           6.7          3.3           5.7\n",
      "145           6.7          3.0           5.2\n",
      "146           6.3          2.5           5.0\n",
      "147           6.5          3.0           5.2\n",
      "148           6.2          3.4           5.4\n",
      "149           5.9          3.0           5.1\n",
      "--------------------------------------------------------------------------------------\n",
      "Initialized Random Centroids =\n",
      "[[4.8 3.4 1.9]\n",
      " [6.9 3.1 5.1]\n",
      " [5.  3.3 1.4]]\n",
      "--------------------------------------------------------------------------------------\n",
      "Initial Cluster Affiliation =\n",
      "[-1 -1 -1 -1 -1 -1 -1 -1 -1 -1 -1 -1 -1 -1 -1 -1 -1 -1 -1 -1 -1 -1 -1 -1\n",
      " -1 -1 -1 -1 -1 -1 -1 -1 -1 -1 -1 -1 -1 -1 -1 -1 -1 -1 -1 -1 -1 -1 -1 -1\n",
      " -1 -1 -1 -1 -1 -1 -1 -1 -1 -1 -1 -1 -1 -1 -1 -1 -1 -1 -1 -1 -1 -1 -1 -1\n",
      " -1 -1 -1 -1 -1 -1 -1 -1 -1 -1 -1 -1 -1 -1 -1 -1 -1 -1 -1 -1 -1 -1 -1 -1\n",
      " -1 -1 -1 -1 -1 -1 -1 -1 -1 -1 -1 -1 -1 -1 -1 -1 -1 -1 -1 -1 -1 -1 -1 -1\n",
      " -1 -1 -1 -1 -1 -1 -1 -1 -1 -1 -1 -1 -1 -1 -1 -1 -1 -1 -1 -1 -1 -1 -1 -1\n",
      " -1 -1 -1 -1 -1 -1]\n",
      "--------------------------------------------------------------------------------------\n",
      "Iteration 0:\n",
      "New centroids in this iteration =\n",
      "[[5.07       2.85       2.72      ]\n",
      " [6.3287234  2.89893617 5.00425532]\n",
      " [5.01956522 3.42608696 1.43695652]]\n",
      "|J - J_prev| = inf\n",
      "--------------------------------------------------------------------------------------\n",
      "Iteration 1:\n",
      "New centroids in this iteration =\n",
      "[[5.31       2.47       3.55      ]\n",
      " [6.36777778 2.91666667 5.05666667]\n",
      " [5.006      3.428      1.462     ]]\n",
      "|J - J_prev| = 0.15229738241431745\n",
      "--------------------------------------------------------------------------------------\n",
      "Iteration 2:\n",
      "New centroids in this iteration =\n",
      "[[5.508      2.6        3.908     ]\n",
      " [6.51333333 2.96266667 5.23866667]\n",
      " [5.006      3.428      1.462     ]]\n",
      "|J - J_prev| = 0.08280479209876501\n",
      "--------------------------------------------------------------------------------------\n",
      "Iteration 3:\n",
      "New centroids in this iteration =\n",
      "[[5.6125     2.628125   4.01875   ]\n",
      " [6.56764706 2.98676471 5.32352941]\n",
      " [5.006      3.428      1.462     ]]\n",
      "|J - J_prev| = 0.01654090061190472\n",
      "--------------------------------------------------------------------------------------\n",
      "Iteration 4:\n",
      "New centroids in this iteration =\n",
      "[[5.65945946 2.66756757 4.10540541]\n",
      " [6.61587302 2.99206349 5.37619048]\n",
      " [5.006      3.428      1.462     ]]\n",
      "|J - J_prev| = 0.007632599025940046\n",
      "--------------------------------------------------------------------------------------\n",
      "Iteration 5:\n",
      "New centroids in this iteration =\n",
      "[[5.70238095 2.68571429 4.18809524]\n",
      " [6.66724138 3.00689655 5.42586207]\n",
      " [5.006      3.428      1.462     ]]\n",
      "|J - J_prev| = 0.007995576922669445\n",
      "--------------------------------------------------------------------------------------\n",
      "Iteration 6:\n",
      "New centroids in this iteration =\n",
      "[[5.75208333 2.70833333 4.26875   ]\n",
      " [6.73269231 3.02307692 5.49423077]\n",
      " [5.006      3.428      1.462     ]]\n",
      "|J - J_prev| = 0.01114132928706435\n",
      "--------------------------------------------------------------------------------------\n",
      "Iteration 7:\n",
      "New centroids in this iteration =\n",
      "[[5.81636364 2.73454545 4.33818182]\n",
      " [6.80666667 3.04       5.6       ]\n",
      " [5.006      3.428      1.462     ]]\n",
      "|J - J_prev| = 0.014253429744708335\n",
      "--------------------------------------------------------------------------------------\n",
      "Iteration 8:\n",
      "New centroids in this iteration =\n",
      "[[5.84655172 2.73275862 4.3637931 ]\n",
      " [6.83571429 3.06428571 5.6547619 ]\n",
      " [5.006      3.428      1.462     ]]\n",
      "|J - J_prev| = 0.0018483205544022052\n",
      "--------------------------------------------------------------------------------------\n",
      "Iteration 9:\n",
      "New centroids in this iteration =\n",
      "[[5.84655172 2.73275862 4.3637931 ]\n",
      " [6.83571429 3.06428571 5.6547619 ]\n",
      " [5.006      3.428      1.462     ]]\n",
      "|J - J_prev| = 0.0\n",
      "--------------------------------------------------------------------------------------\n",
      "Final Centroids =\n",
      "[[5.84655172 2.73275862 4.3637931 ]\n",
      " [6.83571429 3.06428571 5.6547619 ]\n",
      " [5.006      3.428      1.462     ]]\n",
      "Final Cluster Affiliations =\n",
      "[2 2 2 2 2 2 2 2 2 2 2 2 2 2 2 2 2 2 2 2 2 2 2 2 2 2 2 2 2 2 2 2 2 2 2 2 2\n",
      " 2 2 2 2 2 2 2 2 2 2 2 2 2 1 0 1 0 0 0 0 0 0 0 0 0 0 0 0 0 0 0 0 0 0 0 0 0\n",
      " 0 0 1 1 0 0 0 0 0 0 0 0 1 0 0 0 0 0 0 0 0 0 0 0 0 0 1 0 1 1 1 1 0 1 1 1 1\n",
      " 1 1 0 0 1 1 1 1 0 1 0 1 0 1 1 0 0 1 1 1 1 1 1 1 1 1 1 0 1 1 1 0 1 1 1 0 1\n",
      " 1 0]\n"
     ]
    },
    {
     "data": {
      "application/vnd.plotly.v1+json": {
       "data": [
        {
         "hovertemplate": "color=Iris-setosa<br>Sepal Length=%{x}<br>Sepal Width=%{y}<br>Petal Length=%{z}<extra></extra>",
         "legendgroup": "Iris-setosa",
         "marker": {
          "color": "#636efa",
          "symbol": "square-open"
         },
         "mode": "markers",
         "name": "Iris-setosa",
         "scene": "scene",
         "showlegend": true,
         "x": [
          5.1,
          4.9,
          4.7,
          4.6,
          5.0,
          5.4,
          4.6,
          5.0,
          4.4,
          4.9,
          5.4,
          4.8,
          4.8,
          4.3,
          5.8,
          5.7,
          5.4,
          5.1,
          5.7,
          5.1,
          5.4,
          5.1,
          4.6,
          5.1,
          4.8,
          5.0,
          5.0,
          5.2,
          5.2,
          4.7,
          4.8,
          5.4,
          5.2,
          5.5,
          4.9,
          5.0,
          5.5,
          4.9,
          4.4,
          5.1,
          5.0,
          4.5,
          4.4,
          5.0,
          5.1,
          4.8,
          5.1,
          4.6,
          5.3,
          5.0
         ],
         "y": [
          3.5,
          3.0,
          3.2,
          3.1,
          3.6,
          3.9,
          3.4,
          3.4,
          2.9,
          3.1,
          3.7,
          3.4,
          3.0,
          3.0,
          4.0,
          4.4,
          3.9,
          3.5,
          3.8,
          3.8,
          3.4,
          3.7,
          3.6,
          3.3,
          3.4,
          3.0,
          3.4,
          3.5,
          3.4,
          3.2,
          3.1,
          3.4,
          4.1,
          4.2,
          3.1,
          3.2,
          3.5,
          3.6,
          3.0,
          3.4,
          3.5,
          2.3,
          3.2,
          3.5,
          3.8,
          3.0,
          3.8,
          3.2,
          3.7,
          3.3
         ],
         "z": [
          1.4,
          1.4,
          1.3,
          1.5,
          1.4,
          1.7,
          1.4,
          1.5,
          1.4,
          1.5,
          1.5,
          1.6,
          1.4,
          1.1,
          1.2,
          1.5,
          1.3,
          1.4,
          1.7,
          1.5,
          1.7,
          1.5,
          1.0,
          1.7,
          1.9,
          1.6,
          1.6,
          1.5,
          1.4,
          1.6,
          1.6,
          1.5,
          1.5,
          1.4,
          1.5,
          1.2,
          1.3,
          1.4,
          1.3,
          1.5,
          1.3,
          1.3,
          1.3,
          1.6,
          1.9,
          1.4,
          1.6,
          1.4,
          1.5,
          1.4
         ],
         "type": "scatter3d"
        },
        {
         "hovertemplate": "color=Iris-versicolor<br>Sepal Length=%{x}<br>Sepal Width=%{y}<br>Petal Length=%{z}<extra></extra>",
         "legendgroup": "Iris-versicolor",
         "marker": {
          "color": "#EF553B",
          "symbol": "diamond-open"
         },
         "mode": "markers",
         "name": "Iris-versicolor",
         "scene": "scene",
         "showlegend": true,
         "x": [
          7.0,
          6.4,
          6.9,
          5.5,
          6.5,
          5.7,
          6.3,
          4.9,
          6.6,
          5.2,
          5.0,
          5.9,
          6.0,
          6.1,
          5.6,
          6.7,
          5.6,
          5.8,
          6.2,
          5.6,
          5.9,
          6.1,
          6.3,
          6.1,
          6.4,
          6.6,
          6.8,
          6.7,
          6.0,
          5.7,
          5.5,
          5.5,
          5.8,
          6.0,
          5.4,
          6.0,
          6.7,
          6.3,
          5.6,
          5.5,
          5.5,
          6.1,
          5.8,
          5.0,
          5.6,
          5.7,
          5.7,
          6.2,
          5.1,
          5.7
         ],
         "y": [
          3.2,
          3.2,
          3.1,
          2.3,
          2.8,
          2.8,
          3.3,
          2.4,
          2.9,
          2.7,
          2.0,
          3.0,
          2.2,
          2.9,
          2.9,
          3.1,
          3.0,
          2.7,
          2.2,
          2.5,
          3.2,
          2.8,
          2.5,
          2.8,
          2.9,
          3.0,
          2.8,
          3.0,
          2.9,
          2.6,
          2.4,
          2.4,
          2.7,
          2.7,
          3.0,
          3.4,
          3.1,
          2.3,
          3.0,
          2.5,
          2.6,
          3.0,
          2.6,
          2.3,
          2.7,
          3.0,
          2.9,
          2.9,
          2.5,
          2.8
         ],
         "z": [
          4.7,
          4.5,
          4.9,
          4.0,
          4.6,
          4.5,
          4.7,
          3.3,
          4.6,
          3.9,
          3.5,
          4.2,
          4.0,
          4.7,
          3.6,
          4.4,
          4.5,
          4.1,
          4.5,
          3.9,
          4.8,
          4.0,
          4.9,
          4.7,
          4.3,
          4.4,
          4.8,
          5.0,
          4.5,
          3.5,
          3.8,
          3.7,
          3.9,
          5.1,
          4.5,
          4.5,
          4.7,
          4.4,
          4.1,
          4.0,
          4.4,
          4.6,
          4.0,
          3.3,
          4.2,
          4.2,
          4.2,
          4.3,
          3.0,
          4.1
         ],
         "type": "scatter3d"
        },
        {
         "hovertemplate": "color=Iris-virginica<br>Sepal Length=%{x}<br>Sepal Width=%{y}<br>Petal Length=%{z}<extra></extra>",
         "legendgroup": "Iris-virginica",
         "marker": {
          "color": "#00cc96",
          "symbol": "circle-open"
         },
         "mode": "markers",
         "name": "Iris-virginica",
         "scene": "scene",
         "showlegend": true,
         "x": [
          6.3,
          5.8,
          7.1,
          6.3,
          6.5,
          7.6,
          4.9,
          7.3,
          6.7,
          7.2,
          6.5,
          6.4,
          6.8,
          5.7,
          5.8,
          6.4,
          6.5,
          7.7,
          7.7,
          6.0,
          6.9,
          5.6,
          7.7,
          6.3,
          6.7,
          7.2,
          6.2,
          6.1,
          6.4,
          7.2,
          7.4,
          7.9,
          6.4,
          6.3,
          6.1,
          7.7,
          6.3,
          6.4,
          6.0,
          6.9,
          6.7,
          6.9,
          5.8,
          6.8,
          6.7,
          6.7,
          6.3,
          6.5,
          6.2,
          5.9
         ],
         "y": [
          3.3,
          2.7,
          3.0,
          2.9,
          3.0,
          3.0,
          2.5,
          2.9,
          2.5,
          3.6,
          3.2,
          2.7,
          3.0,
          2.5,
          2.8,
          3.2,
          3.0,
          3.8,
          2.6,
          2.2,
          3.2,
          2.8,
          2.8,
          2.7,
          3.3,
          3.2,
          2.8,
          3.0,
          2.8,
          3.0,
          2.8,
          3.8,
          2.8,
          2.8,
          2.6,
          3.0,
          3.4,
          3.1,
          3.0,
          3.1,
          3.1,
          3.1,
          2.7,
          3.2,
          3.3,
          3.0,
          2.5,
          3.0,
          3.4,
          3.0
         ],
         "z": [
          6.0,
          5.1,
          5.9,
          5.6,
          5.8,
          6.6,
          4.5,
          6.3,
          5.8,
          6.1,
          5.1,
          5.3,
          5.5,
          5.0,
          5.1,
          5.3,
          5.5,
          6.7,
          6.9,
          5.0,
          5.7,
          4.9,
          6.7,
          4.9,
          5.7,
          6.0,
          4.8,
          4.9,
          5.6,
          5.8,
          6.1,
          6.4,
          5.6,
          5.1,
          5.6,
          6.1,
          5.6,
          5.5,
          4.8,
          5.4,
          5.6,
          5.1,
          5.1,
          5.9,
          5.7,
          5.2,
          5.0,
          5.2,
          5.4,
          5.1
         ],
         "type": "scatter3d"
        }
       ],
       "layout": {
        "template": {
         "data": {
          "histogram2dcontour": [
           {
            "type": "histogram2dcontour",
            "colorbar": {
             "outlinewidth": 0,
             "ticks": ""
            },
            "colorscale": [
             [
              0.0,
              "#0d0887"
             ],
             [
              0.1111111111111111,
              "#46039f"
             ],
             [
              0.2222222222222222,
              "#7201a8"
             ],
             [
              0.3333333333333333,
              "#9c179e"
             ],
             [
              0.4444444444444444,
              "#bd3786"
             ],
             [
              0.5555555555555556,
              "#d8576b"
             ],
             [
              0.6666666666666666,
              "#ed7953"
             ],
             [
              0.7777777777777778,
              "#fb9f3a"
             ],
             [
              0.8888888888888888,
              "#fdca26"
             ],
             [
              1.0,
              "#f0f921"
             ]
            ]
           }
          ],
          "choropleth": [
           {
            "type": "choropleth",
            "colorbar": {
             "outlinewidth": 0,
             "ticks": ""
            }
           }
          ],
          "histogram2d": [
           {
            "type": "histogram2d",
            "colorbar": {
             "outlinewidth": 0,
             "ticks": ""
            },
            "colorscale": [
             [
              0.0,
              "#0d0887"
             ],
             [
              0.1111111111111111,
              "#46039f"
             ],
             [
              0.2222222222222222,
              "#7201a8"
             ],
             [
              0.3333333333333333,
              "#9c179e"
             ],
             [
              0.4444444444444444,
              "#bd3786"
             ],
             [
              0.5555555555555556,
              "#d8576b"
             ],
             [
              0.6666666666666666,
              "#ed7953"
             ],
             [
              0.7777777777777778,
              "#fb9f3a"
             ],
             [
              0.8888888888888888,
              "#fdca26"
             ],
             [
              1.0,
              "#f0f921"
             ]
            ]
           }
          ],
          "heatmap": [
           {
            "type": "heatmap",
            "colorbar": {
             "outlinewidth": 0,
             "ticks": ""
            },
            "colorscale": [
             [
              0.0,
              "#0d0887"
             ],
             [
              0.1111111111111111,
              "#46039f"
             ],
             [
              0.2222222222222222,
              "#7201a8"
             ],
             [
              0.3333333333333333,
              "#9c179e"
             ],
             [
              0.4444444444444444,
              "#bd3786"
             ],
             [
              0.5555555555555556,
              "#d8576b"
             ],
             [
              0.6666666666666666,
              "#ed7953"
             ],
             [
              0.7777777777777778,
              "#fb9f3a"
             ],
             [
              0.8888888888888888,
              "#fdca26"
             ],
             [
              1.0,
              "#f0f921"
             ]
            ]
           }
          ],
          "heatmapgl": [
           {
            "type": "heatmapgl",
            "colorbar": {
             "outlinewidth": 0,
             "ticks": ""
            },
            "colorscale": [
             [
              0.0,
              "#0d0887"
             ],
             [
              0.1111111111111111,
              "#46039f"
             ],
             [
              0.2222222222222222,
              "#7201a8"
             ],
             [
              0.3333333333333333,
              "#9c179e"
             ],
             [
              0.4444444444444444,
              "#bd3786"
             ],
             [
              0.5555555555555556,
              "#d8576b"
             ],
             [
              0.6666666666666666,
              "#ed7953"
             ],
             [
              0.7777777777777778,
              "#fb9f3a"
             ],
             [
              0.8888888888888888,
              "#fdca26"
             ],
             [
              1.0,
              "#f0f921"
             ]
            ]
           }
          ],
          "contourcarpet": [
           {
            "type": "contourcarpet",
            "colorbar": {
             "outlinewidth": 0,
             "ticks": ""
            }
           }
          ],
          "contour": [
           {
            "type": "contour",
            "colorbar": {
             "outlinewidth": 0,
             "ticks": ""
            },
            "colorscale": [
             [
              0.0,
              "#0d0887"
             ],
             [
              0.1111111111111111,
              "#46039f"
             ],
             [
              0.2222222222222222,
              "#7201a8"
             ],
             [
              0.3333333333333333,
              "#9c179e"
             ],
             [
              0.4444444444444444,
              "#bd3786"
             ],
             [
              0.5555555555555556,
              "#d8576b"
             ],
             [
              0.6666666666666666,
              "#ed7953"
             ],
             [
              0.7777777777777778,
              "#fb9f3a"
             ],
             [
              0.8888888888888888,
              "#fdca26"
             ],
             [
              1.0,
              "#f0f921"
             ]
            ]
           }
          ],
          "surface": [
           {
            "type": "surface",
            "colorbar": {
             "outlinewidth": 0,
             "ticks": ""
            },
            "colorscale": [
             [
              0.0,
              "#0d0887"
             ],
             [
              0.1111111111111111,
              "#46039f"
             ],
             [
              0.2222222222222222,
              "#7201a8"
             ],
             [
              0.3333333333333333,
              "#9c179e"
             ],
             [
              0.4444444444444444,
              "#bd3786"
             ],
             [
              0.5555555555555556,
              "#d8576b"
             ],
             [
              0.6666666666666666,
              "#ed7953"
             ],
             [
              0.7777777777777778,
              "#fb9f3a"
             ],
             [
              0.8888888888888888,
              "#fdca26"
             ],
             [
              1.0,
              "#f0f921"
             ]
            ]
           }
          ],
          "mesh3d": [
           {
            "type": "mesh3d",
            "colorbar": {
             "outlinewidth": 0,
             "ticks": ""
            }
           }
          ],
          "scatter": [
           {
            "fillpattern": {
             "fillmode": "overlay",
             "size": 10,
             "solidity": 0.2
            },
            "type": "scatter"
           }
          ],
          "parcoords": [
           {
            "type": "parcoords",
            "line": {
             "colorbar": {
              "outlinewidth": 0,
              "ticks": ""
             }
            }
           }
          ],
          "scatterpolargl": [
           {
            "type": "scatterpolargl",
            "marker": {
             "colorbar": {
              "outlinewidth": 0,
              "ticks": ""
             }
            }
           }
          ],
          "bar": [
           {
            "error_x": {
             "color": "#2a3f5f"
            },
            "error_y": {
             "color": "#2a3f5f"
            },
            "marker": {
             "line": {
              "color": "#E5ECF6",
              "width": 0.5
             },
             "pattern": {
              "fillmode": "overlay",
              "size": 10,
              "solidity": 0.2
             }
            },
            "type": "bar"
           }
          ],
          "scattergeo": [
           {
            "type": "scattergeo",
            "marker": {
             "colorbar": {
              "outlinewidth": 0,
              "ticks": ""
             }
            }
           }
          ],
          "scatterpolar": [
           {
            "type": "scatterpolar",
            "marker": {
             "colorbar": {
              "outlinewidth": 0,
              "ticks": ""
             }
            }
           }
          ],
          "histogram": [
           {
            "marker": {
             "pattern": {
              "fillmode": "overlay",
              "size": 10,
              "solidity": 0.2
             }
            },
            "type": "histogram"
           }
          ],
          "scattergl": [
           {
            "type": "scattergl",
            "marker": {
             "colorbar": {
              "outlinewidth": 0,
              "ticks": ""
             }
            }
           }
          ],
          "scatter3d": [
           {
            "type": "scatter3d",
            "line": {
             "colorbar": {
              "outlinewidth": 0,
              "ticks": ""
             }
            },
            "marker": {
             "colorbar": {
              "outlinewidth": 0,
              "ticks": ""
             }
            }
           }
          ],
          "scattermapbox": [
           {
            "type": "scattermapbox",
            "marker": {
             "colorbar": {
              "outlinewidth": 0,
              "ticks": ""
             }
            }
           }
          ],
          "scatterternary": [
           {
            "type": "scatterternary",
            "marker": {
             "colorbar": {
              "outlinewidth": 0,
              "ticks": ""
             }
            }
           }
          ],
          "scattercarpet": [
           {
            "type": "scattercarpet",
            "marker": {
             "colorbar": {
              "outlinewidth": 0,
              "ticks": ""
             }
            }
           }
          ],
          "carpet": [
           {
            "aaxis": {
             "endlinecolor": "#2a3f5f",
             "gridcolor": "white",
             "linecolor": "white",
             "minorgridcolor": "white",
             "startlinecolor": "#2a3f5f"
            },
            "baxis": {
             "endlinecolor": "#2a3f5f",
             "gridcolor": "white",
             "linecolor": "white",
             "minorgridcolor": "white",
             "startlinecolor": "#2a3f5f"
            },
            "type": "carpet"
           }
          ],
          "table": [
           {
            "cells": {
             "fill": {
              "color": "#EBF0F8"
             },
             "line": {
              "color": "white"
             }
            },
            "header": {
             "fill": {
              "color": "#C8D4E3"
             },
             "line": {
              "color": "white"
             }
            },
            "type": "table"
           }
          ],
          "barpolar": [
           {
            "marker": {
             "line": {
              "color": "#E5ECF6",
              "width": 0.5
             },
             "pattern": {
              "fillmode": "overlay",
              "size": 10,
              "solidity": 0.2
             }
            },
            "type": "barpolar"
           }
          ],
          "pie": [
           {
            "automargin": true,
            "type": "pie"
           }
          ]
         },
         "layout": {
          "autotypenumbers": "strict",
          "colorway": [
           "#636efa",
           "#EF553B",
           "#00cc96",
           "#ab63fa",
           "#FFA15A",
           "#19d3f3",
           "#FF6692",
           "#B6E880",
           "#FF97FF",
           "#FECB52"
          ],
          "font": {
           "color": "#2a3f5f"
          },
          "hovermode": "closest",
          "hoverlabel": {
           "align": "left"
          },
          "paper_bgcolor": "white",
          "plot_bgcolor": "#E5ECF6",
          "polar": {
           "bgcolor": "#E5ECF6",
           "angularaxis": {
            "gridcolor": "white",
            "linecolor": "white",
            "ticks": ""
           },
           "radialaxis": {
            "gridcolor": "white",
            "linecolor": "white",
            "ticks": ""
           }
          },
          "ternary": {
           "bgcolor": "#E5ECF6",
           "aaxis": {
            "gridcolor": "white",
            "linecolor": "white",
            "ticks": ""
           },
           "baxis": {
            "gridcolor": "white",
            "linecolor": "white",
            "ticks": ""
           },
           "caxis": {
            "gridcolor": "white",
            "linecolor": "white",
            "ticks": ""
           }
          },
          "coloraxis": {
           "colorbar": {
            "outlinewidth": 0,
            "ticks": ""
           }
          },
          "colorscale": {
           "sequential": [
            [
             0.0,
             "#0d0887"
            ],
            [
             0.1111111111111111,
             "#46039f"
            ],
            [
             0.2222222222222222,
             "#7201a8"
            ],
            [
             0.3333333333333333,
             "#9c179e"
            ],
            [
             0.4444444444444444,
             "#bd3786"
            ],
            [
             0.5555555555555556,
             "#d8576b"
            ],
            [
             0.6666666666666666,
             "#ed7953"
            ],
            [
             0.7777777777777778,
             "#fb9f3a"
            ],
            [
             0.8888888888888888,
             "#fdca26"
            ],
            [
             1.0,
             "#f0f921"
            ]
           ],
           "sequentialminus": [
            [
             0.0,
             "#0d0887"
            ],
            [
             0.1111111111111111,
             "#46039f"
            ],
            [
             0.2222222222222222,
             "#7201a8"
            ],
            [
             0.3333333333333333,
             "#9c179e"
            ],
            [
             0.4444444444444444,
             "#bd3786"
            ],
            [
             0.5555555555555556,
             "#d8576b"
            ],
            [
             0.6666666666666666,
             "#ed7953"
            ],
            [
             0.7777777777777778,
             "#fb9f3a"
            ],
            [
             0.8888888888888888,
             "#fdca26"
            ],
            [
             1.0,
             "#f0f921"
            ]
           ],
           "diverging": [
            [
             0,
             "#8e0152"
            ],
            [
             0.1,
             "#c51b7d"
            ],
            [
             0.2,
             "#de77ae"
            ],
            [
             0.3,
             "#f1b6da"
            ],
            [
             0.4,
             "#fde0ef"
            ],
            [
             0.5,
             "#f7f7f7"
            ],
            [
             0.6,
             "#e6f5d0"
            ],
            [
             0.7,
             "#b8e186"
            ],
            [
             0.8,
             "#7fbc41"
            ],
            [
             0.9,
             "#4d9221"
            ],
            [
             1,
             "#276419"
            ]
           ]
          },
          "xaxis": {
           "gridcolor": "white",
           "linecolor": "white",
           "ticks": "",
           "title": {
            "standoff": 15
           },
           "zerolinecolor": "white",
           "automargin": true,
           "zerolinewidth": 2
          },
          "yaxis": {
           "gridcolor": "white",
           "linecolor": "white",
           "ticks": "",
           "title": {
            "standoff": 15
           },
           "zerolinecolor": "white",
           "automargin": true,
           "zerolinewidth": 2
          },
          "scene": {
           "xaxis": {
            "backgroundcolor": "#E5ECF6",
            "gridcolor": "white",
            "linecolor": "white",
            "showbackground": true,
            "ticks": "",
            "zerolinecolor": "white",
            "gridwidth": 2
           },
           "yaxis": {
            "backgroundcolor": "#E5ECF6",
            "gridcolor": "white",
            "linecolor": "white",
            "showbackground": true,
            "ticks": "",
            "zerolinecolor": "white",
            "gridwidth": 2
           },
           "zaxis": {
            "backgroundcolor": "#E5ECF6",
            "gridcolor": "white",
            "linecolor": "white",
            "showbackground": true,
            "ticks": "",
            "zerolinecolor": "white",
            "gridwidth": 2
           }
          },
          "shapedefaults": {
           "line": {
            "color": "#2a3f5f"
           }
          },
          "annotationdefaults": {
           "arrowcolor": "#2a3f5f",
           "arrowhead": 0,
           "arrowwidth": 1
          },
          "geo": {
           "bgcolor": "white",
           "landcolor": "#E5ECF6",
           "subunitcolor": "white",
           "showland": true,
           "showlakes": true,
           "lakecolor": "white"
          },
          "title": {
           "x": 0.05
          },
          "mapbox": {
           "style": "light"
          }
         }
        },
        "scene": {
         "domain": {
          "x": [
           0.0,
           1.0
          ],
          "y": [
           0.0,
           1.0
          ]
         },
         "xaxis": {
          "title": {
           "text": "Sepal Length"
          }
         },
         "yaxis": {
          "title": {
           "text": "Sepal Width"
          }
         },
         "zaxis": {
          "title": {
           "text": "Petal Length"
          }
         }
        },
        "legend": {
         "title": {
          "text": "color"
         },
         "tracegroupgap": 0
        },
        "title": {
         "text": "Dataset"
        },
        "height": 600
       },
       "config": {
        "plotlyServerURL": "https://plot.ly"
       }
      },
      "text/html": "<div>                            <div id=\"3ecec4f3-5a43-49ba-a8ba-2b6e072f34dc\" class=\"plotly-graph-div\" style=\"height:600px; width:100%;\"></div>            <script type=\"text/javascript\">                require([\"plotly\"], function(Plotly) {                    window.PLOTLYENV=window.PLOTLYENV || {};                                    if (document.getElementById(\"3ecec4f3-5a43-49ba-a8ba-2b6e072f34dc\")) {                    Plotly.newPlot(                        \"3ecec4f3-5a43-49ba-a8ba-2b6e072f34dc\",                        [{\"hovertemplate\":\"color=Iris-setosa<br>Sepal Length=%{x}<br>Sepal Width=%{y}<br>Petal Length=%{z}<extra></extra>\",\"legendgroup\":\"Iris-setosa\",\"marker\":{\"color\":\"#636efa\",\"symbol\":\"square-open\"},\"mode\":\"markers\",\"name\":\"Iris-setosa\",\"scene\":\"scene\",\"showlegend\":true,\"x\":[5.1,4.9,4.7,4.6,5.0,5.4,4.6,5.0,4.4,4.9,5.4,4.8,4.8,4.3,5.8,5.7,5.4,5.1,5.7,5.1,5.4,5.1,4.6,5.1,4.8,5.0,5.0,5.2,5.2,4.7,4.8,5.4,5.2,5.5,4.9,5.0,5.5,4.9,4.4,5.1,5.0,4.5,4.4,5.0,5.1,4.8,5.1,4.6,5.3,5.0],\"y\":[3.5,3.0,3.2,3.1,3.6,3.9,3.4,3.4,2.9,3.1,3.7,3.4,3.0,3.0,4.0,4.4,3.9,3.5,3.8,3.8,3.4,3.7,3.6,3.3,3.4,3.0,3.4,3.5,3.4,3.2,3.1,3.4,4.1,4.2,3.1,3.2,3.5,3.6,3.0,3.4,3.5,2.3,3.2,3.5,3.8,3.0,3.8,3.2,3.7,3.3],\"z\":[1.4,1.4,1.3,1.5,1.4,1.7,1.4,1.5,1.4,1.5,1.5,1.6,1.4,1.1,1.2,1.5,1.3,1.4,1.7,1.5,1.7,1.5,1.0,1.7,1.9,1.6,1.6,1.5,1.4,1.6,1.6,1.5,1.5,1.4,1.5,1.2,1.3,1.4,1.3,1.5,1.3,1.3,1.3,1.6,1.9,1.4,1.6,1.4,1.5,1.4],\"type\":\"scatter3d\"},{\"hovertemplate\":\"color=Iris-versicolor<br>Sepal Length=%{x}<br>Sepal Width=%{y}<br>Petal Length=%{z}<extra></extra>\",\"legendgroup\":\"Iris-versicolor\",\"marker\":{\"color\":\"#EF553B\",\"symbol\":\"diamond-open\"},\"mode\":\"markers\",\"name\":\"Iris-versicolor\",\"scene\":\"scene\",\"showlegend\":true,\"x\":[7.0,6.4,6.9,5.5,6.5,5.7,6.3,4.9,6.6,5.2,5.0,5.9,6.0,6.1,5.6,6.7,5.6,5.8,6.2,5.6,5.9,6.1,6.3,6.1,6.4,6.6,6.8,6.7,6.0,5.7,5.5,5.5,5.8,6.0,5.4,6.0,6.7,6.3,5.6,5.5,5.5,6.1,5.8,5.0,5.6,5.7,5.7,6.2,5.1,5.7],\"y\":[3.2,3.2,3.1,2.3,2.8,2.8,3.3,2.4,2.9,2.7,2.0,3.0,2.2,2.9,2.9,3.1,3.0,2.7,2.2,2.5,3.2,2.8,2.5,2.8,2.9,3.0,2.8,3.0,2.9,2.6,2.4,2.4,2.7,2.7,3.0,3.4,3.1,2.3,3.0,2.5,2.6,3.0,2.6,2.3,2.7,3.0,2.9,2.9,2.5,2.8],\"z\":[4.7,4.5,4.9,4.0,4.6,4.5,4.7,3.3,4.6,3.9,3.5,4.2,4.0,4.7,3.6,4.4,4.5,4.1,4.5,3.9,4.8,4.0,4.9,4.7,4.3,4.4,4.8,5.0,4.5,3.5,3.8,3.7,3.9,5.1,4.5,4.5,4.7,4.4,4.1,4.0,4.4,4.6,4.0,3.3,4.2,4.2,4.2,4.3,3.0,4.1],\"type\":\"scatter3d\"},{\"hovertemplate\":\"color=Iris-virginica<br>Sepal Length=%{x}<br>Sepal Width=%{y}<br>Petal Length=%{z}<extra></extra>\",\"legendgroup\":\"Iris-virginica\",\"marker\":{\"color\":\"#00cc96\",\"symbol\":\"circle-open\"},\"mode\":\"markers\",\"name\":\"Iris-virginica\",\"scene\":\"scene\",\"showlegend\":true,\"x\":[6.3,5.8,7.1,6.3,6.5,7.6,4.9,7.3,6.7,7.2,6.5,6.4,6.8,5.7,5.8,6.4,6.5,7.7,7.7,6.0,6.9,5.6,7.7,6.3,6.7,7.2,6.2,6.1,6.4,7.2,7.4,7.9,6.4,6.3,6.1,7.7,6.3,6.4,6.0,6.9,6.7,6.9,5.8,6.8,6.7,6.7,6.3,6.5,6.2,5.9],\"y\":[3.3,2.7,3.0,2.9,3.0,3.0,2.5,2.9,2.5,3.6,3.2,2.7,3.0,2.5,2.8,3.2,3.0,3.8,2.6,2.2,3.2,2.8,2.8,2.7,3.3,3.2,2.8,3.0,2.8,3.0,2.8,3.8,2.8,2.8,2.6,3.0,3.4,3.1,3.0,3.1,3.1,3.1,2.7,3.2,3.3,3.0,2.5,3.0,3.4,3.0],\"z\":[6.0,5.1,5.9,5.6,5.8,6.6,4.5,6.3,5.8,6.1,5.1,5.3,5.5,5.0,5.1,5.3,5.5,6.7,6.9,5.0,5.7,4.9,6.7,4.9,5.7,6.0,4.8,4.9,5.6,5.8,6.1,6.4,5.6,5.1,5.6,6.1,5.6,5.5,4.8,5.4,5.6,5.1,5.1,5.9,5.7,5.2,5.0,5.2,5.4,5.1],\"type\":\"scatter3d\"}],                        {\"template\":{\"data\":{\"histogram2dcontour\":[{\"type\":\"histogram2dcontour\",\"colorbar\":{\"outlinewidth\":0,\"ticks\":\"\"},\"colorscale\":[[0.0,\"#0d0887\"],[0.1111111111111111,\"#46039f\"],[0.2222222222222222,\"#7201a8\"],[0.3333333333333333,\"#9c179e\"],[0.4444444444444444,\"#bd3786\"],[0.5555555555555556,\"#d8576b\"],[0.6666666666666666,\"#ed7953\"],[0.7777777777777778,\"#fb9f3a\"],[0.8888888888888888,\"#fdca26\"],[1.0,\"#f0f921\"]]}],\"choropleth\":[{\"type\":\"choropleth\",\"colorbar\":{\"outlinewidth\":0,\"ticks\":\"\"}}],\"histogram2d\":[{\"type\":\"histogram2d\",\"colorbar\":{\"outlinewidth\":0,\"ticks\":\"\"},\"colorscale\":[[0.0,\"#0d0887\"],[0.1111111111111111,\"#46039f\"],[0.2222222222222222,\"#7201a8\"],[0.3333333333333333,\"#9c179e\"],[0.4444444444444444,\"#bd3786\"],[0.5555555555555556,\"#d8576b\"],[0.6666666666666666,\"#ed7953\"],[0.7777777777777778,\"#fb9f3a\"],[0.8888888888888888,\"#fdca26\"],[1.0,\"#f0f921\"]]}],\"heatmap\":[{\"type\":\"heatmap\",\"colorbar\":{\"outlinewidth\":0,\"ticks\":\"\"},\"colorscale\":[[0.0,\"#0d0887\"],[0.1111111111111111,\"#46039f\"],[0.2222222222222222,\"#7201a8\"],[0.3333333333333333,\"#9c179e\"],[0.4444444444444444,\"#bd3786\"],[0.5555555555555556,\"#d8576b\"],[0.6666666666666666,\"#ed7953\"],[0.7777777777777778,\"#fb9f3a\"],[0.8888888888888888,\"#fdca26\"],[1.0,\"#f0f921\"]]}],\"heatmapgl\":[{\"type\":\"heatmapgl\",\"colorbar\":{\"outlinewidth\":0,\"ticks\":\"\"},\"colorscale\":[[0.0,\"#0d0887\"],[0.1111111111111111,\"#46039f\"],[0.2222222222222222,\"#7201a8\"],[0.3333333333333333,\"#9c179e\"],[0.4444444444444444,\"#bd3786\"],[0.5555555555555556,\"#d8576b\"],[0.6666666666666666,\"#ed7953\"],[0.7777777777777778,\"#fb9f3a\"],[0.8888888888888888,\"#fdca26\"],[1.0,\"#f0f921\"]]}],\"contourcarpet\":[{\"type\":\"contourcarpet\",\"colorbar\":{\"outlinewidth\":0,\"ticks\":\"\"}}],\"contour\":[{\"type\":\"contour\",\"colorbar\":{\"outlinewidth\":0,\"ticks\":\"\"},\"colorscale\":[[0.0,\"#0d0887\"],[0.1111111111111111,\"#46039f\"],[0.2222222222222222,\"#7201a8\"],[0.3333333333333333,\"#9c179e\"],[0.4444444444444444,\"#bd3786\"],[0.5555555555555556,\"#d8576b\"],[0.6666666666666666,\"#ed7953\"],[0.7777777777777778,\"#fb9f3a\"],[0.8888888888888888,\"#fdca26\"],[1.0,\"#f0f921\"]]}],\"surface\":[{\"type\":\"surface\",\"colorbar\":{\"outlinewidth\":0,\"ticks\":\"\"},\"colorscale\":[[0.0,\"#0d0887\"],[0.1111111111111111,\"#46039f\"],[0.2222222222222222,\"#7201a8\"],[0.3333333333333333,\"#9c179e\"],[0.4444444444444444,\"#bd3786\"],[0.5555555555555556,\"#d8576b\"],[0.6666666666666666,\"#ed7953\"],[0.7777777777777778,\"#fb9f3a\"],[0.8888888888888888,\"#fdca26\"],[1.0,\"#f0f921\"]]}],\"mesh3d\":[{\"type\":\"mesh3d\",\"colorbar\":{\"outlinewidth\":0,\"ticks\":\"\"}}],\"scatter\":[{\"fillpattern\":{\"fillmode\":\"overlay\",\"size\":10,\"solidity\":0.2},\"type\":\"scatter\"}],\"parcoords\":[{\"type\":\"parcoords\",\"line\":{\"colorbar\":{\"outlinewidth\":0,\"ticks\":\"\"}}}],\"scatterpolargl\":[{\"type\":\"scatterpolargl\",\"marker\":{\"colorbar\":{\"outlinewidth\":0,\"ticks\":\"\"}}}],\"bar\":[{\"error_x\":{\"color\":\"#2a3f5f\"},\"error_y\":{\"color\":\"#2a3f5f\"},\"marker\":{\"line\":{\"color\":\"#E5ECF6\",\"width\":0.5},\"pattern\":{\"fillmode\":\"overlay\",\"size\":10,\"solidity\":0.2}},\"type\":\"bar\"}],\"scattergeo\":[{\"type\":\"scattergeo\",\"marker\":{\"colorbar\":{\"outlinewidth\":0,\"ticks\":\"\"}}}],\"scatterpolar\":[{\"type\":\"scatterpolar\",\"marker\":{\"colorbar\":{\"outlinewidth\":0,\"ticks\":\"\"}}}],\"histogram\":[{\"marker\":{\"pattern\":{\"fillmode\":\"overlay\",\"size\":10,\"solidity\":0.2}},\"type\":\"histogram\"}],\"scattergl\":[{\"type\":\"scattergl\",\"marker\":{\"colorbar\":{\"outlinewidth\":0,\"ticks\":\"\"}}}],\"scatter3d\":[{\"type\":\"scatter3d\",\"line\":{\"colorbar\":{\"outlinewidth\":0,\"ticks\":\"\"}},\"marker\":{\"colorbar\":{\"outlinewidth\":0,\"ticks\":\"\"}}}],\"scattermapbox\":[{\"type\":\"scattermapbox\",\"marker\":{\"colorbar\":{\"outlinewidth\":0,\"ticks\":\"\"}}}],\"scatterternary\":[{\"type\":\"scatterternary\",\"marker\":{\"colorbar\":{\"outlinewidth\":0,\"ticks\":\"\"}}}],\"scattercarpet\":[{\"type\":\"scattercarpet\",\"marker\":{\"colorbar\":{\"outlinewidth\":0,\"ticks\":\"\"}}}],\"carpet\":[{\"aaxis\":{\"endlinecolor\":\"#2a3f5f\",\"gridcolor\":\"white\",\"linecolor\":\"white\",\"minorgridcolor\":\"white\",\"startlinecolor\":\"#2a3f5f\"},\"baxis\":{\"endlinecolor\":\"#2a3f5f\",\"gridcolor\":\"white\",\"linecolor\":\"white\",\"minorgridcolor\":\"white\",\"startlinecolor\":\"#2a3f5f\"},\"type\":\"carpet\"}],\"table\":[{\"cells\":{\"fill\":{\"color\":\"#EBF0F8\"},\"line\":{\"color\":\"white\"}},\"header\":{\"fill\":{\"color\":\"#C8D4E3\"},\"line\":{\"color\":\"white\"}},\"type\":\"table\"}],\"barpolar\":[{\"marker\":{\"line\":{\"color\":\"#E5ECF6\",\"width\":0.5},\"pattern\":{\"fillmode\":\"overlay\",\"size\":10,\"solidity\":0.2}},\"type\":\"barpolar\"}],\"pie\":[{\"automargin\":true,\"type\":\"pie\"}]},\"layout\":{\"autotypenumbers\":\"strict\",\"colorway\":[\"#636efa\",\"#EF553B\",\"#00cc96\",\"#ab63fa\",\"#FFA15A\",\"#19d3f3\",\"#FF6692\",\"#B6E880\",\"#FF97FF\",\"#FECB52\"],\"font\":{\"color\":\"#2a3f5f\"},\"hovermode\":\"closest\",\"hoverlabel\":{\"align\":\"left\"},\"paper_bgcolor\":\"white\",\"plot_bgcolor\":\"#E5ECF6\",\"polar\":{\"bgcolor\":\"#E5ECF6\",\"angularaxis\":{\"gridcolor\":\"white\",\"linecolor\":\"white\",\"ticks\":\"\"},\"radialaxis\":{\"gridcolor\":\"white\",\"linecolor\":\"white\",\"ticks\":\"\"}},\"ternary\":{\"bgcolor\":\"#E5ECF6\",\"aaxis\":{\"gridcolor\":\"white\",\"linecolor\":\"white\",\"ticks\":\"\"},\"baxis\":{\"gridcolor\":\"white\",\"linecolor\":\"white\",\"ticks\":\"\"},\"caxis\":{\"gridcolor\":\"white\",\"linecolor\":\"white\",\"ticks\":\"\"}},\"coloraxis\":{\"colorbar\":{\"outlinewidth\":0,\"ticks\":\"\"}},\"colorscale\":{\"sequential\":[[0.0,\"#0d0887\"],[0.1111111111111111,\"#46039f\"],[0.2222222222222222,\"#7201a8\"],[0.3333333333333333,\"#9c179e\"],[0.4444444444444444,\"#bd3786\"],[0.5555555555555556,\"#d8576b\"],[0.6666666666666666,\"#ed7953\"],[0.7777777777777778,\"#fb9f3a\"],[0.8888888888888888,\"#fdca26\"],[1.0,\"#f0f921\"]],\"sequentialminus\":[[0.0,\"#0d0887\"],[0.1111111111111111,\"#46039f\"],[0.2222222222222222,\"#7201a8\"],[0.3333333333333333,\"#9c179e\"],[0.4444444444444444,\"#bd3786\"],[0.5555555555555556,\"#d8576b\"],[0.6666666666666666,\"#ed7953\"],[0.7777777777777778,\"#fb9f3a\"],[0.8888888888888888,\"#fdca26\"],[1.0,\"#f0f921\"]],\"diverging\":[[0,\"#8e0152\"],[0.1,\"#c51b7d\"],[0.2,\"#de77ae\"],[0.3,\"#f1b6da\"],[0.4,\"#fde0ef\"],[0.5,\"#f7f7f7\"],[0.6,\"#e6f5d0\"],[0.7,\"#b8e186\"],[0.8,\"#7fbc41\"],[0.9,\"#4d9221\"],[1,\"#276419\"]]},\"xaxis\":{\"gridcolor\":\"white\",\"linecolor\":\"white\",\"ticks\":\"\",\"title\":{\"standoff\":15},\"zerolinecolor\":\"white\",\"automargin\":true,\"zerolinewidth\":2},\"yaxis\":{\"gridcolor\":\"white\",\"linecolor\":\"white\",\"ticks\":\"\",\"title\":{\"standoff\":15},\"zerolinecolor\":\"white\",\"automargin\":true,\"zerolinewidth\":2},\"scene\":{\"xaxis\":{\"backgroundcolor\":\"#E5ECF6\",\"gridcolor\":\"white\",\"linecolor\":\"white\",\"showbackground\":true,\"ticks\":\"\",\"zerolinecolor\":\"white\",\"gridwidth\":2},\"yaxis\":{\"backgroundcolor\":\"#E5ECF6\",\"gridcolor\":\"white\",\"linecolor\":\"white\",\"showbackground\":true,\"ticks\":\"\",\"zerolinecolor\":\"white\",\"gridwidth\":2},\"zaxis\":{\"backgroundcolor\":\"#E5ECF6\",\"gridcolor\":\"white\",\"linecolor\":\"white\",\"showbackground\":true,\"ticks\":\"\",\"zerolinecolor\":\"white\",\"gridwidth\":2}},\"shapedefaults\":{\"line\":{\"color\":\"#2a3f5f\"}},\"annotationdefaults\":{\"arrowcolor\":\"#2a3f5f\",\"arrowhead\":0,\"arrowwidth\":1},\"geo\":{\"bgcolor\":\"white\",\"landcolor\":\"#E5ECF6\",\"subunitcolor\":\"white\",\"showland\":true,\"showlakes\":true,\"lakecolor\":\"white\"},\"title\":{\"x\":0.05},\"mapbox\":{\"style\":\"light\"}}},\"scene\":{\"domain\":{\"x\":[0.0,1.0],\"y\":[0.0,1.0]},\"xaxis\":{\"title\":{\"text\":\"Sepal Length\"}},\"yaxis\":{\"title\":{\"text\":\"Sepal Width\"}},\"zaxis\":{\"title\":{\"text\":\"Petal Length\"}}},\"legend\":{\"title\":{\"text\":\"color\"},\"tracegroupgap\":0},\"title\":{\"text\":\"Dataset\"},\"height\":600},                        {\"responsive\": true}                    ).then(function(){\n                            \nvar gd = document.getElementById('3ecec4f3-5a43-49ba-a8ba-2b6e072f34dc');\nvar x = new MutationObserver(function (mutations, observer) {{\n        var display = window.getComputedStyle(gd).display;\n        if (!display || display === 'none') {{\n            console.log([gd, 'removed!']);\n            Plotly.purge(gd);\n            observer.disconnect();\n        }}\n}});\n\n// Listen for the removal of the full notebook cells\nvar notebookContainer = gd.closest('#notebook-container');\nif (notebookContainer) {{\n    x.observe(notebookContainer, {childList: true});\n}}\n\n// Listen for the clearing of the current output cell\nvar outputEl = gd.closest('.output');\nif (outputEl) {{\n    x.observe(outputEl, {childList: true});\n}}\n\n                        })                };                });            </script>        </div>"
     },
     "metadata": {},
     "output_type": "display_data"
    },
    {
     "data": {
      "application/vnd.plotly.v1+json": {
       "data": [
        {
         "hovertemplate": "Cluster Affiliation=2<br>Sepal Length=%{x}<br>Sepal Width=%{y}<br>Petal Length=%{z}<extra></extra>",
         "legendgroup": "2",
         "marker": {
          "color": "#636efa",
          "symbol": "circle-open"
         },
         "mode": "markers",
         "name": "2",
         "scene": "scene",
         "showlegend": true,
         "x": [
          5.1,
          4.9,
          4.7,
          4.6,
          5.0,
          5.4,
          4.6,
          5.0,
          4.4,
          4.9,
          5.4,
          4.8,
          4.8,
          4.3,
          5.8,
          5.7,
          5.4,
          5.1,
          5.7,
          5.1,
          5.4,
          5.1,
          4.6,
          5.1,
          4.8,
          5.0,
          5.0,
          5.2,
          5.2,
          4.7,
          4.8,
          5.4,
          5.2,
          5.5,
          4.9,
          5.0,
          5.5,
          4.9,
          4.4,
          5.1,
          5.0,
          4.5,
          4.4,
          5.0,
          5.1,
          4.8,
          5.1,
          4.6,
          5.3,
          5.0
         ],
         "y": [
          3.5,
          3.0,
          3.2,
          3.1,
          3.6,
          3.9,
          3.4,
          3.4,
          2.9,
          3.1,
          3.7,
          3.4,
          3.0,
          3.0,
          4.0,
          4.4,
          3.9,
          3.5,
          3.8,
          3.8,
          3.4,
          3.7,
          3.6,
          3.3,
          3.4,
          3.0,
          3.4,
          3.5,
          3.4,
          3.2,
          3.1,
          3.4,
          4.1,
          4.2,
          3.1,
          3.2,
          3.5,
          3.6,
          3.0,
          3.4,
          3.5,
          2.3,
          3.2,
          3.5,
          3.8,
          3.0,
          3.8,
          3.2,
          3.7,
          3.3
         ],
         "z": [
          1.4,
          1.4,
          1.3,
          1.5,
          1.4,
          1.7,
          1.4,
          1.5,
          1.4,
          1.5,
          1.5,
          1.6,
          1.4,
          1.1,
          1.2,
          1.5,
          1.3,
          1.4,
          1.7,
          1.5,
          1.7,
          1.5,
          1.0,
          1.7,
          1.9,
          1.6,
          1.6,
          1.5,
          1.4,
          1.6,
          1.6,
          1.5,
          1.5,
          1.4,
          1.5,
          1.2,
          1.3,
          1.4,
          1.3,
          1.5,
          1.3,
          1.3,
          1.3,
          1.6,
          1.9,
          1.4,
          1.6,
          1.4,
          1.5,
          1.4
         ],
         "type": "scatter3d"
        },
        {
         "hovertemplate": "Cluster Affiliation=1<br>Sepal Length=%{x}<br>Sepal Width=%{y}<br>Petal Length=%{z}<extra></extra>",
         "legendgroup": "1",
         "marker": {
          "color": "#EF553B",
          "symbol": "diamond-open"
         },
         "mode": "markers",
         "name": "1",
         "scene": "scene",
         "showlegend": true,
         "x": [
          7.0,
          6.9,
          6.8,
          6.7,
          6.7,
          6.3,
          7.1,
          6.3,
          6.5,
          7.6,
          7.3,
          6.7,
          7.2,
          6.5,
          6.4,
          6.8,
          6.4,
          6.5,
          7.7,
          7.7,
          6.9,
          7.7,
          6.7,
          7.2,
          6.4,
          7.2,
          7.4,
          7.9,
          6.4,
          6.3,
          6.1,
          7.7,
          6.3,
          6.4,
          6.9,
          6.7,
          6.9,
          6.8,
          6.7,
          6.7,
          6.5,
          6.2
         ],
         "y": [
          3.2,
          3.1,
          2.8,
          3.0,
          3.1,
          3.3,
          3.0,
          2.9,
          3.0,
          3.0,
          2.9,
          2.5,
          3.6,
          3.2,
          2.7,
          3.0,
          3.2,
          3.0,
          3.8,
          2.6,
          3.2,
          2.8,
          3.3,
          3.2,
          2.8,
          3.0,
          2.8,
          3.8,
          2.8,
          2.8,
          2.6,
          3.0,
          3.4,
          3.1,
          3.1,
          3.1,
          3.1,
          3.2,
          3.3,
          3.0,
          3.0,
          3.4
         ],
         "z": [
          4.7,
          4.9,
          4.8,
          5.0,
          4.7,
          6.0,
          5.9,
          5.6,
          5.8,
          6.6,
          6.3,
          5.8,
          6.1,
          5.1,
          5.3,
          5.5,
          5.3,
          5.5,
          6.7,
          6.9,
          5.7,
          6.7,
          5.7,
          6.0,
          5.6,
          5.8,
          6.1,
          6.4,
          5.6,
          5.1,
          5.6,
          6.1,
          5.6,
          5.5,
          5.4,
          5.6,
          5.1,
          5.9,
          5.7,
          5.2,
          5.2,
          5.4
         ],
         "type": "scatter3d"
        },
        {
         "hovertemplate": "Cluster Affiliation=0<br>Sepal Length=%{x}<br>Sepal Width=%{y}<br>Petal Length=%{z}<extra></extra>",
         "legendgroup": "0",
         "marker": {
          "color": "#00cc96",
          "symbol": "square-open"
         },
         "mode": "markers",
         "name": "0",
         "scene": "scene",
         "showlegend": true,
         "x": [
          6.4,
          5.5,
          6.5,
          5.7,
          6.3,
          4.9,
          6.6,
          5.2,
          5.0,
          5.9,
          6.0,
          6.1,
          5.6,
          6.7,
          5.6,
          5.8,
          6.2,
          5.6,
          5.9,
          6.1,
          6.3,
          6.1,
          6.4,
          6.6,
          6.0,
          5.7,
          5.5,
          5.5,
          5.8,
          6.0,
          5.4,
          6.0,
          6.3,
          5.6,
          5.5,
          5.5,
          6.1,
          5.8,
          5.0,
          5.6,
          5.7,
          5.7,
          6.2,
          5.1,
          5.7,
          5.8,
          4.9,
          5.7,
          5.8,
          6.0,
          5.6,
          6.3,
          6.2,
          6.1,
          6.0,
          5.8,
          6.3,
          5.9
         ],
         "y": [
          3.2,
          2.3,
          2.8,
          2.8,
          3.3,
          2.4,
          2.9,
          2.7,
          2.0,
          3.0,
          2.2,
          2.9,
          2.9,
          3.1,
          3.0,
          2.7,
          2.2,
          2.5,
          3.2,
          2.8,
          2.5,
          2.8,
          2.9,
          3.0,
          2.9,
          2.6,
          2.4,
          2.4,
          2.7,
          2.7,
          3.0,
          3.4,
          2.3,
          3.0,
          2.5,
          2.6,
          3.0,
          2.6,
          2.3,
          2.7,
          3.0,
          2.9,
          2.9,
          2.5,
          2.8,
          2.7,
          2.5,
          2.5,
          2.8,
          2.2,
          2.8,
          2.7,
          2.8,
          3.0,
          3.0,
          2.7,
          2.5,
          3.0
         ],
         "z": [
          4.5,
          4.0,
          4.6,
          4.5,
          4.7,
          3.3,
          4.6,
          3.9,
          3.5,
          4.2,
          4.0,
          4.7,
          3.6,
          4.4,
          4.5,
          4.1,
          4.5,
          3.9,
          4.8,
          4.0,
          4.9,
          4.7,
          4.3,
          4.4,
          4.5,
          3.5,
          3.8,
          3.7,
          3.9,
          5.1,
          4.5,
          4.5,
          4.4,
          4.1,
          4.0,
          4.4,
          4.6,
          4.0,
          3.3,
          4.2,
          4.2,
          4.2,
          4.3,
          3.0,
          4.1,
          5.1,
          4.5,
          5.0,
          5.1,
          5.0,
          4.9,
          4.9,
          4.8,
          4.9,
          4.8,
          5.1,
          5.0,
          5.1
         ],
         "type": "scatter3d"
        }
       ],
       "layout": {
        "template": {
         "data": {
          "histogram2dcontour": [
           {
            "type": "histogram2dcontour",
            "colorbar": {
             "outlinewidth": 0,
             "ticks": ""
            },
            "colorscale": [
             [
              0.0,
              "#0d0887"
             ],
             [
              0.1111111111111111,
              "#46039f"
             ],
             [
              0.2222222222222222,
              "#7201a8"
             ],
             [
              0.3333333333333333,
              "#9c179e"
             ],
             [
              0.4444444444444444,
              "#bd3786"
             ],
             [
              0.5555555555555556,
              "#d8576b"
             ],
             [
              0.6666666666666666,
              "#ed7953"
             ],
             [
              0.7777777777777778,
              "#fb9f3a"
             ],
             [
              0.8888888888888888,
              "#fdca26"
             ],
             [
              1.0,
              "#f0f921"
             ]
            ]
           }
          ],
          "choropleth": [
           {
            "type": "choropleth",
            "colorbar": {
             "outlinewidth": 0,
             "ticks": ""
            }
           }
          ],
          "histogram2d": [
           {
            "type": "histogram2d",
            "colorbar": {
             "outlinewidth": 0,
             "ticks": ""
            },
            "colorscale": [
             [
              0.0,
              "#0d0887"
             ],
             [
              0.1111111111111111,
              "#46039f"
             ],
             [
              0.2222222222222222,
              "#7201a8"
             ],
             [
              0.3333333333333333,
              "#9c179e"
             ],
             [
              0.4444444444444444,
              "#bd3786"
             ],
             [
              0.5555555555555556,
              "#d8576b"
             ],
             [
              0.6666666666666666,
              "#ed7953"
             ],
             [
              0.7777777777777778,
              "#fb9f3a"
             ],
             [
              0.8888888888888888,
              "#fdca26"
             ],
             [
              1.0,
              "#f0f921"
             ]
            ]
           }
          ],
          "heatmap": [
           {
            "type": "heatmap",
            "colorbar": {
             "outlinewidth": 0,
             "ticks": ""
            },
            "colorscale": [
             [
              0.0,
              "#0d0887"
             ],
             [
              0.1111111111111111,
              "#46039f"
             ],
             [
              0.2222222222222222,
              "#7201a8"
             ],
             [
              0.3333333333333333,
              "#9c179e"
             ],
             [
              0.4444444444444444,
              "#bd3786"
             ],
             [
              0.5555555555555556,
              "#d8576b"
             ],
             [
              0.6666666666666666,
              "#ed7953"
             ],
             [
              0.7777777777777778,
              "#fb9f3a"
             ],
             [
              0.8888888888888888,
              "#fdca26"
             ],
             [
              1.0,
              "#f0f921"
             ]
            ]
           }
          ],
          "heatmapgl": [
           {
            "type": "heatmapgl",
            "colorbar": {
             "outlinewidth": 0,
             "ticks": ""
            },
            "colorscale": [
             [
              0.0,
              "#0d0887"
             ],
             [
              0.1111111111111111,
              "#46039f"
             ],
             [
              0.2222222222222222,
              "#7201a8"
             ],
             [
              0.3333333333333333,
              "#9c179e"
             ],
             [
              0.4444444444444444,
              "#bd3786"
             ],
             [
              0.5555555555555556,
              "#d8576b"
             ],
             [
              0.6666666666666666,
              "#ed7953"
             ],
             [
              0.7777777777777778,
              "#fb9f3a"
             ],
             [
              0.8888888888888888,
              "#fdca26"
             ],
             [
              1.0,
              "#f0f921"
             ]
            ]
           }
          ],
          "contourcarpet": [
           {
            "type": "contourcarpet",
            "colorbar": {
             "outlinewidth": 0,
             "ticks": ""
            }
           }
          ],
          "contour": [
           {
            "type": "contour",
            "colorbar": {
             "outlinewidth": 0,
             "ticks": ""
            },
            "colorscale": [
             [
              0.0,
              "#0d0887"
             ],
             [
              0.1111111111111111,
              "#46039f"
             ],
             [
              0.2222222222222222,
              "#7201a8"
             ],
             [
              0.3333333333333333,
              "#9c179e"
             ],
             [
              0.4444444444444444,
              "#bd3786"
             ],
             [
              0.5555555555555556,
              "#d8576b"
             ],
             [
              0.6666666666666666,
              "#ed7953"
             ],
             [
              0.7777777777777778,
              "#fb9f3a"
             ],
             [
              0.8888888888888888,
              "#fdca26"
             ],
             [
              1.0,
              "#f0f921"
             ]
            ]
           }
          ],
          "surface": [
           {
            "type": "surface",
            "colorbar": {
             "outlinewidth": 0,
             "ticks": ""
            },
            "colorscale": [
             [
              0.0,
              "#0d0887"
             ],
             [
              0.1111111111111111,
              "#46039f"
             ],
             [
              0.2222222222222222,
              "#7201a8"
             ],
             [
              0.3333333333333333,
              "#9c179e"
             ],
             [
              0.4444444444444444,
              "#bd3786"
             ],
             [
              0.5555555555555556,
              "#d8576b"
             ],
             [
              0.6666666666666666,
              "#ed7953"
             ],
             [
              0.7777777777777778,
              "#fb9f3a"
             ],
             [
              0.8888888888888888,
              "#fdca26"
             ],
             [
              1.0,
              "#f0f921"
             ]
            ]
           }
          ],
          "mesh3d": [
           {
            "type": "mesh3d",
            "colorbar": {
             "outlinewidth": 0,
             "ticks": ""
            }
           }
          ],
          "scatter": [
           {
            "fillpattern": {
             "fillmode": "overlay",
             "size": 10,
             "solidity": 0.2
            },
            "type": "scatter"
           }
          ],
          "parcoords": [
           {
            "type": "parcoords",
            "line": {
             "colorbar": {
              "outlinewidth": 0,
              "ticks": ""
             }
            }
           }
          ],
          "scatterpolargl": [
           {
            "type": "scatterpolargl",
            "marker": {
             "colorbar": {
              "outlinewidth": 0,
              "ticks": ""
             }
            }
           }
          ],
          "bar": [
           {
            "error_x": {
             "color": "#2a3f5f"
            },
            "error_y": {
             "color": "#2a3f5f"
            },
            "marker": {
             "line": {
              "color": "#E5ECF6",
              "width": 0.5
             },
             "pattern": {
              "fillmode": "overlay",
              "size": 10,
              "solidity": 0.2
             }
            },
            "type": "bar"
           }
          ],
          "scattergeo": [
           {
            "type": "scattergeo",
            "marker": {
             "colorbar": {
              "outlinewidth": 0,
              "ticks": ""
             }
            }
           }
          ],
          "scatterpolar": [
           {
            "type": "scatterpolar",
            "marker": {
             "colorbar": {
              "outlinewidth": 0,
              "ticks": ""
             }
            }
           }
          ],
          "histogram": [
           {
            "marker": {
             "pattern": {
              "fillmode": "overlay",
              "size": 10,
              "solidity": 0.2
             }
            },
            "type": "histogram"
           }
          ],
          "scattergl": [
           {
            "type": "scattergl",
            "marker": {
             "colorbar": {
              "outlinewidth": 0,
              "ticks": ""
             }
            }
           }
          ],
          "scatter3d": [
           {
            "type": "scatter3d",
            "line": {
             "colorbar": {
              "outlinewidth": 0,
              "ticks": ""
             }
            },
            "marker": {
             "colorbar": {
              "outlinewidth": 0,
              "ticks": ""
             }
            }
           }
          ],
          "scattermapbox": [
           {
            "type": "scattermapbox",
            "marker": {
             "colorbar": {
              "outlinewidth": 0,
              "ticks": ""
             }
            }
           }
          ],
          "scatterternary": [
           {
            "type": "scatterternary",
            "marker": {
             "colorbar": {
              "outlinewidth": 0,
              "ticks": ""
             }
            }
           }
          ],
          "scattercarpet": [
           {
            "type": "scattercarpet",
            "marker": {
             "colorbar": {
              "outlinewidth": 0,
              "ticks": ""
             }
            }
           }
          ],
          "carpet": [
           {
            "aaxis": {
             "endlinecolor": "#2a3f5f",
             "gridcolor": "white",
             "linecolor": "white",
             "minorgridcolor": "white",
             "startlinecolor": "#2a3f5f"
            },
            "baxis": {
             "endlinecolor": "#2a3f5f",
             "gridcolor": "white",
             "linecolor": "white",
             "minorgridcolor": "white",
             "startlinecolor": "#2a3f5f"
            },
            "type": "carpet"
           }
          ],
          "table": [
           {
            "cells": {
             "fill": {
              "color": "#EBF0F8"
             },
             "line": {
              "color": "white"
             }
            },
            "header": {
             "fill": {
              "color": "#C8D4E3"
             },
             "line": {
              "color": "white"
             }
            },
            "type": "table"
           }
          ],
          "barpolar": [
           {
            "marker": {
             "line": {
              "color": "#E5ECF6",
              "width": 0.5
             },
             "pattern": {
              "fillmode": "overlay",
              "size": 10,
              "solidity": 0.2
             }
            },
            "type": "barpolar"
           }
          ],
          "pie": [
           {
            "automargin": true,
            "type": "pie"
           }
          ]
         },
         "layout": {
          "autotypenumbers": "strict",
          "colorway": [
           "#636efa",
           "#EF553B",
           "#00cc96",
           "#ab63fa",
           "#FFA15A",
           "#19d3f3",
           "#FF6692",
           "#B6E880",
           "#FF97FF",
           "#FECB52"
          ],
          "font": {
           "color": "#2a3f5f"
          },
          "hovermode": "closest",
          "hoverlabel": {
           "align": "left"
          },
          "paper_bgcolor": "white",
          "plot_bgcolor": "#E5ECF6",
          "polar": {
           "bgcolor": "#E5ECF6",
           "angularaxis": {
            "gridcolor": "white",
            "linecolor": "white",
            "ticks": ""
           },
           "radialaxis": {
            "gridcolor": "white",
            "linecolor": "white",
            "ticks": ""
           }
          },
          "ternary": {
           "bgcolor": "#E5ECF6",
           "aaxis": {
            "gridcolor": "white",
            "linecolor": "white",
            "ticks": ""
           },
           "baxis": {
            "gridcolor": "white",
            "linecolor": "white",
            "ticks": ""
           },
           "caxis": {
            "gridcolor": "white",
            "linecolor": "white",
            "ticks": ""
           }
          },
          "coloraxis": {
           "colorbar": {
            "outlinewidth": 0,
            "ticks": ""
           }
          },
          "colorscale": {
           "sequential": [
            [
             0.0,
             "#0d0887"
            ],
            [
             0.1111111111111111,
             "#46039f"
            ],
            [
             0.2222222222222222,
             "#7201a8"
            ],
            [
             0.3333333333333333,
             "#9c179e"
            ],
            [
             0.4444444444444444,
             "#bd3786"
            ],
            [
             0.5555555555555556,
             "#d8576b"
            ],
            [
             0.6666666666666666,
             "#ed7953"
            ],
            [
             0.7777777777777778,
             "#fb9f3a"
            ],
            [
             0.8888888888888888,
             "#fdca26"
            ],
            [
             1.0,
             "#f0f921"
            ]
           ],
           "sequentialminus": [
            [
             0.0,
             "#0d0887"
            ],
            [
             0.1111111111111111,
             "#46039f"
            ],
            [
             0.2222222222222222,
             "#7201a8"
            ],
            [
             0.3333333333333333,
             "#9c179e"
            ],
            [
             0.4444444444444444,
             "#bd3786"
            ],
            [
             0.5555555555555556,
             "#d8576b"
            ],
            [
             0.6666666666666666,
             "#ed7953"
            ],
            [
             0.7777777777777778,
             "#fb9f3a"
            ],
            [
             0.8888888888888888,
             "#fdca26"
            ],
            [
             1.0,
             "#f0f921"
            ]
           ],
           "diverging": [
            [
             0,
             "#8e0152"
            ],
            [
             0.1,
             "#c51b7d"
            ],
            [
             0.2,
             "#de77ae"
            ],
            [
             0.3,
             "#f1b6da"
            ],
            [
             0.4,
             "#fde0ef"
            ],
            [
             0.5,
             "#f7f7f7"
            ],
            [
             0.6,
             "#e6f5d0"
            ],
            [
             0.7,
             "#b8e186"
            ],
            [
             0.8,
             "#7fbc41"
            ],
            [
             0.9,
             "#4d9221"
            ],
            [
             1,
             "#276419"
            ]
           ]
          },
          "xaxis": {
           "gridcolor": "white",
           "linecolor": "white",
           "ticks": "",
           "title": {
            "standoff": 15
           },
           "zerolinecolor": "white",
           "automargin": true,
           "zerolinewidth": 2
          },
          "yaxis": {
           "gridcolor": "white",
           "linecolor": "white",
           "ticks": "",
           "title": {
            "standoff": 15
           },
           "zerolinecolor": "white",
           "automargin": true,
           "zerolinewidth": 2
          },
          "scene": {
           "xaxis": {
            "backgroundcolor": "#E5ECF6",
            "gridcolor": "white",
            "linecolor": "white",
            "showbackground": true,
            "ticks": "",
            "zerolinecolor": "white",
            "gridwidth": 2
           },
           "yaxis": {
            "backgroundcolor": "#E5ECF6",
            "gridcolor": "white",
            "linecolor": "white",
            "showbackground": true,
            "ticks": "",
            "zerolinecolor": "white",
            "gridwidth": 2
           },
           "zaxis": {
            "backgroundcolor": "#E5ECF6",
            "gridcolor": "white",
            "linecolor": "white",
            "showbackground": true,
            "ticks": "",
            "zerolinecolor": "white",
            "gridwidth": 2
           }
          },
          "shapedefaults": {
           "line": {
            "color": "#2a3f5f"
           }
          },
          "annotationdefaults": {
           "arrowcolor": "#2a3f5f",
           "arrowhead": 0,
           "arrowwidth": 1
          },
          "geo": {
           "bgcolor": "white",
           "landcolor": "#E5ECF6",
           "subunitcolor": "white",
           "showland": true,
           "showlakes": true,
           "lakecolor": "white"
          },
          "title": {
           "x": 0.05
          },
          "mapbox": {
           "style": "light"
          }
         }
        },
        "scene": {
         "domain": {
          "x": [
           0.0,
           1.0
          ],
          "y": [
           0.0,
           1.0
          ]
         },
         "xaxis": {
          "title": {
           "text": "Sepal Length"
          }
         },
         "yaxis": {
          "title": {
           "text": "Sepal Width"
          }
         },
         "zaxis": {
          "title": {
           "text": "Petal Length"
          }
         }
        },
        "legend": {
         "title": {
          "text": "Cluster Affiliation"
         },
         "tracegroupgap": 0
        },
        "title": {
         "text": "Cluster Affiliation"
        },
        "height": 600
       },
       "config": {
        "plotlyServerURL": "https://plot.ly"
       }
      },
      "text/html": "<div>                            <div id=\"e0a916e4-3989-4942-80a7-148146b350de\" class=\"plotly-graph-div\" style=\"height:600px; width:100%;\"></div>            <script type=\"text/javascript\">                require([\"plotly\"], function(Plotly) {                    window.PLOTLYENV=window.PLOTLYENV || {};                                    if (document.getElementById(\"e0a916e4-3989-4942-80a7-148146b350de\")) {                    Plotly.newPlot(                        \"e0a916e4-3989-4942-80a7-148146b350de\",                        [{\"hovertemplate\":\"Cluster Affiliation=2<br>Sepal Length=%{x}<br>Sepal Width=%{y}<br>Petal Length=%{z}<extra></extra>\",\"legendgroup\":\"2\",\"marker\":{\"color\":\"#636efa\",\"symbol\":\"circle-open\"},\"mode\":\"markers\",\"name\":\"2\",\"scene\":\"scene\",\"showlegend\":true,\"x\":[5.1,4.9,4.7,4.6,5.0,5.4,4.6,5.0,4.4,4.9,5.4,4.8,4.8,4.3,5.8,5.7,5.4,5.1,5.7,5.1,5.4,5.1,4.6,5.1,4.8,5.0,5.0,5.2,5.2,4.7,4.8,5.4,5.2,5.5,4.9,5.0,5.5,4.9,4.4,5.1,5.0,4.5,4.4,5.0,5.1,4.8,5.1,4.6,5.3,5.0],\"y\":[3.5,3.0,3.2,3.1,3.6,3.9,3.4,3.4,2.9,3.1,3.7,3.4,3.0,3.0,4.0,4.4,3.9,3.5,3.8,3.8,3.4,3.7,3.6,3.3,3.4,3.0,3.4,3.5,3.4,3.2,3.1,3.4,4.1,4.2,3.1,3.2,3.5,3.6,3.0,3.4,3.5,2.3,3.2,3.5,3.8,3.0,3.8,3.2,3.7,3.3],\"z\":[1.4,1.4,1.3,1.5,1.4,1.7,1.4,1.5,1.4,1.5,1.5,1.6,1.4,1.1,1.2,1.5,1.3,1.4,1.7,1.5,1.7,1.5,1.0,1.7,1.9,1.6,1.6,1.5,1.4,1.6,1.6,1.5,1.5,1.4,1.5,1.2,1.3,1.4,1.3,1.5,1.3,1.3,1.3,1.6,1.9,1.4,1.6,1.4,1.5,1.4],\"type\":\"scatter3d\"},{\"hovertemplate\":\"Cluster Affiliation=1<br>Sepal Length=%{x}<br>Sepal Width=%{y}<br>Petal Length=%{z}<extra></extra>\",\"legendgroup\":\"1\",\"marker\":{\"color\":\"#EF553B\",\"symbol\":\"diamond-open\"},\"mode\":\"markers\",\"name\":\"1\",\"scene\":\"scene\",\"showlegend\":true,\"x\":[7.0,6.9,6.8,6.7,6.7,6.3,7.1,6.3,6.5,7.6,7.3,6.7,7.2,6.5,6.4,6.8,6.4,6.5,7.7,7.7,6.9,7.7,6.7,7.2,6.4,7.2,7.4,7.9,6.4,6.3,6.1,7.7,6.3,6.4,6.9,6.7,6.9,6.8,6.7,6.7,6.5,6.2],\"y\":[3.2,3.1,2.8,3.0,3.1,3.3,3.0,2.9,3.0,3.0,2.9,2.5,3.6,3.2,2.7,3.0,3.2,3.0,3.8,2.6,3.2,2.8,3.3,3.2,2.8,3.0,2.8,3.8,2.8,2.8,2.6,3.0,3.4,3.1,3.1,3.1,3.1,3.2,3.3,3.0,3.0,3.4],\"z\":[4.7,4.9,4.8,5.0,4.7,6.0,5.9,5.6,5.8,6.6,6.3,5.8,6.1,5.1,5.3,5.5,5.3,5.5,6.7,6.9,5.7,6.7,5.7,6.0,5.6,5.8,6.1,6.4,5.6,5.1,5.6,6.1,5.6,5.5,5.4,5.6,5.1,5.9,5.7,5.2,5.2,5.4],\"type\":\"scatter3d\"},{\"hovertemplate\":\"Cluster Affiliation=0<br>Sepal Length=%{x}<br>Sepal Width=%{y}<br>Petal Length=%{z}<extra></extra>\",\"legendgroup\":\"0\",\"marker\":{\"color\":\"#00cc96\",\"symbol\":\"square-open\"},\"mode\":\"markers\",\"name\":\"0\",\"scene\":\"scene\",\"showlegend\":true,\"x\":[6.4,5.5,6.5,5.7,6.3,4.9,6.6,5.2,5.0,5.9,6.0,6.1,5.6,6.7,5.6,5.8,6.2,5.6,5.9,6.1,6.3,6.1,6.4,6.6,6.0,5.7,5.5,5.5,5.8,6.0,5.4,6.0,6.3,5.6,5.5,5.5,6.1,5.8,5.0,5.6,5.7,5.7,6.2,5.1,5.7,5.8,4.9,5.7,5.8,6.0,5.6,6.3,6.2,6.1,6.0,5.8,6.3,5.9],\"y\":[3.2,2.3,2.8,2.8,3.3,2.4,2.9,2.7,2.0,3.0,2.2,2.9,2.9,3.1,3.0,2.7,2.2,2.5,3.2,2.8,2.5,2.8,2.9,3.0,2.9,2.6,2.4,2.4,2.7,2.7,3.0,3.4,2.3,3.0,2.5,2.6,3.0,2.6,2.3,2.7,3.0,2.9,2.9,2.5,2.8,2.7,2.5,2.5,2.8,2.2,2.8,2.7,2.8,3.0,3.0,2.7,2.5,3.0],\"z\":[4.5,4.0,4.6,4.5,4.7,3.3,4.6,3.9,3.5,4.2,4.0,4.7,3.6,4.4,4.5,4.1,4.5,3.9,4.8,4.0,4.9,4.7,4.3,4.4,4.5,3.5,3.8,3.7,3.9,5.1,4.5,4.5,4.4,4.1,4.0,4.4,4.6,4.0,3.3,4.2,4.2,4.2,4.3,3.0,4.1,5.1,4.5,5.0,5.1,5.0,4.9,4.9,4.8,4.9,4.8,5.1,5.0,5.1],\"type\":\"scatter3d\"}],                        {\"template\":{\"data\":{\"histogram2dcontour\":[{\"type\":\"histogram2dcontour\",\"colorbar\":{\"outlinewidth\":0,\"ticks\":\"\"},\"colorscale\":[[0.0,\"#0d0887\"],[0.1111111111111111,\"#46039f\"],[0.2222222222222222,\"#7201a8\"],[0.3333333333333333,\"#9c179e\"],[0.4444444444444444,\"#bd3786\"],[0.5555555555555556,\"#d8576b\"],[0.6666666666666666,\"#ed7953\"],[0.7777777777777778,\"#fb9f3a\"],[0.8888888888888888,\"#fdca26\"],[1.0,\"#f0f921\"]]}],\"choropleth\":[{\"type\":\"choropleth\",\"colorbar\":{\"outlinewidth\":0,\"ticks\":\"\"}}],\"histogram2d\":[{\"type\":\"histogram2d\",\"colorbar\":{\"outlinewidth\":0,\"ticks\":\"\"},\"colorscale\":[[0.0,\"#0d0887\"],[0.1111111111111111,\"#46039f\"],[0.2222222222222222,\"#7201a8\"],[0.3333333333333333,\"#9c179e\"],[0.4444444444444444,\"#bd3786\"],[0.5555555555555556,\"#d8576b\"],[0.6666666666666666,\"#ed7953\"],[0.7777777777777778,\"#fb9f3a\"],[0.8888888888888888,\"#fdca26\"],[1.0,\"#f0f921\"]]}],\"heatmap\":[{\"type\":\"heatmap\",\"colorbar\":{\"outlinewidth\":0,\"ticks\":\"\"},\"colorscale\":[[0.0,\"#0d0887\"],[0.1111111111111111,\"#46039f\"],[0.2222222222222222,\"#7201a8\"],[0.3333333333333333,\"#9c179e\"],[0.4444444444444444,\"#bd3786\"],[0.5555555555555556,\"#d8576b\"],[0.6666666666666666,\"#ed7953\"],[0.7777777777777778,\"#fb9f3a\"],[0.8888888888888888,\"#fdca26\"],[1.0,\"#f0f921\"]]}],\"heatmapgl\":[{\"type\":\"heatmapgl\",\"colorbar\":{\"outlinewidth\":0,\"ticks\":\"\"},\"colorscale\":[[0.0,\"#0d0887\"],[0.1111111111111111,\"#46039f\"],[0.2222222222222222,\"#7201a8\"],[0.3333333333333333,\"#9c179e\"],[0.4444444444444444,\"#bd3786\"],[0.5555555555555556,\"#d8576b\"],[0.6666666666666666,\"#ed7953\"],[0.7777777777777778,\"#fb9f3a\"],[0.8888888888888888,\"#fdca26\"],[1.0,\"#f0f921\"]]}],\"contourcarpet\":[{\"type\":\"contourcarpet\",\"colorbar\":{\"outlinewidth\":0,\"ticks\":\"\"}}],\"contour\":[{\"type\":\"contour\",\"colorbar\":{\"outlinewidth\":0,\"ticks\":\"\"},\"colorscale\":[[0.0,\"#0d0887\"],[0.1111111111111111,\"#46039f\"],[0.2222222222222222,\"#7201a8\"],[0.3333333333333333,\"#9c179e\"],[0.4444444444444444,\"#bd3786\"],[0.5555555555555556,\"#d8576b\"],[0.6666666666666666,\"#ed7953\"],[0.7777777777777778,\"#fb9f3a\"],[0.8888888888888888,\"#fdca26\"],[1.0,\"#f0f921\"]]}],\"surface\":[{\"type\":\"surface\",\"colorbar\":{\"outlinewidth\":0,\"ticks\":\"\"},\"colorscale\":[[0.0,\"#0d0887\"],[0.1111111111111111,\"#46039f\"],[0.2222222222222222,\"#7201a8\"],[0.3333333333333333,\"#9c179e\"],[0.4444444444444444,\"#bd3786\"],[0.5555555555555556,\"#d8576b\"],[0.6666666666666666,\"#ed7953\"],[0.7777777777777778,\"#fb9f3a\"],[0.8888888888888888,\"#fdca26\"],[1.0,\"#f0f921\"]]}],\"mesh3d\":[{\"type\":\"mesh3d\",\"colorbar\":{\"outlinewidth\":0,\"ticks\":\"\"}}],\"scatter\":[{\"fillpattern\":{\"fillmode\":\"overlay\",\"size\":10,\"solidity\":0.2},\"type\":\"scatter\"}],\"parcoords\":[{\"type\":\"parcoords\",\"line\":{\"colorbar\":{\"outlinewidth\":0,\"ticks\":\"\"}}}],\"scatterpolargl\":[{\"type\":\"scatterpolargl\",\"marker\":{\"colorbar\":{\"outlinewidth\":0,\"ticks\":\"\"}}}],\"bar\":[{\"error_x\":{\"color\":\"#2a3f5f\"},\"error_y\":{\"color\":\"#2a3f5f\"},\"marker\":{\"line\":{\"color\":\"#E5ECF6\",\"width\":0.5},\"pattern\":{\"fillmode\":\"overlay\",\"size\":10,\"solidity\":0.2}},\"type\":\"bar\"}],\"scattergeo\":[{\"type\":\"scattergeo\",\"marker\":{\"colorbar\":{\"outlinewidth\":0,\"ticks\":\"\"}}}],\"scatterpolar\":[{\"type\":\"scatterpolar\",\"marker\":{\"colorbar\":{\"outlinewidth\":0,\"ticks\":\"\"}}}],\"histogram\":[{\"marker\":{\"pattern\":{\"fillmode\":\"overlay\",\"size\":10,\"solidity\":0.2}},\"type\":\"histogram\"}],\"scattergl\":[{\"type\":\"scattergl\",\"marker\":{\"colorbar\":{\"outlinewidth\":0,\"ticks\":\"\"}}}],\"scatter3d\":[{\"type\":\"scatter3d\",\"line\":{\"colorbar\":{\"outlinewidth\":0,\"ticks\":\"\"}},\"marker\":{\"colorbar\":{\"outlinewidth\":0,\"ticks\":\"\"}}}],\"scattermapbox\":[{\"type\":\"scattermapbox\",\"marker\":{\"colorbar\":{\"outlinewidth\":0,\"ticks\":\"\"}}}],\"scatterternary\":[{\"type\":\"scatterternary\",\"marker\":{\"colorbar\":{\"outlinewidth\":0,\"ticks\":\"\"}}}],\"scattercarpet\":[{\"type\":\"scattercarpet\",\"marker\":{\"colorbar\":{\"outlinewidth\":0,\"ticks\":\"\"}}}],\"carpet\":[{\"aaxis\":{\"endlinecolor\":\"#2a3f5f\",\"gridcolor\":\"white\",\"linecolor\":\"white\",\"minorgridcolor\":\"white\",\"startlinecolor\":\"#2a3f5f\"},\"baxis\":{\"endlinecolor\":\"#2a3f5f\",\"gridcolor\":\"white\",\"linecolor\":\"white\",\"minorgridcolor\":\"white\",\"startlinecolor\":\"#2a3f5f\"},\"type\":\"carpet\"}],\"table\":[{\"cells\":{\"fill\":{\"color\":\"#EBF0F8\"},\"line\":{\"color\":\"white\"}},\"header\":{\"fill\":{\"color\":\"#C8D4E3\"},\"line\":{\"color\":\"white\"}},\"type\":\"table\"}],\"barpolar\":[{\"marker\":{\"line\":{\"color\":\"#E5ECF6\",\"width\":0.5},\"pattern\":{\"fillmode\":\"overlay\",\"size\":10,\"solidity\":0.2}},\"type\":\"barpolar\"}],\"pie\":[{\"automargin\":true,\"type\":\"pie\"}]},\"layout\":{\"autotypenumbers\":\"strict\",\"colorway\":[\"#636efa\",\"#EF553B\",\"#00cc96\",\"#ab63fa\",\"#FFA15A\",\"#19d3f3\",\"#FF6692\",\"#B6E880\",\"#FF97FF\",\"#FECB52\"],\"font\":{\"color\":\"#2a3f5f\"},\"hovermode\":\"closest\",\"hoverlabel\":{\"align\":\"left\"},\"paper_bgcolor\":\"white\",\"plot_bgcolor\":\"#E5ECF6\",\"polar\":{\"bgcolor\":\"#E5ECF6\",\"angularaxis\":{\"gridcolor\":\"white\",\"linecolor\":\"white\",\"ticks\":\"\"},\"radialaxis\":{\"gridcolor\":\"white\",\"linecolor\":\"white\",\"ticks\":\"\"}},\"ternary\":{\"bgcolor\":\"#E5ECF6\",\"aaxis\":{\"gridcolor\":\"white\",\"linecolor\":\"white\",\"ticks\":\"\"},\"baxis\":{\"gridcolor\":\"white\",\"linecolor\":\"white\",\"ticks\":\"\"},\"caxis\":{\"gridcolor\":\"white\",\"linecolor\":\"white\",\"ticks\":\"\"}},\"coloraxis\":{\"colorbar\":{\"outlinewidth\":0,\"ticks\":\"\"}},\"colorscale\":{\"sequential\":[[0.0,\"#0d0887\"],[0.1111111111111111,\"#46039f\"],[0.2222222222222222,\"#7201a8\"],[0.3333333333333333,\"#9c179e\"],[0.4444444444444444,\"#bd3786\"],[0.5555555555555556,\"#d8576b\"],[0.6666666666666666,\"#ed7953\"],[0.7777777777777778,\"#fb9f3a\"],[0.8888888888888888,\"#fdca26\"],[1.0,\"#f0f921\"]],\"sequentialminus\":[[0.0,\"#0d0887\"],[0.1111111111111111,\"#46039f\"],[0.2222222222222222,\"#7201a8\"],[0.3333333333333333,\"#9c179e\"],[0.4444444444444444,\"#bd3786\"],[0.5555555555555556,\"#d8576b\"],[0.6666666666666666,\"#ed7953\"],[0.7777777777777778,\"#fb9f3a\"],[0.8888888888888888,\"#fdca26\"],[1.0,\"#f0f921\"]],\"diverging\":[[0,\"#8e0152\"],[0.1,\"#c51b7d\"],[0.2,\"#de77ae\"],[0.3,\"#f1b6da\"],[0.4,\"#fde0ef\"],[0.5,\"#f7f7f7\"],[0.6,\"#e6f5d0\"],[0.7,\"#b8e186\"],[0.8,\"#7fbc41\"],[0.9,\"#4d9221\"],[1,\"#276419\"]]},\"xaxis\":{\"gridcolor\":\"white\",\"linecolor\":\"white\",\"ticks\":\"\",\"title\":{\"standoff\":15},\"zerolinecolor\":\"white\",\"automargin\":true,\"zerolinewidth\":2},\"yaxis\":{\"gridcolor\":\"white\",\"linecolor\":\"white\",\"ticks\":\"\",\"title\":{\"standoff\":15},\"zerolinecolor\":\"white\",\"automargin\":true,\"zerolinewidth\":2},\"scene\":{\"xaxis\":{\"backgroundcolor\":\"#E5ECF6\",\"gridcolor\":\"white\",\"linecolor\":\"white\",\"showbackground\":true,\"ticks\":\"\",\"zerolinecolor\":\"white\",\"gridwidth\":2},\"yaxis\":{\"backgroundcolor\":\"#E5ECF6\",\"gridcolor\":\"white\",\"linecolor\":\"white\",\"showbackground\":true,\"ticks\":\"\",\"zerolinecolor\":\"white\",\"gridwidth\":2},\"zaxis\":{\"backgroundcolor\":\"#E5ECF6\",\"gridcolor\":\"white\",\"linecolor\":\"white\",\"showbackground\":true,\"ticks\":\"\",\"zerolinecolor\":\"white\",\"gridwidth\":2}},\"shapedefaults\":{\"line\":{\"color\":\"#2a3f5f\"}},\"annotationdefaults\":{\"arrowcolor\":\"#2a3f5f\",\"arrowhead\":0,\"arrowwidth\":1},\"geo\":{\"bgcolor\":\"white\",\"landcolor\":\"#E5ECF6\",\"subunitcolor\":\"white\",\"showland\":true,\"showlakes\":true,\"lakecolor\":\"white\"},\"title\":{\"x\":0.05},\"mapbox\":{\"style\":\"light\"}}},\"scene\":{\"domain\":{\"x\":[0.0,1.0],\"y\":[0.0,1.0]},\"xaxis\":{\"title\":{\"text\":\"Sepal Length\"}},\"yaxis\":{\"title\":{\"text\":\"Sepal Width\"}},\"zaxis\":{\"title\":{\"text\":\"Petal Length\"}}},\"legend\":{\"title\":{\"text\":\"Cluster Affiliation\"},\"tracegroupgap\":0},\"title\":{\"text\":\"Cluster Affiliation\"},\"height\":600},                        {\"responsive\": true}                    ).then(function(){\n                            \nvar gd = document.getElementById('e0a916e4-3989-4942-80a7-148146b350de');\nvar x = new MutationObserver(function (mutations, observer) {{\n        var display = window.getComputedStyle(gd).display;\n        if (!display || display === 'none') {{\n            console.log([gd, 'removed!']);\n            Plotly.purge(gd);\n            observer.disconnect();\n        }}\n}});\n\n// Listen for the removal of the full notebook cells\nvar notebookContainer = gd.closest('#notebook-container');\nif (notebookContainer) {{\n    x.observe(notebookContainer, {childList: true});\n}}\n\n// Listen for the clearing of the current output cell\nvar outputEl = gd.closest('.output');\nif (outputEl) {{\n    x.observe(outputEl, {childList: true});\n}}\n\n                        })                };                });            </script>        </div>"
     },
     "metadata": {},
     "output_type": "display_data"
    },
    {
     "name": "stdout",
     "output_type": "stream",
     "text": [
      "Data:\n"
     ]
    },
    {
     "data": {
      "text/plain": "     Sepal Length  Sepal Width  Petal Length Cluster Affiliation  \\\n0             5.1          3.5           1.4         Iris-setosa   \n1             4.9          3.0           1.4         Iris-setosa   \n2             4.7          3.2           1.3         Iris-setosa   \n3             4.6          3.1           1.5         Iris-setosa   \n4             5.0          3.6           1.4         Iris-setosa   \n5             5.4          3.9           1.7         Iris-setosa   \n6             4.6          3.4           1.4         Iris-setosa   \n7             5.0          3.4           1.5         Iris-setosa   \n8             4.4          2.9           1.4         Iris-setosa   \n9             4.9          3.1           1.5         Iris-setosa   \n10            5.4          3.7           1.5         Iris-setosa   \n11            4.8          3.4           1.6         Iris-setosa   \n12            4.8          3.0           1.4         Iris-setosa   \n13            4.3          3.0           1.1         Iris-setosa   \n14            5.8          4.0           1.2         Iris-setosa   \n15            5.7          4.4           1.5         Iris-setosa   \n16            5.4          3.9           1.3         Iris-setosa   \n17            5.1          3.5           1.4         Iris-setosa   \n18            5.7          3.8           1.7         Iris-setosa   \n19            5.1          3.8           1.5         Iris-setosa   \n20            5.4          3.4           1.7         Iris-setosa   \n21            5.1          3.7           1.5         Iris-setosa   \n22            4.6          3.6           1.0         Iris-setosa   \n23            5.1          3.3           1.7         Iris-setosa   \n24            4.8          3.4           1.9         Iris-setosa   \n25            5.0          3.0           1.6         Iris-setosa   \n26            5.0          3.4           1.6         Iris-setosa   \n27            5.2          3.5           1.5         Iris-setosa   \n28            5.2          3.4           1.4         Iris-setosa   \n29            4.7          3.2           1.6         Iris-setosa   \n30            4.8          3.1           1.6         Iris-setosa   \n31            5.4          3.4           1.5         Iris-setosa   \n32            5.2          4.1           1.5         Iris-setosa   \n33            5.5          4.2           1.4         Iris-setosa   \n34            4.9          3.1           1.5         Iris-setosa   \n35            5.0          3.2           1.2         Iris-setosa   \n36            5.5          3.5           1.3         Iris-setosa   \n37            4.9          3.6           1.4         Iris-setosa   \n38            4.4          3.0           1.3         Iris-setosa   \n39            5.1          3.4           1.5         Iris-setosa   \n40            5.0          3.5           1.3         Iris-setosa   \n41            4.5          2.3           1.3         Iris-setosa   \n42            4.4          3.2           1.3         Iris-setosa   \n43            5.0          3.5           1.6         Iris-setosa   \n44            5.1          3.8           1.9         Iris-setosa   \n45            4.8          3.0           1.4         Iris-setosa   \n46            5.1          3.8           1.6         Iris-setosa   \n47            4.6          3.2           1.4         Iris-setosa   \n48            5.3          3.7           1.5         Iris-setosa   \n49            5.0          3.3           1.4         Iris-setosa   \n50            7.0          3.2           4.7      Iris-virginica   \n51            6.4          3.2           4.5     Iris-versicolor   \n52            6.9          3.1           4.9      Iris-virginica   \n53            5.5          2.3           4.0     Iris-versicolor   \n54            6.5          2.8           4.6     Iris-versicolor   \n55            5.7          2.8           4.5     Iris-versicolor   \n56            6.3          3.3           4.7     Iris-versicolor   \n57            4.9          2.4           3.3     Iris-versicolor   \n58            6.6          2.9           4.6     Iris-versicolor   \n59            5.2          2.7           3.9     Iris-versicolor   \n60            5.0          2.0           3.5     Iris-versicolor   \n61            5.9          3.0           4.2     Iris-versicolor   \n62            6.0          2.2           4.0     Iris-versicolor   \n63            6.1          2.9           4.7     Iris-versicolor   \n64            5.6          2.9           3.6     Iris-versicolor   \n65            6.7          3.1           4.4     Iris-versicolor   \n66            5.6          3.0           4.5     Iris-versicolor   \n67            5.8          2.7           4.1     Iris-versicolor   \n68            6.2          2.2           4.5     Iris-versicolor   \n69            5.6          2.5           3.9     Iris-versicolor   \n70            5.9          3.2           4.8     Iris-versicolor   \n71            6.1          2.8           4.0     Iris-versicolor   \n72            6.3          2.5           4.9     Iris-versicolor   \n73            6.1          2.8           4.7     Iris-versicolor   \n74            6.4          2.9           4.3     Iris-versicolor   \n75            6.6          3.0           4.4     Iris-versicolor   \n76            6.8          2.8           4.8      Iris-virginica   \n77            6.7          3.0           5.0      Iris-virginica   \n78            6.0          2.9           4.5     Iris-versicolor   \n79            5.7          2.6           3.5     Iris-versicolor   \n80            5.5          2.4           3.8     Iris-versicolor   \n81            5.5          2.4           3.7     Iris-versicolor   \n82            5.8          2.7           3.9     Iris-versicolor   \n83            6.0          2.7           5.1     Iris-versicolor   \n84            5.4          3.0           4.5     Iris-versicolor   \n85            6.0          3.4           4.5     Iris-versicolor   \n86            6.7          3.1           4.7      Iris-virginica   \n87            6.3          2.3           4.4     Iris-versicolor   \n88            5.6          3.0           4.1     Iris-versicolor   \n89            5.5          2.5           4.0     Iris-versicolor   \n90            5.5          2.6           4.4     Iris-versicolor   \n91            6.1          3.0           4.6     Iris-versicolor   \n92            5.8          2.6           4.0     Iris-versicolor   \n93            5.0          2.3           3.3     Iris-versicolor   \n94            5.6          2.7           4.2     Iris-versicolor   \n95            5.7          3.0           4.2     Iris-versicolor   \n96            5.7          2.9           4.2     Iris-versicolor   \n97            6.2          2.9           4.3     Iris-versicolor   \n98            5.1          2.5           3.0     Iris-versicolor   \n99            5.7          2.8           4.1     Iris-versicolor   \n100           6.3          3.3           6.0      Iris-virginica   \n101           5.8          2.7           5.1     Iris-versicolor   \n102           7.1          3.0           5.9      Iris-virginica   \n103           6.3          2.9           5.6      Iris-virginica   \n104           6.5          3.0           5.8      Iris-virginica   \n105           7.6          3.0           6.6      Iris-virginica   \n106           4.9          2.5           4.5     Iris-versicolor   \n107           7.3          2.9           6.3      Iris-virginica   \n108           6.7          2.5           5.8      Iris-virginica   \n109           7.2          3.6           6.1      Iris-virginica   \n110           6.5          3.2           5.1      Iris-virginica   \n111           6.4          2.7           5.3      Iris-virginica   \n112           6.8          3.0           5.5      Iris-virginica   \n113           5.7          2.5           5.0     Iris-versicolor   \n114           5.8          2.8           5.1     Iris-versicolor   \n115           6.4          3.2           5.3      Iris-virginica   \n116           6.5          3.0           5.5      Iris-virginica   \n117           7.7          3.8           6.7      Iris-virginica   \n118           7.7          2.6           6.9      Iris-virginica   \n119           6.0          2.2           5.0     Iris-versicolor   \n120           6.9          3.2           5.7      Iris-virginica   \n121           5.6          2.8           4.9     Iris-versicolor   \n122           7.7          2.8           6.7      Iris-virginica   \n123           6.3          2.7           4.9     Iris-versicolor   \n124           6.7          3.3           5.7      Iris-virginica   \n125           7.2          3.2           6.0      Iris-virginica   \n126           6.2          2.8           4.8     Iris-versicolor   \n127           6.1          3.0           4.9     Iris-versicolor   \n128           6.4          2.8           5.6      Iris-virginica   \n129           7.2          3.0           5.8      Iris-virginica   \n130           7.4          2.8           6.1      Iris-virginica   \n131           7.9          3.8           6.4      Iris-virginica   \n132           6.4          2.8           5.6      Iris-virginica   \n133           6.3          2.8           5.1      Iris-virginica   \n134           6.1          2.6           5.6      Iris-virginica   \n135           7.7          3.0           6.1      Iris-virginica   \n136           6.3          3.4           5.6      Iris-virginica   \n137           6.4          3.1           5.5      Iris-virginica   \n138           6.0          3.0           4.8     Iris-versicolor   \n139           6.9          3.1           5.4      Iris-virginica   \n140           6.7          3.1           5.6      Iris-virginica   \n141           6.9          3.1           5.1      Iris-virginica   \n142           5.8          2.7           5.1     Iris-versicolor   \n143           6.8          3.2           5.9      Iris-virginica   \n144           6.7          3.3           5.7      Iris-virginica   \n145           6.7          3.0           5.2      Iris-virginica   \n146           6.3          2.5           5.0     Iris-versicolor   \n147           6.5          3.0           5.2      Iris-virginica   \n148           6.2          3.4           5.4      Iris-virginica   \n149           5.9          3.0           5.1     Iris-versicolor   \n\n        Actual Class  Is Correct  \n0        Iris-setosa        True  \n1        Iris-setosa        True  \n2        Iris-setosa        True  \n3        Iris-setosa        True  \n4        Iris-setosa        True  \n5        Iris-setosa        True  \n6        Iris-setosa        True  \n7        Iris-setosa        True  \n8        Iris-setosa        True  \n9        Iris-setosa        True  \n10       Iris-setosa        True  \n11       Iris-setosa        True  \n12       Iris-setosa        True  \n13       Iris-setosa        True  \n14       Iris-setosa        True  \n15       Iris-setosa        True  \n16       Iris-setosa        True  \n17       Iris-setosa        True  \n18       Iris-setosa        True  \n19       Iris-setosa        True  \n20       Iris-setosa        True  \n21       Iris-setosa        True  \n22       Iris-setosa        True  \n23       Iris-setosa        True  \n24       Iris-setosa        True  \n25       Iris-setosa        True  \n26       Iris-setosa        True  \n27       Iris-setosa        True  \n28       Iris-setosa        True  \n29       Iris-setosa        True  \n30       Iris-setosa        True  \n31       Iris-setosa        True  \n32       Iris-setosa        True  \n33       Iris-setosa        True  \n34       Iris-setosa        True  \n35       Iris-setosa        True  \n36       Iris-setosa        True  \n37       Iris-setosa        True  \n38       Iris-setosa        True  \n39       Iris-setosa        True  \n40       Iris-setosa        True  \n41       Iris-setosa        True  \n42       Iris-setosa        True  \n43       Iris-setosa        True  \n44       Iris-setosa        True  \n45       Iris-setosa        True  \n46       Iris-setosa        True  \n47       Iris-setosa        True  \n48       Iris-setosa        True  \n49       Iris-setosa        True  \n50   Iris-versicolor       False  \n51   Iris-versicolor        True  \n52   Iris-versicolor       False  \n53   Iris-versicolor        True  \n54   Iris-versicolor        True  \n55   Iris-versicolor        True  \n56   Iris-versicolor        True  \n57   Iris-versicolor        True  \n58   Iris-versicolor        True  \n59   Iris-versicolor        True  \n60   Iris-versicolor        True  \n61   Iris-versicolor        True  \n62   Iris-versicolor        True  \n63   Iris-versicolor        True  \n64   Iris-versicolor        True  \n65   Iris-versicolor        True  \n66   Iris-versicolor        True  \n67   Iris-versicolor        True  \n68   Iris-versicolor        True  \n69   Iris-versicolor        True  \n70   Iris-versicolor        True  \n71   Iris-versicolor        True  \n72   Iris-versicolor        True  \n73   Iris-versicolor        True  \n74   Iris-versicolor        True  \n75   Iris-versicolor        True  \n76   Iris-versicolor       False  \n77   Iris-versicolor       False  \n78   Iris-versicolor        True  \n79   Iris-versicolor        True  \n80   Iris-versicolor        True  \n81   Iris-versicolor        True  \n82   Iris-versicolor        True  \n83   Iris-versicolor        True  \n84   Iris-versicolor        True  \n85   Iris-versicolor        True  \n86   Iris-versicolor       False  \n87   Iris-versicolor        True  \n88   Iris-versicolor        True  \n89   Iris-versicolor        True  \n90   Iris-versicolor        True  \n91   Iris-versicolor        True  \n92   Iris-versicolor        True  \n93   Iris-versicolor        True  \n94   Iris-versicolor        True  \n95   Iris-versicolor        True  \n96   Iris-versicolor        True  \n97   Iris-versicolor        True  \n98   Iris-versicolor        True  \n99   Iris-versicolor        True  \n100   Iris-virginica        True  \n101   Iris-virginica       False  \n102   Iris-virginica        True  \n103   Iris-virginica        True  \n104   Iris-virginica        True  \n105   Iris-virginica        True  \n106   Iris-virginica       False  \n107   Iris-virginica        True  \n108   Iris-virginica        True  \n109   Iris-virginica        True  \n110   Iris-virginica        True  \n111   Iris-virginica        True  \n112   Iris-virginica        True  \n113   Iris-virginica       False  \n114   Iris-virginica       False  \n115   Iris-virginica        True  \n116   Iris-virginica        True  \n117   Iris-virginica        True  \n118   Iris-virginica        True  \n119   Iris-virginica       False  \n120   Iris-virginica        True  \n121   Iris-virginica       False  \n122   Iris-virginica        True  \n123   Iris-virginica       False  \n124   Iris-virginica        True  \n125   Iris-virginica        True  \n126   Iris-virginica       False  \n127   Iris-virginica       False  \n128   Iris-virginica        True  \n129   Iris-virginica        True  \n130   Iris-virginica        True  \n131   Iris-virginica        True  \n132   Iris-virginica        True  \n133   Iris-virginica        True  \n134   Iris-virginica        True  \n135   Iris-virginica        True  \n136   Iris-virginica        True  \n137   Iris-virginica        True  \n138   Iris-virginica       False  \n139   Iris-virginica        True  \n140   Iris-virginica        True  \n141   Iris-virginica        True  \n142   Iris-virginica       False  \n143   Iris-virginica        True  \n144   Iris-virginica        True  \n145   Iris-virginica        True  \n146   Iris-virginica       False  \n147   Iris-virginica        True  \n148   Iris-virginica        True  \n149   Iris-virginica       False  ",
      "text/html": "<div>\n<style scoped>\n    .dataframe tbody tr th:only-of-type {\n        vertical-align: middle;\n    }\n\n    .dataframe tbody tr th {\n        vertical-align: top;\n    }\n\n    .dataframe thead th {\n        text-align: right;\n    }\n</style>\n<table border=\"1\" class=\"dataframe\">\n  <thead>\n    <tr style=\"text-align: right;\">\n      <th></th>\n      <th>Sepal Length</th>\n      <th>Sepal Width</th>\n      <th>Petal Length</th>\n      <th>Cluster Affiliation</th>\n      <th>Actual Class</th>\n      <th>Is Correct</th>\n    </tr>\n  </thead>\n  <tbody>\n    <tr>\n      <th>0</th>\n      <td>5.1</td>\n      <td>3.5</td>\n      <td>1.4</td>\n      <td>Iris-setosa</td>\n      <td>Iris-setosa</td>\n      <td>True</td>\n    </tr>\n    <tr>\n      <th>1</th>\n      <td>4.9</td>\n      <td>3.0</td>\n      <td>1.4</td>\n      <td>Iris-setosa</td>\n      <td>Iris-setosa</td>\n      <td>True</td>\n    </tr>\n    <tr>\n      <th>2</th>\n      <td>4.7</td>\n      <td>3.2</td>\n      <td>1.3</td>\n      <td>Iris-setosa</td>\n      <td>Iris-setosa</td>\n      <td>True</td>\n    </tr>\n    <tr>\n      <th>3</th>\n      <td>4.6</td>\n      <td>3.1</td>\n      <td>1.5</td>\n      <td>Iris-setosa</td>\n      <td>Iris-setosa</td>\n      <td>True</td>\n    </tr>\n    <tr>\n      <th>4</th>\n      <td>5.0</td>\n      <td>3.6</td>\n      <td>1.4</td>\n      <td>Iris-setosa</td>\n      <td>Iris-setosa</td>\n      <td>True</td>\n    </tr>\n    <tr>\n      <th>5</th>\n      <td>5.4</td>\n      <td>3.9</td>\n      <td>1.7</td>\n      <td>Iris-setosa</td>\n      <td>Iris-setosa</td>\n      <td>True</td>\n    </tr>\n    <tr>\n      <th>6</th>\n      <td>4.6</td>\n      <td>3.4</td>\n      <td>1.4</td>\n      <td>Iris-setosa</td>\n      <td>Iris-setosa</td>\n      <td>True</td>\n    </tr>\n    <tr>\n      <th>7</th>\n      <td>5.0</td>\n      <td>3.4</td>\n      <td>1.5</td>\n      <td>Iris-setosa</td>\n      <td>Iris-setosa</td>\n      <td>True</td>\n    </tr>\n    <tr>\n      <th>8</th>\n      <td>4.4</td>\n      <td>2.9</td>\n      <td>1.4</td>\n      <td>Iris-setosa</td>\n      <td>Iris-setosa</td>\n      <td>True</td>\n    </tr>\n    <tr>\n      <th>9</th>\n      <td>4.9</td>\n      <td>3.1</td>\n      <td>1.5</td>\n      <td>Iris-setosa</td>\n      <td>Iris-setosa</td>\n      <td>True</td>\n    </tr>\n    <tr>\n      <th>10</th>\n      <td>5.4</td>\n      <td>3.7</td>\n      <td>1.5</td>\n      <td>Iris-setosa</td>\n      <td>Iris-setosa</td>\n      <td>True</td>\n    </tr>\n    <tr>\n      <th>11</th>\n      <td>4.8</td>\n      <td>3.4</td>\n      <td>1.6</td>\n      <td>Iris-setosa</td>\n      <td>Iris-setosa</td>\n      <td>True</td>\n    </tr>\n    <tr>\n      <th>12</th>\n      <td>4.8</td>\n      <td>3.0</td>\n      <td>1.4</td>\n      <td>Iris-setosa</td>\n      <td>Iris-setosa</td>\n      <td>True</td>\n    </tr>\n    <tr>\n      <th>13</th>\n      <td>4.3</td>\n      <td>3.0</td>\n      <td>1.1</td>\n      <td>Iris-setosa</td>\n      <td>Iris-setosa</td>\n      <td>True</td>\n    </tr>\n    <tr>\n      <th>14</th>\n      <td>5.8</td>\n      <td>4.0</td>\n      <td>1.2</td>\n      <td>Iris-setosa</td>\n      <td>Iris-setosa</td>\n      <td>True</td>\n    </tr>\n    <tr>\n      <th>15</th>\n      <td>5.7</td>\n      <td>4.4</td>\n      <td>1.5</td>\n      <td>Iris-setosa</td>\n      <td>Iris-setosa</td>\n      <td>True</td>\n    </tr>\n    <tr>\n      <th>16</th>\n      <td>5.4</td>\n      <td>3.9</td>\n      <td>1.3</td>\n      <td>Iris-setosa</td>\n      <td>Iris-setosa</td>\n      <td>True</td>\n    </tr>\n    <tr>\n      <th>17</th>\n      <td>5.1</td>\n      <td>3.5</td>\n      <td>1.4</td>\n      <td>Iris-setosa</td>\n      <td>Iris-setosa</td>\n      <td>True</td>\n    </tr>\n    <tr>\n      <th>18</th>\n      <td>5.7</td>\n      <td>3.8</td>\n      <td>1.7</td>\n      <td>Iris-setosa</td>\n      <td>Iris-setosa</td>\n      <td>True</td>\n    </tr>\n    <tr>\n      <th>19</th>\n      <td>5.1</td>\n      <td>3.8</td>\n      <td>1.5</td>\n      <td>Iris-setosa</td>\n      <td>Iris-setosa</td>\n      <td>True</td>\n    </tr>\n    <tr>\n      <th>20</th>\n      <td>5.4</td>\n      <td>3.4</td>\n      <td>1.7</td>\n      <td>Iris-setosa</td>\n      <td>Iris-setosa</td>\n      <td>True</td>\n    </tr>\n    <tr>\n      <th>21</th>\n      <td>5.1</td>\n      <td>3.7</td>\n      <td>1.5</td>\n      <td>Iris-setosa</td>\n      <td>Iris-setosa</td>\n      <td>True</td>\n    </tr>\n    <tr>\n      <th>22</th>\n      <td>4.6</td>\n      <td>3.6</td>\n      <td>1.0</td>\n      <td>Iris-setosa</td>\n      <td>Iris-setosa</td>\n      <td>True</td>\n    </tr>\n    <tr>\n      <th>23</th>\n      <td>5.1</td>\n      <td>3.3</td>\n      <td>1.7</td>\n      <td>Iris-setosa</td>\n      <td>Iris-setosa</td>\n      <td>True</td>\n    </tr>\n    <tr>\n      <th>24</th>\n      <td>4.8</td>\n      <td>3.4</td>\n      <td>1.9</td>\n      <td>Iris-setosa</td>\n      <td>Iris-setosa</td>\n      <td>True</td>\n    </tr>\n    <tr>\n      <th>25</th>\n      <td>5.0</td>\n      <td>3.0</td>\n      <td>1.6</td>\n      <td>Iris-setosa</td>\n      <td>Iris-setosa</td>\n      <td>True</td>\n    </tr>\n    <tr>\n      <th>26</th>\n      <td>5.0</td>\n      <td>3.4</td>\n      <td>1.6</td>\n      <td>Iris-setosa</td>\n      <td>Iris-setosa</td>\n      <td>True</td>\n    </tr>\n    <tr>\n      <th>27</th>\n      <td>5.2</td>\n      <td>3.5</td>\n      <td>1.5</td>\n      <td>Iris-setosa</td>\n      <td>Iris-setosa</td>\n      <td>True</td>\n    </tr>\n    <tr>\n      <th>28</th>\n      <td>5.2</td>\n      <td>3.4</td>\n      <td>1.4</td>\n      <td>Iris-setosa</td>\n      <td>Iris-setosa</td>\n      <td>True</td>\n    </tr>\n    <tr>\n      <th>29</th>\n      <td>4.7</td>\n      <td>3.2</td>\n      <td>1.6</td>\n      <td>Iris-setosa</td>\n      <td>Iris-setosa</td>\n      <td>True</td>\n    </tr>\n    <tr>\n      <th>30</th>\n      <td>4.8</td>\n      <td>3.1</td>\n      <td>1.6</td>\n      <td>Iris-setosa</td>\n      <td>Iris-setosa</td>\n      <td>True</td>\n    </tr>\n    <tr>\n      <th>31</th>\n      <td>5.4</td>\n      <td>3.4</td>\n      <td>1.5</td>\n      <td>Iris-setosa</td>\n      <td>Iris-setosa</td>\n      <td>True</td>\n    </tr>\n    <tr>\n      <th>32</th>\n      <td>5.2</td>\n      <td>4.1</td>\n      <td>1.5</td>\n      <td>Iris-setosa</td>\n      <td>Iris-setosa</td>\n      <td>True</td>\n    </tr>\n    <tr>\n      <th>33</th>\n      <td>5.5</td>\n      <td>4.2</td>\n      <td>1.4</td>\n      <td>Iris-setosa</td>\n      <td>Iris-setosa</td>\n      <td>True</td>\n    </tr>\n    <tr>\n      <th>34</th>\n      <td>4.9</td>\n      <td>3.1</td>\n      <td>1.5</td>\n      <td>Iris-setosa</td>\n      <td>Iris-setosa</td>\n      <td>True</td>\n    </tr>\n    <tr>\n      <th>35</th>\n      <td>5.0</td>\n      <td>3.2</td>\n      <td>1.2</td>\n      <td>Iris-setosa</td>\n      <td>Iris-setosa</td>\n      <td>True</td>\n    </tr>\n    <tr>\n      <th>36</th>\n      <td>5.5</td>\n      <td>3.5</td>\n      <td>1.3</td>\n      <td>Iris-setosa</td>\n      <td>Iris-setosa</td>\n      <td>True</td>\n    </tr>\n    <tr>\n      <th>37</th>\n      <td>4.9</td>\n      <td>3.6</td>\n      <td>1.4</td>\n      <td>Iris-setosa</td>\n      <td>Iris-setosa</td>\n      <td>True</td>\n    </tr>\n    <tr>\n      <th>38</th>\n      <td>4.4</td>\n      <td>3.0</td>\n      <td>1.3</td>\n      <td>Iris-setosa</td>\n      <td>Iris-setosa</td>\n      <td>True</td>\n    </tr>\n    <tr>\n      <th>39</th>\n      <td>5.1</td>\n      <td>3.4</td>\n      <td>1.5</td>\n      <td>Iris-setosa</td>\n      <td>Iris-setosa</td>\n      <td>True</td>\n    </tr>\n    <tr>\n      <th>40</th>\n      <td>5.0</td>\n      <td>3.5</td>\n      <td>1.3</td>\n      <td>Iris-setosa</td>\n      <td>Iris-setosa</td>\n      <td>True</td>\n    </tr>\n    <tr>\n      <th>41</th>\n      <td>4.5</td>\n      <td>2.3</td>\n      <td>1.3</td>\n      <td>Iris-setosa</td>\n      <td>Iris-setosa</td>\n      <td>True</td>\n    </tr>\n    <tr>\n      <th>42</th>\n      <td>4.4</td>\n      <td>3.2</td>\n      <td>1.3</td>\n      <td>Iris-setosa</td>\n      <td>Iris-setosa</td>\n      <td>True</td>\n    </tr>\n    <tr>\n      <th>43</th>\n      <td>5.0</td>\n      <td>3.5</td>\n      <td>1.6</td>\n      <td>Iris-setosa</td>\n      <td>Iris-setosa</td>\n      <td>True</td>\n    </tr>\n    <tr>\n      <th>44</th>\n      <td>5.1</td>\n      <td>3.8</td>\n      <td>1.9</td>\n      <td>Iris-setosa</td>\n      <td>Iris-setosa</td>\n      <td>True</td>\n    </tr>\n    <tr>\n      <th>45</th>\n      <td>4.8</td>\n      <td>3.0</td>\n      <td>1.4</td>\n      <td>Iris-setosa</td>\n      <td>Iris-setosa</td>\n      <td>True</td>\n    </tr>\n    <tr>\n      <th>46</th>\n      <td>5.1</td>\n      <td>3.8</td>\n      <td>1.6</td>\n      <td>Iris-setosa</td>\n      <td>Iris-setosa</td>\n      <td>True</td>\n    </tr>\n    <tr>\n      <th>47</th>\n      <td>4.6</td>\n      <td>3.2</td>\n      <td>1.4</td>\n      <td>Iris-setosa</td>\n      <td>Iris-setosa</td>\n      <td>True</td>\n    </tr>\n    <tr>\n      <th>48</th>\n      <td>5.3</td>\n      <td>3.7</td>\n      <td>1.5</td>\n      <td>Iris-setosa</td>\n      <td>Iris-setosa</td>\n      <td>True</td>\n    </tr>\n    <tr>\n      <th>49</th>\n      <td>5.0</td>\n      <td>3.3</td>\n      <td>1.4</td>\n      <td>Iris-setosa</td>\n      <td>Iris-setosa</td>\n      <td>True</td>\n    </tr>\n    <tr>\n      <th>50</th>\n      <td>7.0</td>\n      <td>3.2</td>\n      <td>4.7</td>\n      <td>Iris-virginica</td>\n      <td>Iris-versicolor</td>\n      <td>False</td>\n    </tr>\n    <tr>\n      <th>51</th>\n      <td>6.4</td>\n      <td>3.2</td>\n      <td>4.5</td>\n      <td>Iris-versicolor</td>\n      <td>Iris-versicolor</td>\n      <td>True</td>\n    </tr>\n    <tr>\n      <th>52</th>\n      <td>6.9</td>\n      <td>3.1</td>\n      <td>4.9</td>\n      <td>Iris-virginica</td>\n      <td>Iris-versicolor</td>\n      <td>False</td>\n    </tr>\n    <tr>\n      <th>53</th>\n      <td>5.5</td>\n      <td>2.3</td>\n      <td>4.0</td>\n      <td>Iris-versicolor</td>\n      <td>Iris-versicolor</td>\n      <td>True</td>\n    </tr>\n    <tr>\n      <th>54</th>\n      <td>6.5</td>\n      <td>2.8</td>\n      <td>4.6</td>\n      <td>Iris-versicolor</td>\n      <td>Iris-versicolor</td>\n      <td>True</td>\n    </tr>\n    <tr>\n      <th>55</th>\n      <td>5.7</td>\n      <td>2.8</td>\n      <td>4.5</td>\n      <td>Iris-versicolor</td>\n      <td>Iris-versicolor</td>\n      <td>True</td>\n    </tr>\n    <tr>\n      <th>56</th>\n      <td>6.3</td>\n      <td>3.3</td>\n      <td>4.7</td>\n      <td>Iris-versicolor</td>\n      <td>Iris-versicolor</td>\n      <td>True</td>\n    </tr>\n    <tr>\n      <th>57</th>\n      <td>4.9</td>\n      <td>2.4</td>\n      <td>3.3</td>\n      <td>Iris-versicolor</td>\n      <td>Iris-versicolor</td>\n      <td>True</td>\n    </tr>\n    <tr>\n      <th>58</th>\n      <td>6.6</td>\n      <td>2.9</td>\n      <td>4.6</td>\n      <td>Iris-versicolor</td>\n      <td>Iris-versicolor</td>\n      <td>True</td>\n    </tr>\n    <tr>\n      <th>59</th>\n      <td>5.2</td>\n      <td>2.7</td>\n      <td>3.9</td>\n      <td>Iris-versicolor</td>\n      <td>Iris-versicolor</td>\n      <td>True</td>\n    </tr>\n    <tr>\n      <th>60</th>\n      <td>5.0</td>\n      <td>2.0</td>\n      <td>3.5</td>\n      <td>Iris-versicolor</td>\n      <td>Iris-versicolor</td>\n      <td>True</td>\n    </tr>\n    <tr>\n      <th>61</th>\n      <td>5.9</td>\n      <td>3.0</td>\n      <td>4.2</td>\n      <td>Iris-versicolor</td>\n      <td>Iris-versicolor</td>\n      <td>True</td>\n    </tr>\n    <tr>\n      <th>62</th>\n      <td>6.0</td>\n      <td>2.2</td>\n      <td>4.0</td>\n      <td>Iris-versicolor</td>\n      <td>Iris-versicolor</td>\n      <td>True</td>\n    </tr>\n    <tr>\n      <th>63</th>\n      <td>6.1</td>\n      <td>2.9</td>\n      <td>4.7</td>\n      <td>Iris-versicolor</td>\n      <td>Iris-versicolor</td>\n      <td>True</td>\n    </tr>\n    <tr>\n      <th>64</th>\n      <td>5.6</td>\n      <td>2.9</td>\n      <td>3.6</td>\n      <td>Iris-versicolor</td>\n      <td>Iris-versicolor</td>\n      <td>True</td>\n    </tr>\n    <tr>\n      <th>65</th>\n      <td>6.7</td>\n      <td>3.1</td>\n      <td>4.4</td>\n      <td>Iris-versicolor</td>\n      <td>Iris-versicolor</td>\n      <td>True</td>\n    </tr>\n    <tr>\n      <th>66</th>\n      <td>5.6</td>\n      <td>3.0</td>\n      <td>4.5</td>\n      <td>Iris-versicolor</td>\n      <td>Iris-versicolor</td>\n      <td>True</td>\n    </tr>\n    <tr>\n      <th>67</th>\n      <td>5.8</td>\n      <td>2.7</td>\n      <td>4.1</td>\n      <td>Iris-versicolor</td>\n      <td>Iris-versicolor</td>\n      <td>True</td>\n    </tr>\n    <tr>\n      <th>68</th>\n      <td>6.2</td>\n      <td>2.2</td>\n      <td>4.5</td>\n      <td>Iris-versicolor</td>\n      <td>Iris-versicolor</td>\n      <td>True</td>\n    </tr>\n    <tr>\n      <th>69</th>\n      <td>5.6</td>\n      <td>2.5</td>\n      <td>3.9</td>\n      <td>Iris-versicolor</td>\n      <td>Iris-versicolor</td>\n      <td>True</td>\n    </tr>\n    <tr>\n      <th>70</th>\n      <td>5.9</td>\n      <td>3.2</td>\n      <td>4.8</td>\n      <td>Iris-versicolor</td>\n      <td>Iris-versicolor</td>\n      <td>True</td>\n    </tr>\n    <tr>\n      <th>71</th>\n      <td>6.1</td>\n      <td>2.8</td>\n      <td>4.0</td>\n      <td>Iris-versicolor</td>\n      <td>Iris-versicolor</td>\n      <td>True</td>\n    </tr>\n    <tr>\n      <th>72</th>\n      <td>6.3</td>\n      <td>2.5</td>\n      <td>4.9</td>\n      <td>Iris-versicolor</td>\n      <td>Iris-versicolor</td>\n      <td>True</td>\n    </tr>\n    <tr>\n      <th>73</th>\n      <td>6.1</td>\n      <td>2.8</td>\n      <td>4.7</td>\n      <td>Iris-versicolor</td>\n      <td>Iris-versicolor</td>\n      <td>True</td>\n    </tr>\n    <tr>\n      <th>74</th>\n      <td>6.4</td>\n      <td>2.9</td>\n      <td>4.3</td>\n      <td>Iris-versicolor</td>\n      <td>Iris-versicolor</td>\n      <td>True</td>\n    </tr>\n    <tr>\n      <th>75</th>\n      <td>6.6</td>\n      <td>3.0</td>\n      <td>4.4</td>\n      <td>Iris-versicolor</td>\n      <td>Iris-versicolor</td>\n      <td>True</td>\n    </tr>\n    <tr>\n      <th>76</th>\n      <td>6.8</td>\n      <td>2.8</td>\n      <td>4.8</td>\n      <td>Iris-virginica</td>\n      <td>Iris-versicolor</td>\n      <td>False</td>\n    </tr>\n    <tr>\n      <th>77</th>\n      <td>6.7</td>\n      <td>3.0</td>\n      <td>5.0</td>\n      <td>Iris-virginica</td>\n      <td>Iris-versicolor</td>\n      <td>False</td>\n    </tr>\n    <tr>\n      <th>78</th>\n      <td>6.0</td>\n      <td>2.9</td>\n      <td>4.5</td>\n      <td>Iris-versicolor</td>\n      <td>Iris-versicolor</td>\n      <td>True</td>\n    </tr>\n    <tr>\n      <th>79</th>\n      <td>5.7</td>\n      <td>2.6</td>\n      <td>3.5</td>\n      <td>Iris-versicolor</td>\n      <td>Iris-versicolor</td>\n      <td>True</td>\n    </tr>\n    <tr>\n      <th>80</th>\n      <td>5.5</td>\n      <td>2.4</td>\n      <td>3.8</td>\n      <td>Iris-versicolor</td>\n      <td>Iris-versicolor</td>\n      <td>True</td>\n    </tr>\n    <tr>\n      <th>81</th>\n      <td>5.5</td>\n      <td>2.4</td>\n      <td>3.7</td>\n      <td>Iris-versicolor</td>\n      <td>Iris-versicolor</td>\n      <td>True</td>\n    </tr>\n    <tr>\n      <th>82</th>\n      <td>5.8</td>\n      <td>2.7</td>\n      <td>3.9</td>\n      <td>Iris-versicolor</td>\n      <td>Iris-versicolor</td>\n      <td>True</td>\n    </tr>\n    <tr>\n      <th>83</th>\n      <td>6.0</td>\n      <td>2.7</td>\n      <td>5.1</td>\n      <td>Iris-versicolor</td>\n      <td>Iris-versicolor</td>\n      <td>True</td>\n    </tr>\n    <tr>\n      <th>84</th>\n      <td>5.4</td>\n      <td>3.0</td>\n      <td>4.5</td>\n      <td>Iris-versicolor</td>\n      <td>Iris-versicolor</td>\n      <td>True</td>\n    </tr>\n    <tr>\n      <th>85</th>\n      <td>6.0</td>\n      <td>3.4</td>\n      <td>4.5</td>\n      <td>Iris-versicolor</td>\n      <td>Iris-versicolor</td>\n      <td>True</td>\n    </tr>\n    <tr>\n      <th>86</th>\n      <td>6.7</td>\n      <td>3.1</td>\n      <td>4.7</td>\n      <td>Iris-virginica</td>\n      <td>Iris-versicolor</td>\n      <td>False</td>\n    </tr>\n    <tr>\n      <th>87</th>\n      <td>6.3</td>\n      <td>2.3</td>\n      <td>4.4</td>\n      <td>Iris-versicolor</td>\n      <td>Iris-versicolor</td>\n      <td>True</td>\n    </tr>\n    <tr>\n      <th>88</th>\n      <td>5.6</td>\n      <td>3.0</td>\n      <td>4.1</td>\n      <td>Iris-versicolor</td>\n      <td>Iris-versicolor</td>\n      <td>True</td>\n    </tr>\n    <tr>\n      <th>89</th>\n      <td>5.5</td>\n      <td>2.5</td>\n      <td>4.0</td>\n      <td>Iris-versicolor</td>\n      <td>Iris-versicolor</td>\n      <td>True</td>\n    </tr>\n    <tr>\n      <th>90</th>\n      <td>5.5</td>\n      <td>2.6</td>\n      <td>4.4</td>\n      <td>Iris-versicolor</td>\n      <td>Iris-versicolor</td>\n      <td>True</td>\n    </tr>\n    <tr>\n      <th>91</th>\n      <td>6.1</td>\n      <td>3.0</td>\n      <td>4.6</td>\n      <td>Iris-versicolor</td>\n      <td>Iris-versicolor</td>\n      <td>True</td>\n    </tr>\n    <tr>\n      <th>92</th>\n      <td>5.8</td>\n      <td>2.6</td>\n      <td>4.0</td>\n      <td>Iris-versicolor</td>\n      <td>Iris-versicolor</td>\n      <td>True</td>\n    </tr>\n    <tr>\n      <th>93</th>\n      <td>5.0</td>\n      <td>2.3</td>\n      <td>3.3</td>\n      <td>Iris-versicolor</td>\n      <td>Iris-versicolor</td>\n      <td>True</td>\n    </tr>\n    <tr>\n      <th>94</th>\n      <td>5.6</td>\n      <td>2.7</td>\n      <td>4.2</td>\n      <td>Iris-versicolor</td>\n      <td>Iris-versicolor</td>\n      <td>True</td>\n    </tr>\n    <tr>\n      <th>95</th>\n      <td>5.7</td>\n      <td>3.0</td>\n      <td>4.2</td>\n      <td>Iris-versicolor</td>\n      <td>Iris-versicolor</td>\n      <td>True</td>\n    </tr>\n    <tr>\n      <th>96</th>\n      <td>5.7</td>\n      <td>2.9</td>\n      <td>4.2</td>\n      <td>Iris-versicolor</td>\n      <td>Iris-versicolor</td>\n      <td>True</td>\n    </tr>\n    <tr>\n      <th>97</th>\n      <td>6.2</td>\n      <td>2.9</td>\n      <td>4.3</td>\n      <td>Iris-versicolor</td>\n      <td>Iris-versicolor</td>\n      <td>True</td>\n    </tr>\n    <tr>\n      <th>98</th>\n      <td>5.1</td>\n      <td>2.5</td>\n      <td>3.0</td>\n      <td>Iris-versicolor</td>\n      <td>Iris-versicolor</td>\n      <td>True</td>\n    </tr>\n    <tr>\n      <th>99</th>\n      <td>5.7</td>\n      <td>2.8</td>\n      <td>4.1</td>\n      <td>Iris-versicolor</td>\n      <td>Iris-versicolor</td>\n      <td>True</td>\n    </tr>\n    <tr>\n      <th>100</th>\n      <td>6.3</td>\n      <td>3.3</td>\n      <td>6.0</td>\n      <td>Iris-virginica</td>\n      <td>Iris-virginica</td>\n      <td>True</td>\n    </tr>\n    <tr>\n      <th>101</th>\n      <td>5.8</td>\n      <td>2.7</td>\n      <td>5.1</td>\n      <td>Iris-versicolor</td>\n      <td>Iris-virginica</td>\n      <td>False</td>\n    </tr>\n    <tr>\n      <th>102</th>\n      <td>7.1</td>\n      <td>3.0</td>\n      <td>5.9</td>\n      <td>Iris-virginica</td>\n      <td>Iris-virginica</td>\n      <td>True</td>\n    </tr>\n    <tr>\n      <th>103</th>\n      <td>6.3</td>\n      <td>2.9</td>\n      <td>5.6</td>\n      <td>Iris-virginica</td>\n      <td>Iris-virginica</td>\n      <td>True</td>\n    </tr>\n    <tr>\n      <th>104</th>\n      <td>6.5</td>\n      <td>3.0</td>\n      <td>5.8</td>\n      <td>Iris-virginica</td>\n      <td>Iris-virginica</td>\n      <td>True</td>\n    </tr>\n    <tr>\n      <th>105</th>\n      <td>7.6</td>\n      <td>3.0</td>\n      <td>6.6</td>\n      <td>Iris-virginica</td>\n      <td>Iris-virginica</td>\n      <td>True</td>\n    </tr>\n    <tr>\n      <th>106</th>\n      <td>4.9</td>\n      <td>2.5</td>\n      <td>4.5</td>\n      <td>Iris-versicolor</td>\n      <td>Iris-virginica</td>\n      <td>False</td>\n    </tr>\n    <tr>\n      <th>107</th>\n      <td>7.3</td>\n      <td>2.9</td>\n      <td>6.3</td>\n      <td>Iris-virginica</td>\n      <td>Iris-virginica</td>\n      <td>True</td>\n    </tr>\n    <tr>\n      <th>108</th>\n      <td>6.7</td>\n      <td>2.5</td>\n      <td>5.8</td>\n      <td>Iris-virginica</td>\n      <td>Iris-virginica</td>\n      <td>True</td>\n    </tr>\n    <tr>\n      <th>109</th>\n      <td>7.2</td>\n      <td>3.6</td>\n      <td>6.1</td>\n      <td>Iris-virginica</td>\n      <td>Iris-virginica</td>\n      <td>True</td>\n    </tr>\n    <tr>\n      <th>110</th>\n      <td>6.5</td>\n      <td>3.2</td>\n      <td>5.1</td>\n      <td>Iris-virginica</td>\n      <td>Iris-virginica</td>\n      <td>True</td>\n    </tr>\n    <tr>\n      <th>111</th>\n      <td>6.4</td>\n      <td>2.7</td>\n      <td>5.3</td>\n      <td>Iris-virginica</td>\n      <td>Iris-virginica</td>\n      <td>True</td>\n    </tr>\n    <tr>\n      <th>112</th>\n      <td>6.8</td>\n      <td>3.0</td>\n      <td>5.5</td>\n      <td>Iris-virginica</td>\n      <td>Iris-virginica</td>\n      <td>True</td>\n    </tr>\n    <tr>\n      <th>113</th>\n      <td>5.7</td>\n      <td>2.5</td>\n      <td>5.0</td>\n      <td>Iris-versicolor</td>\n      <td>Iris-virginica</td>\n      <td>False</td>\n    </tr>\n    <tr>\n      <th>114</th>\n      <td>5.8</td>\n      <td>2.8</td>\n      <td>5.1</td>\n      <td>Iris-versicolor</td>\n      <td>Iris-virginica</td>\n      <td>False</td>\n    </tr>\n    <tr>\n      <th>115</th>\n      <td>6.4</td>\n      <td>3.2</td>\n      <td>5.3</td>\n      <td>Iris-virginica</td>\n      <td>Iris-virginica</td>\n      <td>True</td>\n    </tr>\n    <tr>\n      <th>116</th>\n      <td>6.5</td>\n      <td>3.0</td>\n      <td>5.5</td>\n      <td>Iris-virginica</td>\n      <td>Iris-virginica</td>\n      <td>True</td>\n    </tr>\n    <tr>\n      <th>117</th>\n      <td>7.7</td>\n      <td>3.8</td>\n      <td>6.7</td>\n      <td>Iris-virginica</td>\n      <td>Iris-virginica</td>\n      <td>True</td>\n    </tr>\n    <tr>\n      <th>118</th>\n      <td>7.7</td>\n      <td>2.6</td>\n      <td>6.9</td>\n      <td>Iris-virginica</td>\n      <td>Iris-virginica</td>\n      <td>True</td>\n    </tr>\n    <tr>\n      <th>119</th>\n      <td>6.0</td>\n      <td>2.2</td>\n      <td>5.0</td>\n      <td>Iris-versicolor</td>\n      <td>Iris-virginica</td>\n      <td>False</td>\n    </tr>\n    <tr>\n      <th>120</th>\n      <td>6.9</td>\n      <td>3.2</td>\n      <td>5.7</td>\n      <td>Iris-virginica</td>\n      <td>Iris-virginica</td>\n      <td>True</td>\n    </tr>\n    <tr>\n      <th>121</th>\n      <td>5.6</td>\n      <td>2.8</td>\n      <td>4.9</td>\n      <td>Iris-versicolor</td>\n      <td>Iris-virginica</td>\n      <td>False</td>\n    </tr>\n    <tr>\n      <th>122</th>\n      <td>7.7</td>\n      <td>2.8</td>\n      <td>6.7</td>\n      <td>Iris-virginica</td>\n      <td>Iris-virginica</td>\n      <td>True</td>\n    </tr>\n    <tr>\n      <th>123</th>\n      <td>6.3</td>\n      <td>2.7</td>\n      <td>4.9</td>\n      <td>Iris-versicolor</td>\n      <td>Iris-virginica</td>\n      <td>False</td>\n    </tr>\n    <tr>\n      <th>124</th>\n      <td>6.7</td>\n      <td>3.3</td>\n      <td>5.7</td>\n      <td>Iris-virginica</td>\n      <td>Iris-virginica</td>\n      <td>True</td>\n    </tr>\n    <tr>\n      <th>125</th>\n      <td>7.2</td>\n      <td>3.2</td>\n      <td>6.0</td>\n      <td>Iris-virginica</td>\n      <td>Iris-virginica</td>\n      <td>True</td>\n    </tr>\n    <tr>\n      <th>126</th>\n      <td>6.2</td>\n      <td>2.8</td>\n      <td>4.8</td>\n      <td>Iris-versicolor</td>\n      <td>Iris-virginica</td>\n      <td>False</td>\n    </tr>\n    <tr>\n      <th>127</th>\n      <td>6.1</td>\n      <td>3.0</td>\n      <td>4.9</td>\n      <td>Iris-versicolor</td>\n      <td>Iris-virginica</td>\n      <td>False</td>\n    </tr>\n    <tr>\n      <th>128</th>\n      <td>6.4</td>\n      <td>2.8</td>\n      <td>5.6</td>\n      <td>Iris-virginica</td>\n      <td>Iris-virginica</td>\n      <td>True</td>\n    </tr>\n    <tr>\n      <th>129</th>\n      <td>7.2</td>\n      <td>3.0</td>\n      <td>5.8</td>\n      <td>Iris-virginica</td>\n      <td>Iris-virginica</td>\n      <td>True</td>\n    </tr>\n    <tr>\n      <th>130</th>\n      <td>7.4</td>\n      <td>2.8</td>\n      <td>6.1</td>\n      <td>Iris-virginica</td>\n      <td>Iris-virginica</td>\n      <td>True</td>\n    </tr>\n    <tr>\n      <th>131</th>\n      <td>7.9</td>\n      <td>3.8</td>\n      <td>6.4</td>\n      <td>Iris-virginica</td>\n      <td>Iris-virginica</td>\n      <td>True</td>\n    </tr>\n    <tr>\n      <th>132</th>\n      <td>6.4</td>\n      <td>2.8</td>\n      <td>5.6</td>\n      <td>Iris-virginica</td>\n      <td>Iris-virginica</td>\n      <td>True</td>\n    </tr>\n    <tr>\n      <th>133</th>\n      <td>6.3</td>\n      <td>2.8</td>\n      <td>5.1</td>\n      <td>Iris-virginica</td>\n      <td>Iris-virginica</td>\n      <td>True</td>\n    </tr>\n    <tr>\n      <th>134</th>\n      <td>6.1</td>\n      <td>2.6</td>\n      <td>5.6</td>\n      <td>Iris-virginica</td>\n      <td>Iris-virginica</td>\n      <td>True</td>\n    </tr>\n    <tr>\n      <th>135</th>\n      <td>7.7</td>\n      <td>3.0</td>\n      <td>6.1</td>\n      <td>Iris-virginica</td>\n      <td>Iris-virginica</td>\n      <td>True</td>\n    </tr>\n    <tr>\n      <th>136</th>\n      <td>6.3</td>\n      <td>3.4</td>\n      <td>5.6</td>\n      <td>Iris-virginica</td>\n      <td>Iris-virginica</td>\n      <td>True</td>\n    </tr>\n    <tr>\n      <th>137</th>\n      <td>6.4</td>\n      <td>3.1</td>\n      <td>5.5</td>\n      <td>Iris-virginica</td>\n      <td>Iris-virginica</td>\n      <td>True</td>\n    </tr>\n    <tr>\n      <th>138</th>\n      <td>6.0</td>\n      <td>3.0</td>\n      <td>4.8</td>\n      <td>Iris-versicolor</td>\n      <td>Iris-virginica</td>\n      <td>False</td>\n    </tr>\n    <tr>\n      <th>139</th>\n      <td>6.9</td>\n      <td>3.1</td>\n      <td>5.4</td>\n      <td>Iris-virginica</td>\n      <td>Iris-virginica</td>\n      <td>True</td>\n    </tr>\n    <tr>\n      <th>140</th>\n      <td>6.7</td>\n      <td>3.1</td>\n      <td>5.6</td>\n      <td>Iris-virginica</td>\n      <td>Iris-virginica</td>\n      <td>True</td>\n    </tr>\n    <tr>\n      <th>141</th>\n      <td>6.9</td>\n      <td>3.1</td>\n      <td>5.1</td>\n      <td>Iris-virginica</td>\n      <td>Iris-virginica</td>\n      <td>True</td>\n    </tr>\n    <tr>\n      <th>142</th>\n      <td>5.8</td>\n      <td>2.7</td>\n      <td>5.1</td>\n      <td>Iris-versicolor</td>\n      <td>Iris-virginica</td>\n      <td>False</td>\n    </tr>\n    <tr>\n      <th>143</th>\n      <td>6.8</td>\n      <td>3.2</td>\n      <td>5.9</td>\n      <td>Iris-virginica</td>\n      <td>Iris-virginica</td>\n      <td>True</td>\n    </tr>\n    <tr>\n      <th>144</th>\n      <td>6.7</td>\n      <td>3.3</td>\n      <td>5.7</td>\n      <td>Iris-virginica</td>\n      <td>Iris-virginica</td>\n      <td>True</td>\n    </tr>\n    <tr>\n      <th>145</th>\n      <td>6.7</td>\n      <td>3.0</td>\n      <td>5.2</td>\n      <td>Iris-virginica</td>\n      <td>Iris-virginica</td>\n      <td>True</td>\n    </tr>\n    <tr>\n      <th>146</th>\n      <td>6.3</td>\n      <td>2.5</td>\n      <td>5.0</td>\n      <td>Iris-versicolor</td>\n      <td>Iris-virginica</td>\n      <td>False</td>\n    </tr>\n    <tr>\n      <th>147</th>\n      <td>6.5</td>\n      <td>3.0</td>\n      <td>5.2</td>\n      <td>Iris-virginica</td>\n      <td>Iris-virginica</td>\n      <td>True</td>\n    </tr>\n    <tr>\n      <th>148</th>\n      <td>6.2</td>\n      <td>3.4</td>\n      <td>5.4</td>\n      <td>Iris-virginica</td>\n      <td>Iris-virginica</td>\n      <td>True</td>\n    </tr>\n    <tr>\n      <th>149</th>\n      <td>5.9</td>\n      <td>3.0</td>\n      <td>5.1</td>\n      <td>Iris-versicolor</td>\n      <td>Iris-virginica</td>\n      <td>False</td>\n    </tr>\n  </tbody>\n</table>\n</div>"
     },
     "metadata": {},
     "output_type": "display_data"
    },
    {
     "data": {
      "application/vnd.plotly.v1+json": {
       "data": [
        {
         "hovertemplate": "Is Correct=True<br>Sepal Length=%{x}<br>Sepal Width=%{y}<br>Petal Length=%{z}<extra></extra>",
         "legendgroup": "True",
         "marker": {
          "color": "green",
          "symbol": "circle"
         },
         "mode": "markers",
         "name": "True",
         "scene": "scene",
         "showlegend": true,
         "x": [
          5.1,
          4.9,
          4.7,
          4.6,
          5.0,
          5.4,
          4.6,
          5.0,
          4.4,
          4.9,
          5.4,
          4.8,
          4.8,
          4.3,
          5.8,
          5.7,
          5.4,
          5.1,
          5.7,
          5.1,
          5.4,
          5.1,
          4.6,
          5.1,
          4.8,
          5.0,
          5.0,
          5.2,
          5.2,
          4.7,
          4.8,
          5.4,
          5.2,
          5.5,
          4.9,
          5.0,
          5.5,
          4.9,
          4.4,
          5.1,
          5.0,
          4.5,
          4.4,
          5.0,
          5.1,
          4.8,
          5.1,
          4.6,
          5.3,
          5.0,
          6.4,
          5.5,
          6.5,
          5.7,
          6.3,
          4.9,
          6.6,
          5.2,
          5.0,
          5.9,
          6.0,
          6.1,
          5.6,
          6.7,
          5.6,
          5.8,
          6.2,
          5.6,
          5.9,
          6.1,
          6.3,
          6.1,
          6.4,
          6.6,
          6.0,
          5.7,
          5.5,
          5.5,
          5.8,
          6.0,
          5.4,
          6.0,
          6.3,
          5.6,
          5.5,
          5.5,
          6.1,
          5.8,
          5.0,
          5.6,
          5.7,
          5.7,
          6.2,
          5.1,
          5.7,
          6.3,
          7.1,
          6.3,
          6.5,
          7.6,
          7.3,
          6.7,
          7.2,
          6.5,
          6.4,
          6.8,
          6.4,
          6.5,
          7.7,
          7.7,
          6.9,
          7.7,
          6.7,
          7.2,
          6.4,
          7.2,
          7.4,
          7.9,
          6.4,
          6.3,
          6.1,
          7.7,
          6.3,
          6.4,
          6.9,
          6.7,
          6.9,
          6.8,
          6.7,
          6.7,
          6.5,
          6.2
         ],
         "y": [
          3.5,
          3.0,
          3.2,
          3.1,
          3.6,
          3.9,
          3.4,
          3.4,
          2.9,
          3.1,
          3.7,
          3.4,
          3.0,
          3.0,
          4.0,
          4.4,
          3.9,
          3.5,
          3.8,
          3.8,
          3.4,
          3.7,
          3.6,
          3.3,
          3.4,
          3.0,
          3.4,
          3.5,
          3.4,
          3.2,
          3.1,
          3.4,
          4.1,
          4.2,
          3.1,
          3.2,
          3.5,
          3.6,
          3.0,
          3.4,
          3.5,
          2.3,
          3.2,
          3.5,
          3.8,
          3.0,
          3.8,
          3.2,
          3.7,
          3.3,
          3.2,
          2.3,
          2.8,
          2.8,
          3.3,
          2.4,
          2.9,
          2.7,
          2.0,
          3.0,
          2.2,
          2.9,
          2.9,
          3.1,
          3.0,
          2.7,
          2.2,
          2.5,
          3.2,
          2.8,
          2.5,
          2.8,
          2.9,
          3.0,
          2.9,
          2.6,
          2.4,
          2.4,
          2.7,
          2.7,
          3.0,
          3.4,
          2.3,
          3.0,
          2.5,
          2.6,
          3.0,
          2.6,
          2.3,
          2.7,
          3.0,
          2.9,
          2.9,
          2.5,
          2.8,
          3.3,
          3.0,
          2.9,
          3.0,
          3.0,
          2.9,
          2.5,
          3.6,
          3.2,
          2.7,
          3.0,
          3.2,
          3.0,
          3.8,
          2.6,
          3.2,
          2.8,
          3.3,
          3.2,
          2.8,
          3.0,
          2.8,
          3.8,
          2.8,
          2.8,
          2.6,
          3.0,
          3.4,
          3.1,
          3.1,
          3.1,
          3.1,
          3.2,
          3.3,
          3.0,
          3.0,
          3.4
         ],
         "z": [
          1.4,
          1.4,
          1.3,
          1.5,
          1.4,
          1.7,
          1.4,
          1.5,
          1.4,
          1.5,
          1.5,
          1.6,
          1.4,
          1.1,
          1.2,
          1.5,
          1.3,
          1.4,
          1.7,
          1.5,
          1.7,
          1.5,
          1.0,
          1.7,
          1.9,
          1.6,
          1.6,
          1.5,
          1.4,
          1.6,
          1.6,
          1.5,
          1.5,
          1.4,
          1.5,
          1.2,
          1.3,
          1.4,
          1.3,
          1.5,
          1.3,
          1.3,
          1.3,
          1.6,
          1.9,
          1.4,
          1.6,
          1.4,
          1.5,
          1.4,
          4.5,
          4.0,
          4.6,
          4.5,
          4.7,
          3.3,
          4.6,
          3.9,
          3.5,
          4.2,
          4.0,
          4.7,
          3.6,
          4.4,
          4.5,
          4.1,
          4.5,
          3.9,
          4.8,
          4.0,
          4.9,
          4.7,
          4.3,
          4.4,
          4.5,
          3.5,
          3.8,
          3.7,
          3.9,
          5.1,
          4.5,
          4.5,
          4.4,
          4.1,
          4.0,
          4.4,
          4.6,
          4.0,
          3.3,
          4.2,
          4.2,
          4.2,
          4.3,
          3.0,
          4.1,
          6.0,
          5.9,
          5.6,
          5.8,
          6.6,
          6.3,
          5.8,
          6.1,
          5.1,
          5.3,
          5.5,
          5.3,
          5.5,
          6.7,
          6.9,
          5.7,
          6.7,
          5.7,
          6.0,
          5.6,
          5.8,
          6.1,
          6.4,
          5.6,
          5.1,
          5.6,
          6.1,
          5.6,
          5.5,
          5.4,
          5.6,
          5.1,
          5.9,
          5.7,
          5.2,
          5.2,
          5.4
         ],
         "type": "scatter3d"
        },
        {
         "hovertemplate": "Is Correct=False<br>Sepal Length=%{x}<br>Sepal Width=%{y}<br>Petal Length=%{z}<extra></extra>",
         "legendgroup": "False",
         "marker": {
          "color": "red",
          "symbol": "circle"
         },
         "mode": "markers",
         "name": "False",
         "scene": "scene",
         "showlegend": true,
         "x": [
          7.0,
          6.9,
          6.8,
          6.7,
          6.7,
          5.8,
          4.9,
          5.7,
          5.8,
          6.0,
          5.6,
          6.3,
          6.2,
          6.1,
          6.0,
          5.8,
          6.3,
          5.9
         ],
         "y": [
          3.2,
          3.1,
          2.8,
          3.0,
          3.1,
          2.7,
          2.5,
          2.5,
          2.8,
          2.2,
          2.8,
          2.7,
          2.8,
          3.0,
          3.0,
          2.7,
          2.5,
          3.0
         ],
         "z": [
          4.7,
          4.9,
          4.8,
          5.0,
          4.7,
          5.1,
          4.5,
          5.0,
          5.1,
          5.0,
          4.9,
          4.9,
          4.8,
          4.9,
          4.8,
          5.1,
          5.0,
          5.1
         ],
         "type": "scatter3d"
        }
       ],
       "layout": {
        "template": {
         "data": {
          "histogram2dcontour": [
           {
            "type": "histogram2dcontour",
            "colorbar": {
             "outlinewidth": 0,
             "ticks": ""
            },
            "colorscale": [
             [
              0.0,
              "#0d0887"
             ],
             [
              0.1111111111111111,
              "#46039f"
             ],
             [
              0.2222222222222222,
              "#7201a8"
             ],
             [
              0.3333333333333333,
              "#9c179e"
             ],
             [
              0.4444444444444444,
              "#bd3786"
             ],
             [
              0.5555555555555556,
              "#d8576b"
             ],
             [
              0.6666666666666666,
              "#ed7953"
             ],
             [
              0.7777777777777778,
              "#fb9f3a"
             ],
             [
              0.8888888888888888,
              "#fdca26"
             ],
             [
              1.0,
              "#f0f921"
             ]
            ]
           }
          ],
          "choropleth": [
           {
            "type": "choropleth",
            "colorbar": {
             "outlinewidth": 0,
             "ticks": ""
            }
           }
          ],
          "histogram2d": [
           {
            "type": "histogram2d",
            "colorbar": {
             "outlinewidth": 0,
             "ticks": ""
            },
            "colorscale": [
             [
              0.0,
              "#0d0887"
             ],
             [
              0.1111111111111111,
              "#46039f"
             ],
             [
              0.2222222222222222,
              "#7201a8"
             ],
             [
              0.3333333333333333,
              "#9c179e"
             ],
             [
              0.4444444444444444,
              "#bd3786"
             ],
             [
              0.5555555555555556,
              "#d8576b"
             ],
             [
              0.6666666666666666,
              "#ed7953"
             ],
             [
              0.7777777777777778,
              "#fb9f3a"
             ],
             [
              0.8888888888888888,
              "#fdca26"
             ],
             [
              1.0,
              "#f0f921"
             ]
            ]
           }
          ],
          "heatmap": [
           {
            "type": "heatmap",
            "colorbar": {
             "outlinewidth": 0,
             "ticks": ""
            },
            "colorscale": [
             [
              0.0,
              "#0d0887"
             ],
             [
              0.1111111111111111,
              "#46039f"
             ],
             [
              0.2222222222222222,
              "#7201a8"
             ],
             [
              0.3333333333333333,
              "#9c179e"
             ],
             [
              0.4444444444444444,
              "#bd3786"
             ],
             [
              0.5555555555555556,
              "#d8576b"
             ],
             [
              0.6666666666666666,
              "#ed7953"
             ],
             [
              0.7777777777777778,
              "#fb9f3a"
             ],
             [
              0.8888888888888888,
              "#fdca26"
             ],
             [
              1.0,
              "#f0f921"
             ]
            ]
           }
          ],
          "heatmapgl": [
           {
            "type": "heatmapgl",
            "colorbar": {
             "outlinewidth": 0,
             "ticks": ""
            },
            "colorscale": [
             [
              0.0,
              "#0d0887"
             ],
             [
              0.1111111111111111,
              "#46039f"
             ],
             [
              0.2222222222222222,
              "#7201a8"
             ],
             [
              0.3333333333333333,
              "#9c179e"
             ],
             [
              0.4444444444444444,
              "#bd3786"
             ],
             [
              0.5555555555555556,
              "#d8576b"
             ],
             [
              0.6666666666666666,
              "#ed7953"
             ],
             [
              0.7777777777777778,
              "#fb9f3a"
             ],
             [
              0.8888888888888888,
              "#fdca26"
             ],
             [
              1.0,
              "#f0f921"
             ]
            ]
           }
          ],
          "contourcarpet": [
           {
            "type": "contourcarpet",
            "colorbar": {
             "outlinewidth": 0,
             "ticks": ""
            }
           }
          ],
          "contour": [
           {
            "type": "contour",
            "colorbar": {
             "outlinewidth": 0,
             "ticks": ""
            },
            "colorscale": [
             [
              0.0,
              "#0d0887"
             ],
             [
              0.1111111111111111,
              "#46039f"
             ],
             [
              0.2222222222222222,
              "#7201a8"
             ],
             [
              0.3333333333333333,
              "#9c179e"
             ],
             [
              0.4444444444444444,
              "#bd3786"
             ],
             [
              0.5555555555555556,
              "#d8576b"
             ],
             [
              0.6666666666666666,
              "#ed7953"
             ],
             [
              0.7777777777777778,
              "#fb9f3a"
             ],
             [
              0.8888888888888888,
              "#fdca26"
             ],
             [
              1.0,
              "#f0f921"
             ]
            ]
           }
          ],
          "surface": [
           {
            "type": "surface",
            "colorbar": {
             "outlinewidth": 0,
             "ticks": ""
            },
            "colorscale": [
             [
              0.0,
              "#0d0887"
             ],
             [
              0.1111111111111111,
              "#46039f"
             ],
             [
              0.2222222222222222,
              "#7201a8"
             ],
             [
              0.3333333333333333,
              "#9c179e"
             ],
             [
              0.4444444444444444,
              "#bd3786"
             ],
             [
              0.5555555555555556,
              "#d8576b"
             ],
             [
              0.6666666666666666,
              "#ed7953"
             ],
             [
              0.7777777777777778,
              "#fb9f3a"
             ],
             [
              0.8888888888888888,
              "#fdca26"
             ],
             [
              1.0,
              "#f0f921"
             ]
            ]
           }
          ],
          "mesh3d": [
           {
            "type": "mesh3d",
            "colorbar": {
             "outlinewidth": 0,
             "ticks": ""
            }
           }
          ],
          "scatter": [
           {
            "fillpattern": {
             "fillmode": "overlay",
             "size": 10,
             "solidity": 0.2
            },
            "type": "scatter"
           }
          ],
          "parcoords": [
           {
            "type": "parcoords",
            "line": {
             "colorbar": {
              "outlinewidth": 0,
              "ticks": ""
             }
            }
           }
          ],
          "scatterpolargl": [
           {
            "type": "scatterpolargl",
            "marker": {
             "colorbar": {
              "outlinewidth": 0,
              "ticks": ""
             }
            }
           }
          ],
          "bar": [
           {
            "error_x": {
             "color": "#2a3f5f"
            },
            "error_y": {
             "color": "#2a3f5f"
            },
            "marker": {
             "line": {
              "color": "#E5ECF6",
              "width": 0.5
             },
             "pattern": {
              "fillmode": "overlay",
              "size": 10,
              "solidity": 0.2
             }
            },
            "type": "bar"
           }
          ],
          "scattergeo": [
           {
            "type": "scattergeo",
            "marker": {
             "colorbar": {
              "outlinewidth": 0,
              "ticks": ""
             }
            }
           }
          ],
          "scatterpolar": [
           {
            "type": "scatterpolar",
            "marker": {
             "colorbar": {
              "outlinewidth": 0,
              "ticks": ""
             }
            }
           }
          ],
          "histogram": [
           {
            "marker": {
             "pattern": {
              "fillmode": "overlay",
              "size": 10,
              "solidity": 0.2
             }
            },
            "type": "histogram"
           }
          ],
          "scattergl": [
           {
            "type": "scattergl",
            "marker": {
             "colorbar": {
              "outlinewidth": 0,
              "ticks": ""
             }
            }
           }
          ],
          "scatter3d": [
           {
            "type": "scatter3d",
            "line": {
             "colorbar": {
              "outlinewidth": 0,
              "ticks": ""
             }
            },
            "marker": {
             "colorbar": {
              "outlinewidth": 0,
              "ticks": ""
             }
            }
           }
          ],
          "scattermapbox": [
           {
            "type": "scattermapbox",
            "marker": {
             "colorbar": {
              "outlinewidth": 0,
              "ticks": ""
             }
            }
           }
          ],
          "scatterternary": [
           {
            "type": "scatterternary",
            "marker": {
             "colorbar": {
              "outlinewidth": 0,
              "ticks": ""
             }
            }
           }
          ],
          "scattercarpet": [
           {
            "type": "scattercarpet",
            "marker": {
             "colorbar": {
              "outlinewidth": 0,
              "ticks": ""
             }
            }
           }
          ],
          "carpet": [
           {
            "aaxis": {
             "endlinecolor": "#2a3f5f",
             "gridcolor": "white",
             "linecolor": "white",
             "minorgridcolor": "white",
             "startlinecolor": "#2a3f5f"
            },
            "baxis": {
             "endlinecolor": "#2a3f5f",
             "gridcolor": "white",
             "linecolor": "white",
             "minorgridcolor": "white",
             "startlinecolor": "#2a3f5f"
            },
            "type": "carpet"
           }
          ],
          "table": [
           {
            "cells": {
             "fill": {
              "color": "#EBF0F8"
             },
             "line": {
              "color": "white"
             }
            },
            "header": {
             "fill": {
              "color": "#C8D4E3"
             },
             "line": {
              "color": "white"
             }
            },
            "type": "table"
           }
          ],
          "barpolar": [
           {
            "marker": {
             "line": {
              "color": "#E5ECF6",
              "width": 0.5
             },
             "pattern": {
              "fillmode": "overlay",
              "size": 10,
              "solidity": 0.2
             }
            },
            "type": "barpolar"
           }
          ],
          "pie": [
           {
            "automargin": true,
            "type": "pie"
           }
          ]
         },
         "layout": {
          "autotypenumbers": "strict",
          "colorway": [
           "#636efa",
           "#EF553B",
           "#00cc96",
           "#ab63fa",
           "#FFA15A",
           "#19d3f3",
           "#FF6692",
           "#B6E880",
           "#FF97FF",
           "#FECB52"
          ],
          "font": {
           "color": "#2a3f5f"
          },
          "hovermode": "closest",
          "hoverlabel": {
           "align": "left"
          },
          "paper_bgcolor": "white",
          "plot_bgcolor": "#E5ECF6",
          "polar": {
           "bgcolor": "#E5ECF6",
           "angularaxis": {
            "gridcolor": "white",
            "linecolor": "white",
            "ticks": ""
           },
           "radialaxis": {
            "gridcolor": "white",
            "linecolor": "white",
            "ticks": ""
           }
          },
          "ternary": {
           "bgcolor": "#E5ECF6",
           "aaxis": {
            "gridcolor": "white",
            "linecolor": "white",
            "ticks": ""
           },
           "baxis": {
            "gridcolor": "white",
            "linecolor": "white",
            "ticks": ""
           },
           "caxis": {
            "gridcolor": "white",
            "linecolor": "white",
            "ticks": ""
           }
          },
          "coloraxis": {
           "colorbar": {
            "outlinewidth": 0,
            "ticks": ""
           }
          },
          "colorscale": {
           "sequential": [
            [
             0.0,
             "#0d0887"
            ],
            [
             0.1111111111111111,
             "#46039f"
            ],
            [
             0.2222222222222222,
             "#7201a8"
            ],
            [
             0.3333333333333333,
             "#9c179e"
            ],
            [
             0.4444444444444444,
             "#bd3786"
            ],
            [
             0.5555555555555556,
             "#d8576b"
            ],
            [
             0.6666666666666666,
             "#ed7953"
            ],
            [
             0.7777777777777778,
             "#fb9f3a"
            ],
            [
             0.8888888888888888,
             "#fdca26"
            ],
            [
             1.0,
             "#f0f921"
            ]
           ],
           "sequentialminus": [
            [
             0.0,
             "#0d0887"
            ],
            [
             0.1111111111111111,
             "#46039f"
            ],
            [
             0.2222222222222222,
             "#7201a8"
            ],
            [
             0.3333333333333333,
             "#9c179e"
            ],
            [
             0.4444444444444444,
             "#bd3786"
            ],
            [
             0.5555555555555556,
             "#d8576b"
            ],
            [
             0.6666666666666666,
             "#ed7953"
            ],
            [
             0.7777777777777778,
             "#fb9f3a"
            ],
            [
             0.8888888888888888,
             "#fdca26"
            ],
            [
             1.0,
             "#f0f921"
            ]
           ],
           "diverging": [
            [
             0,
             "#8e0152"
            ],
            [
             0.1,
             "#c51b7d"
            ],
            [
             0.2,
             "#de77ae"
            ],
            [
             0.3,
             "#f1b6da"
            ],
            [
             0.4,
             "#fde0ef"
            ],
            [
             0.5,
             "#f7f7f7"
            ],
            [
             0.6,
             "#e6f5d0"
            ],
            [
             0.7,
             "#b8e186"
            ],
            [
             0.8,
             "#7fbc41"
            ],
            [
             0.9,
             "#4d9221"
            ],
            [
             1,
             "#276419"
            ]
           ]
          },
          "xaxis": {
           "gridcolor": "white",
           "linecolor": "white",
           "ticks": "",
           "title": {
            "standoff": 15
           },
           "zerolinecolor": "white",
           "automargin": true,
           "zerolinewidth": 2
          },
          "yaxis": {
           "gridcolor": "white",
           "linecolor": "white",
           "ticks": "",
           "title": {
            "standoff": 15
           },
           "zerolinecolor": "white",
           "automargin": true,
           "zerolinewidth": 2
          },
          "scene": {
           "xaxis": {
            "backgroundcolor": "#E5ECF6",
            "gridcolor": "white",
            "linecolor": "white",
            "showbackground": true,
            "ticks": "",
            "zerolinecolor": "white",
            "gridwidth": 2
           },
           "yaxis": {
            "backgroundcolor": "#E5ECF6",
            "gridcolor": "white",
            "linecolor": "white",
            "showbackground": true,
            "ticks": "",
            "zerolinecolor": "white",
            "gridwidth": 2
           },
           "zaxis": {
            "backgroundcolor": "#E5ECF6",
            "gridcolor": "white",
            "linecolor": "white",
            "showbackground": true,
            "ticks": "",
            "zerolinecolor": "white",
            "gridwidth": 2
           }
          },
          "shapedefaults": {
           "line": {
            "color": "#2a3f5f"
           }
          },
          "annotationdefaults": {
           "arrowcolor": "#2a3f5f",
           "arrowhead": 0,
           "arrowwidth": 1
          },
          "geo": {
           "bgcolor": "white",
           "landcolor": "#E5ECF6",
           "subunitcolor": "white",
           "showland": true,
           "showlakes": true,
           "lakecolor": "white"
          },
          "title": {
           "x": 0.05
          },
          "mapbox": {
           "style": "light"
          }
         }
        },
        "scene": {
         "domain": {
          "x": [
           0.0,
           1.0
          ],
          "y": [
           0.0,
           1.0
          ]
         },
         "xaxis": {
          "title": {
           "text": "Sepal Length"
          }
         },
         "yaxis": {
          "title": {
           "text": "Sepal Width"
          }
         },
         "zaxis": {
          "title": {
           "text": "Petal Length"
          }
         }
        },
        "legend": {
         "title": {
          "text": "Is Correct"
         },
         "tracegroupgap": 0
        },
        "title": {
         "text": "Cluster Correctness"
        },
        "height": 600
       },
       "config": {
        "plotlyServerURL": "https://plot.ly"
       }
      },
      "text/html": "<div>                            <div id=\"de1e660d-2cfd-448d-8a1c-3a9bcc169f8d\" class=\"plotly-graph-div\" style=\"height:600px; width:100%;\"></div>            <script type=\"text/javascript\">                require([\"plotly\"], function(Plotly) {                    window.PLOTLYENV=window.PLOTLYENV || {};                                    if (document.getElementById(\"de1e660d-2cfd-448d-8a1c-3a9bcc169f8d\")) {                    Plotly.newPlot(                        \"de1e660d-2cfd-448d-8a1c-3a9bcc169f8d\",                        [{\"hovertemplate\":\"Is Correct=True<br>Sepal Length=%{x}<br>Sepal Width=%{y}<br>Petal Length=%{z}<extra></extra>\",\"legendgroup\":\"True\",\"marker\":{\"color\":\"green\",\"symbol\":\"circle\"},\"mode\":\"markers\",\"name\":\"True\",\"scene\":\"scene\",\"showlegend\":true,\"x\":[5.1,4.9,4.7,4.6,5.0,5.4,4.6,5.0,4.4,4.9,5.4,4.8,4.8,4.3,5.8,5.7,5.4,5.1,5.7,5.1,5.4,5.1,4.6,5.1,4.8,5.0,5.0,5.2,5.2,4.7,4.8,5.4,5.2,5.5,4.9,5.0,5.5,4.9,4.4,5.1,5.0,4.5,4.4,5.0,5.1,4.8,5.1,4.6,5.3,5.0,6.4,5.5,6.5,5.7,6.3,4.9,6.6,5.2,5.0,5.9,6.0,6.1,5.6,6.7,5.6,5.8,6.2,5.6,5.9,6.1,6.3,6.1,6.4,6.6,6.0,5.7,5.5,5.5,5.8,6.0,5.4,6.0,6.3,5.6,5.5,5.5,6.1,5.8,5.0,5.6,5.7,5.7,6.2,5.1,5.7,6.3,7.1,6.3,6.5,7.6,7.3,6.7,7.2,6.5,6.4,6.8,6.4,6.5,7.7,7.7,6.9,7.7,6.7,7.2,6.4,7.2,7.4,7.9,6.4,6.3,6.1,7.7,6.3,6.4,6.9,6.7,6.9,6.8,6.7,6.7,6.5,6.2],\"y\":[3.5,3.0,3.2,3.1,3.6,3.9,3.4,3.4,2.9,3.1,3.7,3.4,3.0,3.0,4.0,4.4,3.9,3.5,3.8,3.8,3.4,3.7,3.6,3.3,3.4,3.0,3.4,3.5,3.4,3.2,3.1,3.4,4.1,4.2,3.1,3.2,3.5,3.6,3.0,3.4,3.5,2.3,3.2,3.5,3.8,3.0,3.8,3.2,3.7,3.3,3.2,2.3,2.8,2.8,3.3,2.4,2.9,2.7,2.0,3.0,2.2,2.9,2.9,3.1,3.0,2.7,2.2,2.5,3.2,2.8,2.5,2.8,2.9,3.0,2.9,2.6,2.4,2.4,2.7,2.7,3.0,3.4,2.3,3.0,2.5,2.6,3.0,2.6,2.3,2.7,3.0,2.9,2.9,2.5,2.8,3.3,3.0,2.9,3.0,3.0,2.9,2.5,3.6,3.2,2.7,3.0,3.2,3.0,3.8,2.6,3.2,2.8,3.3,3.2,2.8,3.0,2.8,3.8,2.8,2.8,2.6,3.0,3.4,3.1,3.1,3.1,3.1,3.2,3.3,3.0,3.0,3.4],\"z\":[1.4,1.4,1.3,1.5,1.4,1.7,1.4,1.5,1.4,1.5,1.5,1.6,1.4,1.1,1.2,1.5,1.3,1.4,1.7,1.5,1.7,1.5,1.0,1.7,1.9,1.6,1.6,1.5,1.4,1.6,1.6,1.5,1.5,1.4,1.5,1.2,1.3,1.4,1.3,1.5,1.3,1.3,1.3,1.6,1.9,1.4,1.6,1.4,1.5,1.4,4.5,4.0,4.6,4.5,4.7,3.3,4.6,3.9,3.5,4.2,4.0,4.7,3.6,4.4,4.5,4.1,4.5,3.9,4.8,4.0,4.9,4.7,4.3,4.4,4.5,3.5,3.8,3.7,3.9,5.1,4.5,4.5,4.4,4.1,4.0,4.4,4.6,4.0,3.3,4.2,4.2,4.2,4.3,3.0,4.1,6.0,5.9,5.6,5.8,6.6,6.3,5.8,6.1,5.1,5.3,5.5,5.3,5.5,6.7,6.9,5.7,6.7,5.7,6.0,5.6,5.8,6.1,6.4,5.6,5.1,5.6,6.1,5.6,5.5,5.4,5.6,5.1,5.9,5.7,5.2,5.2,5.4],\"type\":\"scatter3d\"},{\"hovertemplate\":\"Is Correct=False<br>Sepal Length=%{x}<br>Sepal Width=%{y}<br>Petal Length=%{z}<extra></extra>\",\"legendgroup\":\"False\",\"marker\":{\"color\":\"red\",\"symbol\":\"circle\"},\"mode\":\"markers\",\"name\":\"False\",\"scene\":\"scene\",\"showlegend\":true,\"x\":[7.0,6.9,6.8,6.7,6.7,5.8,4.9,5.7,5.8,6.0,5.6,6.3,6.2,6.1,6.0,5.8,6.3,5.9],\"y\":[3.2,3.1,2.8,3.0,3.1,2.7,2.5,2.5,2.8,2.2,2.8,2.7,2.8,3.0,3.0,2.7,2.5,3.0],\"z\":[4.7,4.9,4.8,5.0,4.7,5.1,4.5,5.0,5.1,5.0,4.9,4.9,4.8,4.9,4.8,5.1,5.0,5.1],\"type\":\"scatter3d\"}],                        {\"template\":{\"data\":{\"histogram2dcontour\":[{\"type\":\"histogram2dcontour\",\"colorbar\":{\"outlinewidth\":0,\"ticks\":\"\"},\"colorscale\":[[0.0,\"#0d0887\"],[0.1111111111111111,\"#46039f\"],[0.2222222222222222,\"#7201a8\"],[0.3333333333333333,\"#9c179e\"],[0.4444444444444444,\"#bd3786\"],[0.5555555555555556,\"#d8576b\"],[0.6666666666666666,\"#ed7953\"],[0.7777777777777778,\"#fb9f3a\"],[0.8888888888888888,\"#fdca26\"],[1.0,\"#f0f921\"]]}],\"choropleth\":[{\"type\":\"choropleth\",\"colorbar\":{\"outlinewidth\":0,\"ticks\":\"\"}}],\"histogram2d\":[{\"type\":\"histogram2d\",\"colorbar\":{\"outlinewidth\":0,\"ticks\":\"\"},\"colorscale\":[[0.0,\"#0d0887\"],[0.1111111111111111,\"#46039f\"],[0.2222222222222222,\"#7201a8\"],[0.3333333333333333,\"#9c179e\"],[0.4444444444444444,\"#bd3786\"],[0.5555555555555556,\"#d8576b\"],[0.6666666666666666,\"#ed7953\"],[0.7777777777777778,\"#fb9f3a\"],[0.8888888888888888,\"#fdca26\"],[1.0,\"#f0f921\"]]}],\"heatmap\":[{\"type\":\"heatmap\",\"colorbar\":{\"outlinewidth\":0,\"ticks\":\"\"},\"colorscale\":[[0.0,\"#0d0887\"],[0.1111111111111111,\"#46039f\"],[0.2222222222222222,\"#7201a8\"],[0.3333333333333333,\"#9c179e\"],[0.4444444444444444,\"#bd3786\"],[0.5555555555555556,\"#d8576b\"],[0.6666666666666666,\"#ed7953\"],[0.7777777777777778,\"#fb9f3a\"],[0.8888888888888888,\"#fdca26\"],[1.0,\"#f0f921\"]]}],\"heatmapgl\":[{\"type\":\"heatmapgl\",\"colorbar\":{\"outlinewidth\":0,\"ticks\":\"\"},\"colorscale\":[[0.0,\"#0d0887\"],[0.1111111111111111,\"#46039f\"],[0.2222222222222222,\"#7201a8\"],[0.3333333333333333,\"#9c179e\"],[0.4444444444444444,\"#bd3786\"],[0.5555555555555556,\"#d8576b\"],[0.6666666666666666,\"#ed7953\"],[0.7777777777777778,\"#fb9f3a\"],[0.8888888888888888,\"#fdca26\"],[1.0,\"#f0f921\"]]}],\"contourcarpet\":[{\"type\":\"contourcarpet\",\"colorbar\":{\"outlinewidth\":0,\"ticks\":\"\"}}],\"contour\":[{\"type\":\"contour\",\"colorbar\":{\"outlinewidth\":0,\"ticks\":\"\"},\"colorscale\":[[0.0,\"#0d0887\"],[0.1111111111111111,\"#46039f\"],[0.2222222222222222,\"#7201a8\"],[0.3333333333333333,\"#9c179e\"],[0.4444444444444444,\"#bd3786\"],[0.5555555555555556,\"#d8576b\"],[0.6666666666666666,\"#ed7953\"],[0.7777777777777778,\"#fb9f3a\"],[0.8888888888888888,\"#fdca26\"],[1.0,\"#f0f921\"]]}],\"surface\":[{\"type\":\"surface\",\"colorbar\":{\"outlinewidth\":0,\"ticks\":\"\"},\"colorscale\":[[0.0,\"#0d0887\"],[0.1111111111111111,\"#46039f\"],[0.2222222222222222,\"#7201a8\"],[0.3333333333333333,\"#9c179e\"],[0.4444444444444444,\"#bd3786\"],[0.5555555555555556,\"#d8576b\"],[0.6666666666666666,\"#ed7953\"],[0.7777777777777778,\"#fb9f3a\"],[0.8888888888888888,\"#fdca26\"],[1.0,\"#f0f921\"]]}],\"mesh3d\":[{\"type\":\"mesh3d\",\"colorbar\":{\"outlinewidth\":0,\"ticks\":\"\"}}],\"scatter\":[{\"fillpattern\":{\"fillmode\":\"overlay\",\"size\":10,\"solidity\":0.2},\"type\":\"scatter\"}],\"parcoords\":[{\"type\":\"parcoords\",\"line\":{\"colorbar\":{\"outlinewidth\":0,\"ticks\":\"\"}}}],\"scatterpolargl\":[{\"type\":\"scatterpolargl\",\"marker\":{\"colorbar\":{\"outlinewidth\":0,\"ticks\":\"\"}}}],\"bar\":[{\"error_x\":{\"color\":\"#2a3f5f\"},\"error_y\":{\"color\":\"#2a3f5f\"},\"marker\":{\"line\":{\"color\":\"#E5ECF6\",\"width\":0.5},\"pattern\":{\"fillmode\":\"overlay\",\"size\":10,\"solidity\":0.2}},\"type\":\"bar\"}],\"scattergeo\":[{\"type\":\"scattergeo\",\"marker\":{\"colorbar\":{\"outlinewidth\":0,\"ticks\":\"\"}}}],\"scatterpolar\":[{\"type\":\"scatterpolar\",\"marker\":{\"colorbar\":{\"outlinewidth\":0,\"ticks\":\"\"}}}],\"histogram\":[{\"marker\":{\"pattern\":{\"fillmode\":\"overlay\",\"size\":10,\"solidity\":0.2}},\"type\":\"histogram\"}],\"scattergl\":[{\"type\":\"scattergl\",\"marker\":{\"colorbar\":{\"outlinewidth\":0,\"ticks\":\"\"}}}],\"scatter3d\":[{\"type\":\"scatter3d\",\"line\":{\"colorbar\":{\"outlinewidth\":0,\"ticks\":\"\"}},\"marker\":{\"colorbar\":{\"outlinewidth\":0,\"ticks\":\"\"}}}],\"scattermapbox\":[{\"type\":\"scattermapbox\",\"marker\":{\"colorbar\":{\"outlinewidth\":0,\"ticks\":\"\"}}}],\"scatterternary\":[{\"type\":\"scatterternary\",\"marker\":{\"colorbar\":{\"outlinewidth\":0,\"ticks\":\"\"}}}],\"scattercarpet\":[{\"type\":\"scattercarpet\",\"marker\":{\"colorbar\":{\"outlinewidth\":0,\"ticks\":\"\"}}}],\"carpet\":[{\"aaxis\":{\"endlinecolor\":\"#2a3f5f\",\"gridcolor\":\"white\",\"linecolor\":\"white\",\"minorgridcolor\":\"white\",\"startlinecolor\":\"#2a3f5f\"},\"baxis\":{\"endlinecolor\":\"#2a3f5f\",\"gridcolor\":\"white\",\"linecolor\":\"white\",\"minorgridcolor\":\"white\",\"startlinecolor\":\"#2a3f5f\"},\"type\":\"carpet\"}],\"table\":[{\"cells\":{\"fill\":{\"color\":\"#EBF0F8\"},\"line\":{\"color\":\"white\"}},\"header\":{\"fill\":{\"color\":\"#C8D4E3\"},\"line\":{\"color\":\"white\"}},\"type\":\"table\"}],\"barpolar\":[{\"marker\":{\"line\":{\"color\":\"#E5ECF6\",\"width\":0.5},\"pattern\":{\"fillmode\":\"overlay\",\"size\":10,\"solidity\":0.2}},\"type\":\"barpolar\"}],\"pie\":[{\"automargin\":true,\"type\":\"pie\"}]},\"layout\":{\"autotypenumbers\":\"strict\",\"colorway\":[\"#636efa\",\"#EF553B\",\"#00cc96\",\"#ab63fa\",\"#FFA15A\",\"#19d3f3\",\"#FF6692\",\"#B6E880\",\"#FF97FF\",\"#FECB52\"],\"font\":{\"color\":\"#2a3f5f\"},\"hovermode\":\"closest\",\"hoverlabel\":{\"align\":\"left\"},\"paper_bgcolor\":\"white\",\"plot_bgcolor\":\"#E5ECF6\",\"polar\":{\"bgcolor\":\"#E5ECF6\",\"angularaxis\":{\"gridcolor\":\"white\",\"linecolor\":\"white\",\"ticks\":\"\"},\"radialaxis\":{\"gridcolor\":\"white\",\"linecolor\":\"white\",\"ticks\":\"\"}},\"ternary\":{\"bgcolor\":\"#E5ECF6\",\"aaxis\":{\"gridcolor\":\"white\",\"linecolor\":\"white\",\"ticks\":\"\"},\"baxis\":{\"gridcolor\":\"white\",\"linecolor\":\"white\",\"ticks\":\"\"},\"caxis\":{\"gridcolor\":\"white\",\"linecolor\":\"white\",\"ticks\":\"\"}},\"coloraxis\":{\"colorbar\":{\"outlinewidth\":0,\"ticks\":\"\"}},\"colorscale\":{\"sequential\":[[0.0,\"#0d0887\"],[0.1111111111111111,\"#46039f\"],[0.2222222222222222,\"#7201a8\"],[0.3333333333333333,\"#9c179e\"],[0.4444444444444444,\"#bd3786\"],[0.5555555555555556,\"#d8576b\"],[0.6666666666666666,\"#ed7953\"],[0.7777777777777778,\"#fb9f3a\"],[0.8888888888888888,\"#fdca26\"],[1.0,\"#f0f921\"]],\"sequentialminus\":[[0.0,\"#0d0887\"],[0.1111111111111111,\"#46039f\"],[0.2222222222222222,\"#7201a8\"],[0.3333333333333333,\"#9c179e\"],[0.4444444444444444,\"#bd3786\"],[0.5555555555555556,\"#d8576b\"],[0.6666666666666666,\"#ed7953\"],[0.7777777777777778,\"#fb9f3a\"],[0.8888888888888888,\"#fdca26\"],[1.0,\"#f0f921\"]],\"diverging\":[[0,\"#8e0152\"],[0.1,\"#c51b7d\"],[0.2,\"#de77ae\"],[0.3,\"#f1b6da\"],[0.4,\"#fde0ef\"],[0.5,\"#f7f7f7\"],[0.6,\"#e6f5d0\"],[0.7,\"#b8e186\"],[0.8,\"#7fbc41\"],[0.9,\"#4d9221\"],[1,\"#276419\"]]},\"xaxis\":{\"gridcolor\":\"white\",\"linecolor\":\"white\",\"ticks\":\"\",\"title\":{\"standoff\":15},\"zerolinecolor\":\"white\",\"automargin\":true,\"zerolinewidth\":2},\"yaxis\":{\"gridcolor\":\"white\",\"linecolor\":\"white\",\"ticks\":\"\",\"title\":{\"standoff\":15},\"zerolinecolor\":\"white\",\"automargin\":true,\"zerolinewidth\":2},\"scene\":{\"xaxis\":{\"backgroundcolor\":\"#E5ECF6\",\"gridcolor\":\"white\",\"linecolor\":\"white\",\"showbackground\":true,\"ticks\":\"\",\"zerolinecolor\":\"white\",\"gridwidth\":2},\"yaxis\":{\"backgroundcolor\":\"#E5ECF6\",\"gridcolor\":\"white\",\"linecolor\":\"white\",\"showbackground\":true,\"ticks\":\"\",\"zerolinecolor\":\"white\",\"gridwidth\":2},\"zaxis\":{\"backgroundcolor\":\"#E5ECF6\",\"gridcolor\":\"white\",\"linecolor\":\"white\",\"showbackground\":true,\"ticks\":\"\",\"zerolinecolor\":\"white\",\"gridwidth\":2}},\"shapedefaults\":{\"line\":{\"color\":\"#2a3f5f\"}},\"annotationdefaults\":{\"arrowcolor\":\"#2a3f5f\",\"arrowhead\":0,\"arrowwidth\":1},\"geo\":{\"bgcolor\":\"white\",\"landcolor\":\"#E5ECF6\",\"subunitcolor\":\"white\",\"showland\":true,\"showlakes\":true,\"lakecolor\":\"white\"},\"title\":{\"x\":0.05},\"mapbox\":{\"style\":\"light\"}}},\"scene\":{\"domain\":{\"x\":[0.0,1.0],\"y\":[0.0,1.0]},\"xaxis\":{\"title\":{\"text\":\"Sepal Length\"}},\"yaxis\":{\"title\":{\"text\":\"Sepal Width\"}},\"zaxis\":{\"title\":{\"text\":\"Petal Length\"}}},\"legend\":{\"title\":{\"text\":\"Is Correct\"},\"tracegroupgap\":0},\"title\":{\"text\":\"Cluster Correctness\"},\"height\":600},                        {\"responsive\": true}                    ).then(function(){\n                            \nvar gd = document.getElementById('de1e660d-2cfd-448d-8a1c-3a9bcc169f8d');\nvar x = new MutationObserver(function (mutations, observer) {{\n        var display = window.getComputedStyle(gd).display;\n        if (!display || display === 'none') {{\n            console.log([gd, 'removed!']);\n            Plotly.purge(gd);\n            observer.disconnect();\n        }}\n}});\n\n// Listen for the removal of the full notebook cells\nvar notebookContainer = gd.closest('#notebook-container');\nif (notebookContainer) {{\n    x.observe(notebookContainer, {childList: true});\n}}\n\n// Listen for the clearing of the current output cell\nvar outputEl = gd.closest('.output');\nif (outputEl) {{\n    x.observe(outputEl, {childList: true});\n}}\n\n                        })                };                });            </script>        </div>"
     },
     "metadata": {},
     "output_type": "display_data"
    }
   ]
  }
 ]
}
